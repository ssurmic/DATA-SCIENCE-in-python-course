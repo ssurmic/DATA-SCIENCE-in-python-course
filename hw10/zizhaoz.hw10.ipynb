{
 "cells": [
  {
   "cell_type": "markdown",
   "metadata": {},
   "source": [
    "## <font color=blue> *Stats507  , WI 2019*</font>\n",
    "### Zizhao Zhang\n",
    "#### zizhaoz@umich.edu\n",
    "***\n",
    "\n",
    "Time spent on problems(hours):   *Problem 1*: 15 minutes , *Problem 2*: 4 hour *Problem 3*: 2 hour\n",
    "\n",
    "Persons discussed idea about: Hongru Fang，Thomas Fiore\n",
    "\n",
    "***\n",
    "**REQUIRE MODULE:**"
   ]
  },
  {
   "cell_type": "code",
   "execution_count": 41,
   "metadata": {},
   "outputs": [],
   "source": [
    "import tensorflow as tf\n",
    "import numpy as np\n",
    "import matplotlib.pyplot as plt\n",
    "import tempfile\n",
    "from tensorflow.examples.tutorials.mnist import input_data\n",
    "import warnings\n",
    "warnings.filterwarnings(\"ignore\")\n",
    "import tensorflow_probability as tfp"
   ]
  },
  {
   "cell_type": "markdown",
   "metadata": {},
   "source": [
    "### Problem 1: Warmup: Constructing a 3-tensor (1 point):\n",
    "Create a TensorFlow constant tensor **tflogo** with shape 5-by-4-by-3. This tensor will\n",
    "represent the 5-by-4-by-3 volume that contains the orange structure depicted in the logo\n",
    "(said another way, the orange structure is inscribed in this 5-by-4-by-3 volume). \n",
    "***\n",
    "Each cell of your tensor should correspond to one cell in this volume. Each entry of your tensor\n",
    "should be 1 if and only if the corresponding cell is part of the orange structure, and should\n",
    "be 0 otherwise.\n",
    "***\n",
    "Looking at the logo, we see that the orange structure can be broken into\n",
    "11 cubic cells, so your tensor **tflogo** should have precisely 11 non-zero entries. For the\n",
    "sake of consistency, the (0, 3, 2)-entry of your tensor (using 0-indexing) should correspond\n",
    "to the top rear corner of the structure where the cross of the “T” meets the top of the\n",
    "“F”. Note: if you look carefully, the shadows in the logo do not correctly reflect the\n",
    "orange structure—the shadow of the “T” is incorrectly drawn. Do not let this fool you!\n",
    "***\n",
    "To clarify: I drew the below illustration\n",
    "<a href=\"http://tinypic.com?ref=2lb3es\" target=\"_blank\"><img src=\"http://i67.tinypic.com/2lb3es.jpg\" border=\"0\" alt=\"Image and video hosting by TinyPic\"></a>\n"
   ]
  },
  {
   "cell_type": "code",
   "execution_count": 42,
   "metadata": {},
   "outputs": [
    {
     "data": {
      "text/plain": [
       "'1.13.1'"
      ]
     },
     "execution_count": 42,
     "metadata": {},
     "output_type": "execute_result"
    }
   ],
   "source": [
    "###make sure version\n",
    "tf.__version__"
   ]
  },
  {
   "cell_type": "markdown",
   "metadata": {},
   "source": [
    "since tf.zeros doesn't support indexing assignment for the \"ones\", which are the orange blocks, I chose to use numpy to create the basic structure first for the ease, and then convert back to a tensor\n",
    "\n",
    "create the tensor in five layers, starting from the \"rear corner\" labeled in the above image\n",
    "at the index 0- from top to down. <font color = red>In that first layer should be a \"L\" shape, 2nd, 4th, 5th layer should be a one dot at (2,2)\n"
   ]
  },
  {
   "cell_type": "code",
   "execution_count": 43,
   "metadata": {},
   "outputs": [],
   "source": [
    "#create 5 layers from top to down\n",
    "layer1 = np.zeros([4,3])\n",
    "#same reference\n",
    "layer2 = layer4 = layer5 = np.zeros([4,3])\n",
    "#layer4\n",
    "layer3 = np.zeros([4,3])"
   ]
  },
  {
   "cell_type": "code",
   "execution_count": 44,
   "metadata": {},
   "outputs": [],
   "source": [
    "layer1[3,2] = 1"
   ]
  },
  {
   "cell_type": "code",
   "execution_count": 45,
   "metadata": {},
   "outputs": [
    {
     "name": "stdout",
     "output_type": "stream",
     "text": [
      "[[0. 0. 0.]\n",
      " [0. 0. 0.]\n",
      " [0. 0. 0.]\n",
      " [0. 0. 1.]]\n"
     ]
    }
   ],
   "source": [
    "print(layer1)"
   ]
  },
  {
   "cell_type": "markdown",
   "metadata": {},
   "source": [
    "Now fill the layer1 to L shape"
   ]
  },
  {
   "cell_type": "code",
   "execution_count": 46,
   "metadata": {},
   "outputs": [],
   "source": [
    "#fill the 3rd column and 4th row to all ones\n",
    "layer1[:,2] = 1\n",
    "layer1[3,:] = 1"
   ]
  },
  {
   "cell_type": "markdown",
   "metadata": {},
   "source": [
    "2nd, 4th, 5th layer should be a one dot at (2,2), **note we only need to reference one of them**"
   ]
  },
  {
   "cell_type": "code",
   "execution_count": 47,
   "metadata": {},
   "outputs": [],
   "source": [
    "layer2[2,2] = 1"
   ]
  },
  {
   "cell_type": "markdown",
   "metadata": {},
   "source": [
    "assign layer3"
   ]
  },
  {
   "cell_type": "code",
   "execution_count": 48,
   "metadata": {},
   "outputs": [],
   "source": [
    "layer3[2,2] = 1\n",
    "layer3[2,1] = 1"
   ]
  },
  {
   "cell_type": "markdown",
   "metadata": {},
   "source": [
    "stack them into a 5 * 4 * 3 dimension numpy array"
   ]
  },
  {
   "cell_type": "code",
   "execution_count": 49,
   "metadata": {},
   "outputs": [
    {
     "name": "stdout",
     "output_type": "stream",
     "text": [
      "[[[0. 0. 1.]\n",
      "  [0. 0. 1.]\n",
      "  [0. 0. 1.]\n",
      "  [1. 1. 1.]]\n",
      "\n",
      " [[0. 0. 0.]\n",
      "  [0. 0. 0.]\n",
      "  [0. 0. 1.]\n",
      "  [0. 0. 0.]]\n",
      "\n",
      " [[0. 0. 0.]\n",
      "  [0. 0. 0.]\n",
      "  [0. 1. 1.]\n",
      "  [0. 0. 0.]]\n",
      "\n",
      " [[0. 0. 0.]\n",
      "  [0. 0. 0.]\n",
      "  [0. 0. 1.]\n",
      "  [0. 0. 0.]]\n",
      "\n",
      " [[0. 0. 0.]\n",
      "  [0. 0. 0.]\n",
      "  [0. 0. 1.]\n",
      "  [0. 0. 0.]]]\n"
     ]
    }
   ],
   "source": [
    "tensor = np.stack((layer1, layer2, layer3, layer4, layer5))\n",
    "print(tensor)"
   ]
  },
  {
   "cell_type": "markdown",
   "metadata": {},
   "source": [
    "As the nparray looks right, make it a tensor now"
   ]
  },
  {
   "cell_type": "code",
   "execution_count": 50,
   "metadata": {},
   "outputs": [],
   "source": [
    "tflogo = tf.constant(tensor, dtype = tf.float32)"
   ]
  },
  {
   "cell_type": "code",
   "execution_count": 51,
   "metadata": {},
   "outputs": [
    {
     "name": "stdout",
     "output_type": "stream",
     "text": [
      "[[[0. 0. 1.]\n",
      "  [0. 0. 1.]\n",
      "  [0. 0. 1.]\n",
      "  [1. 1. 1.]]\n",
      "\n",
      " [[0. 0. 0.]\n",
      "  [0. 0. 0.]\n",
      "  [0. 0. 1.]\n",
      "  [0. 0. 0.]]\n",
      "\n",
      " [[0. 0. 0.]\n",
      "  [0. 0. 0.]\n",
      "  [0. 1. 1.]\n",
      "  [0. 0. 0.]]\n",
      "\n",
      " [[0. 0. 0.]\n",
      "  [0. 0. 0.]\n",
      "  [0. 0. 1.]\n",
      "  [0. 0. 0.]]\n",
      "\n",
      " [[0. 0. 0.]\n",
      "  [0. 0. 0.]\n",
      "  [0. 0. 1.]\n",
      "  [0. 0. 0.]]]\n"
     ]
    }
   ],
   "source": [
    "print_sess = tf.Session()\n",
    "#print the tensor to check it\n",
    "print(tflogo.eval(session = print_sess))\n",
    "print_sess.close()"
   ]
  },
  {
   "cell_type": "markdown",
   "metadata": {},
   "source": [
    "### Probelm 2: Building and training simple models (4 points):\n",
    "In all cases, your answer should include placeholder variables x and ytrue , which will serve as the predictor (independent variable) and response (dependent variable), respectively. Please use **W** to denote a parameter that multiplies the\n",
    "predictor, and b to denote a bias parameter (i.e., a parameter that is added)."
   ]
  },
  {
   "cell_type": "markdown",
   "metadata": {},
   "source": [
    "#### 2.1: Logistic regression with a negative log-likelihood loss.\n",
    "\n",
    "In this model, which\n",
    "we discussed briefly in class, the binary variable Y is distributed as a Bernoulli\n",
    "random variable with success parameter $$ \\text {}\n",
    "\\sigma\\left(W^{T} X+b\\right), \\text { where } \\sigma(z)=(1+\\exp (-z))^{-1}\n",
    "\\text {is the logistic function, and } \n",
    "X \\in \\mathbb{R}^{6} \\text {is the predictor random variable, and } W \\in \\mathbb{R}^{6}, \n",
    "b \\in \\mathbb{R} \\text { are the model parameters. Derive the log-likelihood of } Y \n",
    "$$\n"
   ]
  },
  {
   "cell_type": "code",
   "execution_count": 52,
   "metadata": {},
   "outputs": [],
   "source": [
    "###we sure about the two place_holders\n",
    "x = tf.placeholder(tf.float32, [None,6])\n",
    "#set the dimension to 2 since binary\n",
    "ytrue = tf.placeholder(tf.float32, [None, 1])#response\n",
    "##and W is a dimensinoal vars used for mult\n",
    "W = tf.Variable(tf.ones([6,1]), dtype = tf.float32)\n",
    "#bias \n",
    "b = tf.Variable(tf.zeros(1), dtype = tf.float32)\n",
    "#define z = w^t*x+b\n",
    "z = tf.matmul(x,W) + b"
   ]
  },
  {
   "cell_type": "markdown",
   "metadata": {},
   "source": [
    "$$\\text {Note: }z = W^{T} X+b, \n",
    "\\operatorname{Pr}(Y=1 |  X,w) = \\sigma\\left(W^{T} X+b\\right),\n",
    "and  \n",
    " \\operatorname{Pr}(Y=0 |  X,w) = 1-\\sigma\\left(W^{T} X+b\\right) = \\sigma(-z)=(1+\\exp (z))^{-1}\n",
    " , \\text{then we have the negative loss } =\n",
    " -1/m*(\\sum_{i=1}^{m}\\left[y^{(i)} \\log \\left(h_{\\theta}\\left(x^{(i)}\\right)\\right)+\\left(1-y^{(i)}\\right) \\log \\left(1-h_{\\theta}\\left(x^{(i)}\\right)\\right)\\right])\n",
    "$$"
   ]
  },
  {
   "cell_type": "code",
   "execution_count": 53,
   "metadata": {},
   "outputs": [],
   "source": [
    "#then define probability of the bernoulli as h\n",
    "h = 1.0/(1.0 + tf.exp(-z))\n",
    "#define negative log-likelihood loss/cross entropy\n",
    "loss = -1.0*tf.reduce_mean((ytrue * tf.log(h)) + (1-ytrue)*tf.log(1-h))"
   ]
  },
  {
   "cell_type": "raw",
   "metadata": {},
   "source": [
    "###test it out#####optional\n",
    "init_sample = tf.global_variables_initializer()\n",
    "example1 = tf.Session()\n",
    "example1.run(init_sample)\n",
    "example1.run(loss, {x: np.random.rand(100,6),\n",
    "                    ytrue: np.random.randint(2, size=[100,1])})"
   ]
  },
  {
   "cell_type": "markdown",
   "metadata": {},
   "source": [
    "***\n",
    "#### 2.2 Estimating parameters in logistic regression.\n",
    "\n",
    "    • logistic_xtest.npy : contains a 500-by-6 matrix \n",
    "    • logistic_xtrain.npy : contains a 2000-by-6 matrix \n",
    "    • logistic_ytest.npy : contains a binary 500-dimensional vector \n",
    "    • logistic_ytrain.npy : contains a binary 2000-dimensional vector "
   ]
  },
  {
   "cell_type": "code",
   "execution_count": 54,
   "metadata": {},
   "outputs": [],
   "source": [
    "#load the npy files\n",
    "xtrain = np.load(\"./logistic_xtrain.npy\")\n",
    "xtest = np.load(\"./logistic_xtest.npy\")\n",
    "ytrain = np.load(\"./logistic_ytrain.npy\")\n",
    "ytest = np.load(\"./logistic_ytest.npy\")"
   ]
  },
  {
   "cell_type": "markdown",
   "metadata": {},
   "source": [
    "Load the training data and use it to obtain estimates of W and b by minimizing\n",
    "the negative log-likelihood via gradient descent. Another note: you’ll have to play\n",
    "around with the learning rate and the number of steps. Two good ways to check if\n",
    "optimization is finding a good minimizer:\n",
    "    \n",
    "    • Try printing the training data loss before and after optimization.\n",
    "\n",
    "    • Use the test data to validate your estimated parameters."
   ]
  },
  {
   "cell_type": "code",
   "execution_count": 55,
   "metadata": {},
   "outputs": [
    {
     "data": {
      "text/plain": [
       "((2000, 6), (2000, 1))"
      ]
     },
     "execution_count": 55,
     "metadata": {},
     "output_type": "execute_result"
    }
   ],
   "source": [
    "#check shapes\n",
    "xtrain.shape, ytrain.shape"
   ]
  },
  {
   "cell_type": "code",
   "execution_count": 56,
   "metadata": {},
   "outputs": [],
   "source": [
    "#Initialize the variables and assign their default value\n",
    "init = tf.global_variables_initializer()\n",
    "sess = tf.Session()\n",
    "sess.run(init)"
   ]
  },
  {
   "cell_type": "code",
   "execution_count": 57,
   "metadata": {},
   "outputs": [
    {
     "name": "stdout",
     "output_type": "stream",
     "text": [
      "The estimated W is [[0.95293915]\n",
      " [1.2035762 ]\n",
      " [1.4516773 ]\n",
      " [2.9309719 ]\n",
      " [4.5173965 ]\n",
      " [7.3281064 ]] and b is -0.93471\n",
      "Mean of the loss of 10000 iterations renders as 0.35209\n"
     ]
    }
   ],
   "source": [
    "#set up gradient descent optimizer with learning rate\n",
    "train_optimizer = tf.train.GradientDescentOptimizer(learning_rate = 0.1).minimize(loss)\n",
    "\n",
    "num_iters = 10000\n",
    "#list for plotting and storing cost\n",
    "cost = np.zeros(num_iters)\n",
    "#accuracy_list = np.zeros(num_iters)\n",
    "#sess.run(init)\n",
    "for i in range(num_iters):\n",
    "    #store the cost/loss\n",
    "    cost[i] = sess.run(loss, {x: xtrain,\n",
    "                                    ytrue: ytrain})\n",
    "    sess.run(train_optimizer, {x:xtrain, ytrue:ytrain})\n",
    "print(\"The estimated W is %s and b is %.5f\"% (sess.run([W,b])[0],sess.run([W,b])[1]))\n",
    "print(\"Mean of the loss of %d iterations renders as %.5f\"%(num_iters, np.mean(cost)))"
   ]
  },
  {
   "cell_type": "markdown",
   "metadata": {},
   "source": [
    "Plot the iteration and the losses"
   ]
  },
  {
   "cell_type": "code",
   "execution_count": 58,
   "metadata": {},
   "outputs": [
    {
     "data": {
      "image/png": "[encoded data removed]",
      "text/plain": [
       "<Figure size 432x288 with 1 Axes>"
      ]
     },
     "metadata": {
      "needs_background": "light"
     },
     "output_type": "display_data"
    }
   ],
   "source": [
    "plt.plot(cost)\n",
    "#plt.axis([0,num_iters,0,np.max(cost)])\n",
    "plt.xlabel(\"iterations\")\n",
    "plt.ylabel(\"cost\")\n",
    "_ = plt.show()"
   ]
  },
  {
   "cell_type": "markdown",
   "metadata": {},
   "source": [
    "#### 2.3: Evaluating logistic regression on test data.\n",
    "Load the test data. What is the\n",
    "negative log-likelihood of your model on this test data? That is, what is the negative\n",
    "log-likelihood when you use your estimated parameters with the previously unseen\n",
    "test data?"
   ]
  },
  {
   "cell_type": "code",
   "execution_count": 59,
   "metadata": {},
   "outputs": [
    {
     "data": {
      "text/plain": [
       "((500, 6), (500, 1))"
      ]
     },
     "execution_count": 59,
     "metadata": {},
     "output_type": "execute_result"
    }
   ],
   "source": [
    "###test datas are already loaded\n",
    "#check shapes\n",
    "xtest.shape, ytest.shape"
   ]
  },
  {
   "cell_type": "markdown",
   "metadata": {},
   "source": [
    "Accuracy is also calculated"
   ]
  },
  {
   "cell_type": "code",
   "execution_count": 60,
   "metadata": {},
   "outputs": [
    {
     "name": "stdout",
     "output_type": "stream",
     "text": [
      "The estimated W is [[0.95293915]\n",
      " [1.2035762 ]\n",
      " [1.4516773 ]\n",
      " [2.9309719 ]\n",
      " [4.5173965 ]\n",
      " [7.3281064 ]] and b is -0.93471\n",
      "Negative likelihood on the test set is  0.32706\n",
      "The test accuracy is 0.858000\n"
     ]
    }
   ],
   "source": [
    "threshold = 0.5\n",
    "correct_prediction = tf.cast(tf.greater(h, threshold), tf.float32)\n",
    "accuracy = tf.reduce_mean(tf.to_float(tf.equal(ytrue, correct_prediction)))\n",
    "print(\"The estimated W is %s and b is %.5f\"% (W.eval(session = sess),sess.run(b)))\n",
    "print(\"Negative likelihood on the test set is  %.5f\"% sess.run(loss, {x:xtest, ytrue: ytest}))\n",
    "#optional\n",
    "print(\"The test accuracy is %f\"% sess.run(accuracy, {x:xtest, ytrue: ytest}))"
   ]
  },
  {
   "cell_type": "markdown",
   "metadata": {},
   "source": [
    "#### 2.4: Evaluating the estimated logistic parameters.\n",
    "The data was, in reality, generated with:\n",
    "\n",
    "$$W=(1,1,2,3,5,8), \\quad b=-1$$\n",
    "Write TensorFlow expressions to compute the squared error between your estimated\n",
    "parameters and their true values. Evaluate the error in recovering W and b separately. What are the squared errors? **Note:** you need only evaluate the error of\n",
    "your final estimates, not at every step."
   ]
  },
  {
   "cell_type": "code",
   "execution_count": 61,
   "metadata": {},
   "outputs": [],
   "source": [
    "###contruct new Ws and b \n",
    "#make sure W is 6*1\n",
    "W_true = tf.constant(np.array([[1], [1], [2], [3], [5], [8]]), dtype=tf.float32)\n",
    "b_true = tf.constant(-1,  dtype=tf.float32)"
   ]
  },
  {
   "cell_type": "code",
   "execution_count": 62,
   "metadata": {},
   "outputs": [
    {
     "name": "stdout",
     "output_type": "stream",
     "text": [
      "Squared error of W is 1.033428 and Squared error of b is 0.004262\n"
     ]
    }
   ],
   "source": [
    "#init_true = tf.variables_initializer((W_true,b_true)).run(session = sess)\n",
    "#run session\n",
    "#sess.run(init_true)\n",
    "#cannot initialize globally or else W value changes\n",
    "#tf.global_variables_initializer().run(session = sess)\n",
    "'''calculate square_error'''\n",
    "Wsqerr = tf.reduce_sum(tf.square(sess.run([W,b])[0] - W_true))\n",
    "bsqerr = tf.reduce_sum(tf.square(sess.run([W,b])[1] - b_true))\n",
    "print(\"Squared error of W is %f and Squared error of b is %f\" % \\\n",
    "      (Wsqerr.eval(session = sess), bsqerr.eval(session = sess)))"
   ]
  },
  {
   "cell_type": "markdown",
   "metadata": {},
   "source": [
    "#### 2.5: \n",
    "For ease of grading, please make the variables from the above problems available\n",
    "in a dictionary called **results_logistic**. The dictionary should have keys **’W’**,\n",
    "**’Wsqerr’**, **’b’**, **’bsqerr’**, **’log_lik_test’** , with respective values sess.run(x)\n",
    "where x ranges over the corresponding quantities. For example, if my squared error\n",
    "for W is stored in a TF variable called W_squared_error, then the key ’Wsqerr’\n",
    "should have value sess.run(W_squared_error)."
   ]
  },
  {
   "cell_type": "code",
   "execution_count": 63,
   "metadata": {},
   "outputs": [],
   "source": [
    "results_logistic = {\"W\": sess.run(W),\n",
    "                    \"Wsqerr\": sess.run(Wsqerr),\n",
    "                    \"b\": sess.run(b),\n",
    "                    \"bsqerr\": sess.run(bsqerr),\n",
    "                    \"log_lik_test\": sess.run(loss, {x:xtest, ytrue: ytest})}"
   ]
  },
  {
   "cell_type": "code",
   "execution_count": 64,
   "metadata": {},
   "outputs": [
    {
     "name": "stdout",
     "output_type": "stream",
     "text": [
      "{'W': array([[0.95293915],\n",
      "       [1.2035762 ],\n",
      "       [1.4516773 ],\n",
      "       [2.9309719 ],\n",
      "       [4.5173965 ],\n",
      "       [7.3281064 ]], dtype=float32), 'Wsqerr': 1.0334278, 'b': array([-0.9347123], dtype=float32), 'bsqerr': 0.004262485, 'log_lik_test': 0.327055}\n"
     ]
    }
   ],
   "source": [
    "print(results_logistic)"
   ]
  },
  {
   "cell_type": "markdown",
   "metadata": {},
   "source": [
    "#### 2.6: Classification of normally distributed data. \n",
    "\\begin{array}{l}{K=3 \\text { different classes. Each class } k \\in\\{1,2,3\\} \\text { has an associated mean } \\mu_{k} \\in R \\text { and }} \\\\ {\\text { variance } \\sigma_{k}^{2} \\in \\mathbb{R}, \\text { and all observations from a given class are i.i.d. } \\mathcal{N}\\left(\\mu_{k}, \\sigma_{k}^{2}\\right) . \\text { The }} \\\\ {\\text { four files are: }}\\end{array}"
   ]
  },
  {
   "cell_type": "code",
   "execution_count": 65,
   "metadata": {},
   "outputs": [],
   "source": [
    "#load the data\n",
    "normal_xtest = np.load(\"./normal_xtest.npy\")\n",
    "normal_xtrain = np.load(\"./normal_xtrain.npy\")\n",
    "#labels\n",
    "normal_ytrain = np.load(\"./normal_ytrain.npy\")\n",
    "normal_ytest = np.load(\"./normal_ytest.npy\")"
   ]
  },
  {
   "cell_type": "code",
   "execution_count": 66,
   "metadata": {},
   "outputs": [
    {
     "data": {
      "text/plain": [
       "((500, 1), (2000, 1), (2000, 3), (500, 3))"
      ]
     },
     "execution_count": 66,
     "metadata": {},
     "output_type": "execute_result"
    }
   ],
   "source": [
    "#verify shapes\n",
    "normal_xtest.shape, normal_xtrain.shape, normal_ytrain.shape, normal_ytest.shape"
   ]
  },
  {
   "cell_type": "code",
   "execution_count": 67,
   "metadata": {},
   "outputs": [],
   "source": [
    "import warnings\n",
    "warnings.filterwarnings(\"ignore\")\n",
    "####set ups\n",
    "K = 3\n",
    "mu = tf.Variable(tf.ones([1,K]), dtype = tf.float32)\n",
    "#note this is var-sigma squared\n",
    "sigma_2 = tf.Variable(tf.ones([1,K]), dtype = tf.float32)\n",
    "##ytrue and x\n",
    "x = tf.placeholder(tf.float32, [None, 1])\n",
    "ytrue = tf.placeholder( tf.float32, [None, 3])\n",
    "#normal distribution\n",
    "normal_dis =  tfp.distributions.Normal(loc=mu, scale=tf.sqrt(sigma_2)).prob(x)\n",
    "#define cross-entropy\n",
    "cross_entropy = -1.0 * tf.reduce_mean(tf.reduce_sum(ytrue * tf.log(normal_dis)))\n",
    "# Optimize via stochastic gradient descent\n",
    "train_step = tf.train.AdagradOptimizer(0.05).minimize(cross_entropy)"
   ]
  },
  {
   "cell_type": "code",
   "execution_count": 68,
   "metadata": {},
   "outputs": [
    {
     "name": "stdout",
     "output_type": "stream",
     "text": [
      "By training, means're predicated as [-1.0076301   0.00449134  3.004821  ] \n",
      " and the variances're predicated as [0.53338194 1.0087556  1.515918  ] \n"
     ]
    }
   ],
   "source": [
    "###take 10000 steps as always,\n",
    "num_iters = 10000\n",
    "# Start up a session.\n",
    "sess = tf.InteractiveSession()\n",
    "tf.global_variables_initializer().run()\n",
    "#sess.run(init)\n",
    "cost = np.zeros(num_iters)\n",
    "for i in range(num_iters):\n",
    "    sess.run(train_step, feed_dict={x: normal_xtrain, ytrue: normal_ytrain})\n",
    "    cost[i] = sess.run(cross_entropy, {x: normal_xtest, ytrue: normal_ytest})\n",
    "print(\"By training, means're predicated as %s \\n and the variances're predicated as %s \"%\n",
    "      (sess.run([mu, sigma_2])[0][0],sess.run([mu, sigma_2])[1][0] ))"
   ]
  },
  {
   "cell_type": "markdown",
   "metadata": {},
   "source": [
    "#### 2.7: Evaluating loss on test data\n",
    "Load the test data. What is the cross-entropy of\n",
    "your model on this test data? That is, what is the cross-entropy when you use your\n",
    "estimated parameters with the previously unseen test data?"
   ]
  },
  {
   "cell_type": "code",
   "execution_count": 69,
   "metadata": {},
   "outputs": [
    {
     "data": {
      "image/png": "[encoded data removed]",
      "text/plain": [
       "<Figure size 432x288 with 1 Axes>"
      ]
     },
     "metadata": {
      "needs_background": "light"
     },
     "output_type": "display_data"
    }
   ],
   "source": [
    "plt.plot(cost)\n",
    "#plt.axis([0,num_iters,0,np.max(cost)])\n",
    "plt.xlabel(\"iterations\")\n",
    "plt.ylabel(\"cross_entropy\")\n",
    "_ = plt.show()"
   ]
  },
  {
   "cell_type": "code",
   "execution_count": 70,
   "metadata": {},
   "outputs": [
    {
     "name": "stdout",
     "output_type": "stream",
     "text": [
      "cross-entropy is 686.346802 \n"
     ]
    }
   ],
   "source": [
    "print(\"cross-entropy is %f \"%sess.run(cross_entropy, {x: normal_xtest, ytrue: normal_ytest}))"
   ]
  },
  {
   "cell_type": "markdown",
   "metadata": {},
   "source": [
    "#### 2.8: Evaluating parameter estimation on test data.\n",
    "The true parameter values for the three classes were $$\n",
    "\\begin{aligned} \\mu_{0} &=-1, \\sigma_{0}^{2}=0.5 \\\\ \\mu_{1} &=0, \\sigma_{1}^{2}=1 \\\\ \\mu_{2} &=3, \\sigma_{2}^{2}=1.5 \\end{aligned}\n",
    "$$\n",
    "Write a TensorFlow expression to compute the total squared error (i.e., summed\n",
    "over the six parameters) "
   ]
  },
  {
   "cell_type": "code",
   "execution_count": 71,
   "metadata": {},
   "outputs": [
    {
     "name": "stdout",
     "output_type": "stream",
     "text": [
      "Squared error is 0.001546 \n"
     ]
    }
   ],
   "source": [
    "mu_true = tf.constant([[-1, 0, 3]], dtype = tf.float32)\n",
    "sigma_true = tf.constant([[0.5, 1, 1.5]], dtype = tf.float32)\n",
    "#squared error\n",
    "class_error = tf.reduce_sum(tf.square(mu - mu_true)) + \\\n",
    "              tf.reduce_sum(tf.square(sigma_2 - sigma_true))\n",
    "print(\"Squared error is %f \"%sess.run(class_error))"
   ]
  },
  {
   "cell_type": "markdown",
   "metadata": {},
   "source": [
    "#### 2.9: Evaluating classification error on test data. \n",
    "Write and evaluate a TensorFlow\n",
    "expression that computes the classification error of your estimated model averaged\n",
    "over the test data."
   ]
  },
  {
   "cell_type": "code",
   "execution_count": 72,
   "metadata": {},
   "outputs": [
    {
     "name": "stdout",
     "output_type": "stream",
     "text": [
      "error rate is 0.268000 \n"
     ]
    }
   ],
   "source": [
    "correct_prediction = tf.equal(tf.argmax(normal_dis, 1), tf.argmax(ytrue, 1))\n",
    "error_rate = 1 - tf.reduce_mean(tf.cast(correct_prediction, tf.float32))\n",
    "print(\"error rate is %f \"%sess.run(error_rate, {x:normal_xtest, ytrue: normal_ytest}))"
   ]
  },
  {
   "cell_type": "markdown",
   "metadata": {},
   "source": [
    "#### 2.10: \n",
    " Again, for ease of grading, define a dictionary called results_class, with keys\n",
    "’mu’, ’sigma2’, ’crossent_test’, ’class_error’ with keys corresponding to\n",
    "the evaluation (again using sess.run) of your estimate of $$\\mu, \\sigma^2$$\n",
    ", the cross-entropy\n",
    "on the test set, and the classification error from the previous problem"
   ]
  },
  {
   "cell_type": "code",
   "execution_count": 73,
   "metadata": {},
   "outputs": [
    {
     "name": "stdout",
     "output_type": "stream",
     "text": [
      "{'mu': array([-1.0076301 ,  0.00449134,  3.004821  ], dtype=float32), 'sigma2': array([0.53338194, 1.0087556 , 1.515918  ], dtype=float32), 'crossent_test': 686.3468, 'class_error': 0.268}\n"
     ]
    }
   ],
   "source": [
    "results_class = {\"mu\" : sess.run([mu, sigma_2])[0][0],\n",
    "                 \"sigma2\" : sess.run([mu, sigma_2])[1][0],\n",
    "                 \"crossent_test\" : sess.run(cross_entropy, {x: normal_xtest,\n",
    "                                                             ytrue: normal_ytest}),\n",
    "                 \"class_error\" : sess.run(error_rate, {x:normal_xtest, ytrue: normal_ytest})}\n",
    "print(results_class)"
   ]
  },
  {
   "cell_type": "markdown",
   "metadata": {},
   "source": [
    "### Problem 3: Building a Complicated Model (1 point)\n",
    "I chose to follow along: https://www.tensorflow.org/tutorials/estimators/boosted_trees\n",
    "under the ML at production scale\n",
    "***\n",
    "Details please follow tutorial.ipynb"
   ]
  },
  {
   "cell_type": "markdown",
   "metadata": {},
   "source": [
    "#### Problem 4: "
   ]
  },
  {
   "cell_type": "markdown",
   "metadata": {},
   "source": [
    "#### 4.1 :\n",
    "follow the mnist page:https://cloud.google.com/ml-engine/docs/tensorflow/distributed-tensorflow-mnist-cloud-datalab\n",
    "\n",
    "result is shown as below as the prediction is based on the figure drawn\n",
    "<a href=\"http://tinypic.com?ref=3449x15\" target=\"_blank\"><img src=\"http://i68.tinypic.com/3449x15.png\" border=\"0\" alt=\"Image and video hosting by TinyPic\"></a>"
   ]
  },
  {
   "cell_type": "markdown",
   "metadata": {},
   "source": [
    "#### 4.2:\n",
    "Let us return to the classifier that you trained above on the normally-distributed\n",
    "data. In this and the next several subproblems, we will take an adaptation of that\n",
    "model and upload it to GCP where it will serve as a prediction node similar to the one\n",
    "you built in the tutorial above. Train the same classifier on the same training data,\n",
    "but this time, save the resulting trained model in a directory called normal_trained.\n",
    "You’ll want to use the tf.saved_model.simple_save function. Refer to the GCP documentation at\n",
    "https://cloud.google.com/ml-engine/docs/deploying-models,\n",
    "and the documentation on the tf.saved_model.simple_save function, here: https:\n",
    "//www.tensorflow.org/programmers_guide/saved_model#save_and_restore_models\n",
    "Please include a copy of this model directory in your submission. Hint: a stumbling\n",
    "block in this problem is figuring out what to supply as the inputs and outputs arguments to the simple_save function. Your arguments should look something like\n",
    "inputs = {’x’:x}, outputs = {’prediction’:prediction}."
   ]
  },
  {
   "cell_type": "code",
   "execution_count": null,
   "metadata": {},
   "outputs": [],
   "source": []
  },
  {
   "cell_type": "code",
   "execution_count": 74,
   "metadata": {},
   "outputs": [],
   "source": [
    "import os\n",
    "if not os.path.exists(\"normal_trained\"):\n",
    "    tf.saved_model.simple_save(sess, \"normal_trained\", inputs = {\"x\":x}, \n",
    "                           outputs = {\"prediction\": normal_dis})"
   ]
  },
  {
   "cell_type": "markdown",
   "metadata": {},
   "source": [
    "#### 4.4:\n",
    "\n",
    "Model version created as below \n",
    "<a href=\"http://tinypic.com?ref=258wdjd\" target=\"_blank\"><img src=\"http://i67.tinypic.com/258wdjd.png\" border=\"0\" alt=\"Image and video hosting by TinyPic\"></a>"
   ]
  },
  {
   "cell_type": "markdown",
   "metadata": {},
   "source": [
    "#### 4.5: \n",
    "commands and screenshots are listed below"
   ]
  },
  {
   "cell_type": "raw",
   "metadata": {},
   "source": [
    "vim instance.hw10.json\n",
    "\n",
    "{“x”:4}"
   ]
  },
  {
   "cell_type": "markdown",
   "metadata": {},
   "source": [
    "#### 4.6:\n",
    "commands and screenshots of shell:\n",
    "<a href=\"http://tinypic.com?ref=264osye\" target=\"_blank\"><img src=\"http://i65.tinypic.com/264osye.png\" border=\"0\" alt=\"Image and video hosting by TinyPic\"></a>"
   ]
  },
  {
   "cell_type": "raw",
   "metadata": {},
   "source": [
    "MODEL_NAME=stats507w19_hw10_normal\n",
    "INPUT_DATA_FILE=\"instance.hw10.json\"\n",
    "VERSION_NAME=stats507w19_hw10_normal\n",
    "\n",
    "\n",
    "gcloud ml-engine predict --model $MODEL_NAME  \\\n",
    "                   --version $VERSION_NAME \\\n",
    "                   --json-instances instance.hw10.json\n",
    "\n",
    "gcloud ml-engine predict --model $MODEL_NAME  \\\n",
    "                   --version $VERSION_NAME \\\n",
    "                   --json-instances $INPUT_DATA_FILE"
   ]
  },
  {
   "cell_type": "markdown",
   "metadata": {},
   "source": [
    "##### note the class is from the third class, which is class 2 due to zero based index"
   ]
  },
  {
   "cell_type": "code",
   "execution_count": null,
   "metadata": {},
   "outputs": [],
   "source": []
  },
  {
   "cell_type": "code",
   "execution_count": null,
   "metadata": {},
   "outputs": [],
   "source": []
  },
  {
   "cell_type": "code",
   "execution_count": null,
   "metadata": {},
   "outputs": [],
   "source": []
  },
  {
   "cell_type": "code",
   "execution_count": null,
   "metadata": {},
   "outputs": [],
   "source": []
  },
  {
   "cell_type": "code",
   "execution_count": null,
   "metadata": {},
   "outputs": [],
   "source": []
  }
 ],
 "metadata": {
  "kernelspec": {
   "display_name": "Python 3",
   "language": "python",
   "name": "python3"
  },
  "language_info": {
   "codemirror_mode": {
    "name": "ipython",
    "version": 3
   },
   "file_extension": ".py",
   "mimetype": "text/x-python",
   "name": "python",
   "nbconvert_exporter": "python",
   "pygments_lexer": "ipython3",
   "version": "3.7.3"
  }
 },
 "nbformat": 4,
 "nbformat_minor": 2
}
