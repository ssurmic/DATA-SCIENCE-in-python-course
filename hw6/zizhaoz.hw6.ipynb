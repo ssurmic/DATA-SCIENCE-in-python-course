{
 "cells": [
  {
   "cell_type": "markdown",
   "metadata": {},
   "source": [
    "## <font color=blue> Stats507-001 , WI 2019</font>\n",
    "### Zizhao Zhang\n",
    "#### zizhaoz@umich.edu\n",
    "***\n",
    "\n",
    "Time spent on problems(hours):   *Problem 1*: 0.5 , *Problem 2*: 1  *Problem 3*: 1.5 \n",
    "\n",
    "***\n",
    "\n",
    "Persons discussed idea about: None"
   ]
  },
  {
   "cell_type": "code",
   "execution_count": 1,
   "metadata": {},
   "outputs": [],
   "source": [
    "import pandas as pd\n",
    "import numpy as np\n",
    "import matplotlib as mp\n",
    "import matplotlib.pyplot as plt\n",
    "from scipy import stats\n",
    "from scipy.stats import skellam\n",
    "from scipy.stats.stats import pearsonr   "
   ]
  },
  {
   "cell_type": "markdown",
   "metadata": {},
   "source": [
    "### Problem 1: Warmup: constructing pandas objects (2 points)"
   ]
  },
  {
   "cell_type": "markdown",
   "metadata": {},
   "source": [
    "#### 1.1:\n",
    "Create a **pandas** Series object with indices given by the first 10 letters of the English\n",
    "alphabet and values given by the first 10 primes."
   ]
  },
  {
   "cell_type": "code",
   "execution_count": 2,
   "metadata": {},
   "outputs": [],
   "source": [
    "####Ascii generated alphabet\n",
    "alphabet = [chr(i) for i in range(97,123)]\n",
    "primes_10 = [x for x in range(2, 30) if not 0 in map(lambda z : x % z, range(2,x))]"
   ]
  },
  {
   "cell_type": "code",
   "execution_count": 3,
   "metadata": {},
   "outputs": [
    {
     "data": {
      "text/plain": [
       "a     2\n",
       "b     3\n",
       "c     5\n",
       "d     7\n",
       "e    11\n",
       "f    13\n",
       "g    17\n",
       "h    19\n",
       "i    23\n",
       "j    29\n",
       "dtype: int64"
      ]
     },
     "execution_count": 3,
     "metadata": {},
     "output_type": "execute_result"
    }
   ],
   "source": [
    "pd.Series(primes_10,index = alphabet[:10])"
   ]
  },
  {
   "cell_type": "markdown",
   "metadata": {},
   "source": [
    "#### 1.2:\n",
    "Below is a table that might arise in a genetics experiment. Reconstruct this as a\n",
    "pandas DataFrame <img src=\"./pandas_sample.png\" width=\"400\" height = \"300\"/>"
   ]
  },
  {
   "cell_type": "code",
   "execution_count": 4,
   "metadata": {},
   "outputs": [
    {
     "data": {
      "text/html": [
       "<div>\n",
       "<style scoped>\n",
       "    .dataframe tbody tr th:only-of-type {\n",
       "        vertical-align: middle;\n",
       "    }\n",
       "\n",
       "    .dataframe tbody tr th {\n",
       "        vertical-align: top;\n",
       "    }\n",
       "\n",
       "    .dataframe thead th {\n",
       "        text-align: right;\n",
       "    }\n",
       "</style>\n",
       "<table border=\"1\" class=\"dataframe\">\n",
       "  <thead>\n",
       "    <tr style=\"text-align: right;\">\n",
       "      <th></th>\n",
       "      <th></th>\n",
       "      <th></th>\n",
       "      <th>score1</th>\n",
       "      <th>score2</th>\n",
       "    </tr>\n",
       "    <tr>\n",
       "      <th>animal</th>\n",
       "      <th>parent1</th>\n",
       "      <th>parent2</th>\n",
       "      <th></th>\n",
       "      <th></th>\n",
       "    </tr>\n",
       "  </thead>\n",
       "  <tbody>\n",
       "    <tr>\n",
       "      <th rowspan=\"4\" valign=\"top\">goat</th>\n",
       "      <th rowspan=\"2\" valign=\"top\">A</th>\n",
       "      <th>A</th>\n",
       "      <td>1</td>\n",
       "      <td>2</td>\n",
       "    </tr>\n",
       "    <tr>\n",
       "      <th>a</th>\n",
       "      <td>2</td>\n",
       "      <td>4</td>\n",
       "    </tr>\n",
       "    <tr>\n",
       "      <th rowspan=\"2\" valign=\"top\">a</th>\n",
       "      <th>A</th>\n",
       "      <td>3</td>\n",
       "      <td>4</td>\n",
       "    </tr>\n",
       "    <tr>\n",
       "      <th>a</th>\n",
       "      <td>4</td>\n",
       "      <td>6</td>\n",
       "    </tr>\n",
       "    <tr>\n",
       "      <th rowspan=\"4\" valign=\"top\">bird</th>\n",
       "      <th rowspan=\"2\" valign=\"top\">A</th>\n",
       "      <th>A</th>\n",
       "      <td>5</td>\n",
       "      <td>6</td>\n",
       "    </tr>\n",
       "    <tr>\n",
       "      <th>a</th>\n",
       "      <td>6</td>\n",
       "      <td>8</td>\n",
       "    </tr>\n",
       "    <tr>\n",
       "      <th rowspan=\"2\" valign=\"top\">a</th>\n",
       "      <th>A</th>\n",
       "      <td>7</td>\n",
       "      <td>8</td>\n",
       "    </tr>\n",
       "    <tr>\n",
       "      <th>a</th>\n",
       "      <td>8</td>\n",
       "      <td>10</td>\n",
       "    </tr>\n",
       "    <tr>\n",
       "      <th rowspan=\"4\" valign=\"top\">llama</th>\n",
       "      <th rowspan=\"2\" valign=\"top\">A</th>\n",
       "      <th>A</th>\n",
       "      <td>9</td>\n",
       "      <td>10</td>\n",
       "    </tr>\n",
       "    <tr>\n",
       "      <th>a</th>\n",
       "      <td>10</td>\n",
       "      <td>12</td>\n",
       "    </tr>\n",
       "    <tr>\n",
       "      <th rowspan=\"2\" valign=\"top\">a</th>\n",
       "      <th>A</th>\n",
       "      <td>11</td>\n",
       "      <td>12</td>\n",
       "    </tr>\n",
       "    <tr>\n",
       "      <th>a</th>\n",
       "      <td>12</td>\n",
       "      <td>14</td>\n",
       "    </tr>\n",
       "  </tbody>\n",
       "</table>\n",
       "</div>"
      ],
      "text/plain": [
       "                        score1  score2\n",
       "animal parent1 parent2                \n",
       "goat   A       A             1       2\n",
       "               a             2       4\n",
       "       a       A             3       4\n",
       "               a             4       6\n",
       "bird   A       A             5       6\n",
       "               a             6       8\n",
       "       a       A             7       8\n",
       "               a             8      10\n",
       "llama  A       A             9      10\n",
       "               a            10      12\n",
       "       a       A            11      12\n",
       "               a            12      14"
      ]
     },
     "execution_count": 4,
     "metadata": {},
     "output_type": "execute_result"
    }
   ],
   "source": [
    "index_group = [['goat']*4+['bird']*4+['llama']*4,\n",
    "          ['A', 'A', 'a', 'a']*3, ['A','a']*6 ]\n",
    "index = pd.MultiIndex.from_arrays(index_group, names=['animal', 'parent1','parent2'])\n",
    "pd.DataFrame({'score1': list(range(1,13)),\n",
    "                   'score2': [i+1 if i%2 else i+2 for i in range(1,13)]},\n",
    "                  index=index)"
   ]
  },
  {
   "cell_type": "markdown",
   "metadata": {},
   "source": [
    "### Problem 2: Working with pandas DataFrames (3 points)"
   ]
  },
  {
   "cell_type": "markdown",
   "metadata": {},
   "source": [
    "#### 2.1: \n",
    "Download the iris data set from the link above. Please include this file in your\n",
    "submission. Read **iris.csv** into Python as a **pandas** DataFrame. Note that the\n",
    "CSV file includes column headers. \n",
    "1. *How many data points are there in this data set?*\n",
    "\n",
    "2. *What are the data types of the columns? What are the column names?*\n",
    "3. *The column names correspond to flower species names, as well as four basic measurements one can make of a flower: the width and length of its petals and the width and length of its sepal (the part of the pant that supports and protects the flower itself).*\n",
    "4. *How many species of flower are included in the data?*"
   ]
  },
  {
   "cell_type": "code",
   "execution_count": 5,
   "metadata": {},
   "outputs": [
    {
     "name": "stdout",
     "output_type": "stream",
     "text": [
      "<class 'pandas.core.frame.DataFrame'>\n",
      "RangeIndex: 150 entries, 0 to 149\n",
      "Data columns (total 5 columns):\n",
      "Sepal.Length    150 non-null float64\n",
      "Sepal.Width     150 non-null float64\n",
      "Petal.Length    150 non-null float64\n",
      "Petal.Width     150 non-null float64\n",
      "Species         150 non-null object\n",
      "dtypes: float64(4), object(1)\n",
      "memory usage: 5.9+ KB\n"
     ]
    }
   ],
   "source": [
    "iris = pd.read_csv('./iris.csv')\n",
    "iris.info()"
   ]
  },
  {
   "cell_type": "code",
   "execution_count": 6,
   "metadata": {},
   "outputs": [
    {
     "data": {
      "text/plain": [
       "array(['setosa', 'versicolor', 'virginica'], dtype=object)"
      ]
     },
     "execution_count": 6,
     "metadata": {},
     "output_type": "execute_result"
    }
   ],
   "source": [
    "iris.Species.unique()"
   ]
  },
  {
   "cell_type": "markdown",
   "metadata": {},
   "source": [
    "### Answers to 2.1:\n",
    "   **How many data points are there in this data set?**\n",
    "    1. The shape of the data frame is 150 * 5, with column headers excluded, hence 150 data points.\n",
    "***\n",
    "   **What are the data types of the columns? What are the column names?**\n",
    "    2&3. By calling \"iris[:0]\", the column names are given as below:\n",
    "    \"Sepal.Length\",\"Sepal.Width\", \"Petal.Length\", \"Petal.Width\", \"Species\", \n",
    "    The first 4 columns' data types are float64, and \"Species\"'s data types are object\n",
    "***\n",
    "   **How many species of flower are included in the data?**\n",
    "    4. By calling \"iris.Species.unique()\", there are three species of flower: ['setosa', 'versicolor', 'virginica']"
   ]
  },
  {
   "cell_type": "markdown",
   "metadata": {},
   "source": [
    "#### 2.2:\n",
    "correct the typo/errors according to the instruction.\n"
   ]
  },
  {
   "cell_type": "code",
   "execution_count": 7,
   "metadata": {},
   "outputs": [],
   "source": [
    "iris.at[34,\"Petal.Width\"] = 0.2\n",
    "iris.at[37,\"Sepal.Width\"] = 3.6\n",
    "iris.at[37,\"Petal.Length\"] = 1.4"
   ]
  },
  {
   "cell_type": "code",
   "execution_count": 8,
   "metadata": {},
   "outputs": [
    {
     "data": {
      "text/html": [
       "<div>\n",
       "<style scoped>\n",
       "    .dataframe tbody tr th:only-of-type {\n",
       "        vertical-align: middle;\n",
       "    }\n",
       "\n",
       "    .dataframe tbody tr th {\n",
       "        vertical-align: top;\n",
       "    }\n",
       "\n",
       "    .dataframe thead th {\n",
       "        text-align: right;\n",
       "    }\n",
       "</style>\n",
       "<table border=\"1\" class=\"dataframe\">\n",
       "  <thead>\n",
       "    <tr style=\"text-align: right;\">\n",
       "      <th></th>\n",
       "      <th>Sepal.Length</th>\n",
       "      <th>Sepal.Width</th>\n",
       "      <th>Petal.Length</th>\n",
       "      <th>Petal.Width</th>\n",
       "      <th>Species</th>\n",
       "    </tr>\n",
       "  </thead>\n",
       "  <tbody>\n",
       "    <tr>\n",
       "      <th>34</th>\n",
       "      <td>4.9</td>\n",
       "      <td>3.1</td>\n",
       "      <td>1.5</td>\n",
       "      <td>0.2</td>\n",
       "      <td>setosa</td>\n",
       "    </tr>\n",
       "    <tr>\n",
       "      <th>37</th>\n",
       "      <td>4.9</td>\n",
       "      <td>3.6</td>\n",
       "      <td>1.4</td>\n",
       "      <td>0.1</td>\n",
       "      <td>setosa</td>\n",
       "    </tr>\n",
       "  </tbody>\n",
       "</table>\n",
       "</div>"
      ],
      "text/plain": [
       "    Sepal.Length  Sepal.Width  Petal.Length  Petal.Width Species\n",
       "34           4.9          3.1           1.5          0.2  setosa\n",
       "37           4.9          3.6           1.4          0.1  setosa"
      ]
     },
     "execution_count": 8,
     "metadata": {},
     "output_type": "execute_result"
    }
   ],
   "source": [
    "iris.iloc[[34,37]]"
   ]
  },
  {
   "cell_type": "markdown",
   "metadata": {},
   "source": [
    "#### 2.3: \n",
    " The iris dataset is commonly used in machine learning as a proving ground for\n",
    "clustering and classification algorithms. Some researchers have found it useful to\n",
    "use two additional features, called **Petal ratio and Sepal ratio**, defined as the ratio\n",
    "of the petal length to petal width and the ratio of the sepal length to sepal width,\n",
    "respectively. Add two columns to you DataFrame corresponding to these two new\n",
    "features. Name these columns Petal.Ratio and Sepal.Ratio, respectively."
   ]
  },
  {
   "cell_type": "code",
   "execution_count": 9,
   "metadata": {},
   "outputs": [],
   "source": [
    "iris[\"Petal.Ratio\"] = (iris[\"Petal.Length\"]/iris[\"Petal.Width\"])\n",
    "iris[\"Sepal.Ratio\"] = (iris[\"Sepal.Length\"]/iris[\"Sepal.Width\"])"
   ]
  },
  {
   "cell_type": "code",
   "execution_count": 10,
   "metadata": {},
   "outputs": [
    {
     "data": {
      "text/html": [
       "<div>\n",
       "<style scoped>\n",
       "    .dataframe tbody tr th:only-of-type {\n",
       "        vertical-align: middle;\n",
       "    }\n",
       "\n",
       "    .dataframe tbody tr th {\n",
       "        vertical-align: top;\n",
       "    }\n",
       "\n",
       "    .dataframe thead th {\n",
       "        text-align: right;\n",
       "    }\n",
       "</style>\n",
       "<table border=\"1\" class=\"dataframe\">\n",
       "  <thead>\n",
       "    <tr style=\"text-align: right;\">\n",
       "      <th></th>\n",
       "      <th>Sepal.Length</th>\n",
       "      <th>Sepal.Width</th>\n",
       "      <th>Petal.Length</th>\n",
       "      <th>Petal.Width</th>\n",
       "      <th>Species</th>\n",
       "      <th>Petal.Ratio</th>\n",
       "      <th>Sepal.Ratio</th>\n",
       "    </tr>\n",
       "  </thead>\n",
       "  <tbody>\n",
       "    <tr>\n",
       "      <th>0</th>\n",
       "      <td>5.1</td>\n",
       "      <td>3.5</td>\n",
       "      <td>1.4</td>\n",
       "      <td>0.2</td>\n",
       "      <td>setosa</td>\n",
       "      <td>7.0</td>\n",
       "      <td>1.457143</td>\n",
       "    </tr>\n",
       "    <tr>\n",
       "      <th>1</th>\n",
       "      <td>4.9</td>\n",
       "      <td>3.0</td>\n",
       "      <td>1.4</td>\n",
       "      <td>0.2</td>\n",
       "      <td>setosa</td>\n",
       "      <td>7.0</td>\n",
       "      <td>1.633333</td>\n",
       "    </tr>\n",
       "    <tr>\n",
       "      <th>2</th>\n",
       "      <td>4.7</td>\n",
       "      <td>3.2</td>\n",
       "      <td>1.3</td>\n",
       "      <td>0.2</td>\n",
       "      <td>setosa</td>\n",
       "      <td>6.5</td>\n",
       "      <td>1.468750</td>\n",
       "    </tr>\n",
       "  </tbody>\n",
       "</table>\n",
       "</div>"
      ],
      "text/plain": [
       "   Sepal.Length  Sepal.Width  Petal.Length  Petal.Width Species  Petal.Ratio  \\\n",
       "0           5.1          3.5           1.4          0.2  setosa          7.0   \n",
       "1           4.9          3.0           1.4          0.2  setosa          7.0   \n",
       "2           4.7          3.2           1.3          0.2  setosa          6.5   \n",
       "\n",
       "   Sepal.Ratio  \n",
       "0     1.457143  \n",
       "1     1.633333  \n",
       "2     1.468750  "
      ]
     },
     "execution_count": 10,
     "metadata": {},
     "output_type": "execute_result"
    }
   ],
   "source": [
    "iris.head(3)"
   ]
  },
  {
   "cell_type": "markdown",
   "metadata": {},
   "source": [
    "#### 2.4:\n",
    "Save your corrected and extended iris DataFrame to a csv file called **iris_corrected.csv**.\n",
    "Please include this file in your submission."
   ]
  },
  {
   "cell_type": "code",
   "execution_count": 11,
   "metadata": {},
   "outputs": [],
   "source": [
    "iris.to_csv(\"./iris_corrected.csv\", index = False)"
   ]
  },
  {
   "cell_type": "markdown",
   "metadata": {},
   "source": [
    "#### 2.5:\n",
    "Use a **pandas** aggregate operation to determine the mean, median, minimum, maximum and standard deviation of the petal and sepal ratio for each of the three species\n",
    "in the data set. Note: you should be able to get all of these numbers in a single\n",
    "table (indeed, in a single line of code) using a well-chosen group-by or aggregate\n",
    "operation"
   ]
  },
  {
   "cell_type": "code",
   "execution_count": 12,
   "metadata": {},
   "outputs": [
    {
     "data": {
      "text/html": [
       "<div>\n",
       "<style scoped>\n",
       "    .dataframe tbody tr th:only-of-type {\n",
       "        vertical-align: middle;\n",
       "    }\n",
       "\n",
       "    .dataframe tbody tr th {\n",
       "        vertical-align: top;\n",
       "    }\n",
       "\n",
       "    .dataframe thead tr th {\n",
       "        text-align: left;\n",
       "    }\n",
       "\n",
       "    .dataframe thead tr:last-of-type th {\n",
       "        text-align: right;\n",
       "    }\n",
       "</style>\n",
       "<table border=\"1\" class=\"dataframe\">\n",
       "  <thead>\n",
       "    <tr>\n",
       "      <th></th>\n",
       "      <th colspan=\"5\" halign=\"left\">Petal.Ratio</th>\n",
       "      <th colspan=\"5\" halign=\"left\">Sepal.Ratio</th>\n",
       "    </tr>\n",
       "    <tr>\n",
       "      <th></th>\n",
       "      <th>mean</th>\n",
       "      <th>median</th>\n",
       "      <th>min</th>\n",
       "      <th>max</th>\n",
       "      <th>std</th>\n",
       "      <th>mean</th>\n",
       "      <th>median</th>\n",
       "      <th>min</th>\n",
       "      <th>max</th>\n",
       "      <th>std</th>\n",
       "    </tr>\n",
       "    <tr>\n",
       "      <th>Species</th>\n",
       "      <th></th>\n",
       "      <th></th>\n",
       "      <th></th>\n",
       "      <th></th>\n",
       "      <th></th>\n",
       "      <th></th>\n",
       "      <th></th>\n",
       "      <th></th>\n",
       "      <th></th>\n",
       "      <th></th>\n",
       "    </tr>\n",
       "  </thead>\n",
       "  <tbody>\n",
       "    <tr>\n",
       "      <th>setosa</th>\n",
       "      <td>6.908000</td>\n",
       "      <td>7.000000</td>\n",
       "      <td>2.666667</td>\n",
       "      <td>15.0</td>\n",
       "      <td>2.854545</td>\n",
       "      <td>1.470188</td>\n",
       "      <td>1.463063</td>\n",
       "      <td>1.268293</td>\n",
       "      <td>1.956522</td>\n",
       "      <td>0.118750</td>\n",
       "    </tr>\n",
       "    <tr>\n",
       "      <th>versicolor</th>\n",
       "      <td>3.242837</td>\n",
       "      <td>3.240385</td>\n",
       "      <td>2.666667</td>\n",
       "      <td>4.1</td>\n",
       "      <td>0.312456</td>\n",
       "      <td>2.160402</td>\n",
       "      <td>2.161290</td>\n",
       "      <td>1.764706</td>\n",
       "      <td>2.818182</td>\n",
       "      <td>0.228658</td>\n",
       "    </tr>\n",
       "    <tr>\n",
       "      <th>virginica</th>\n",
       "      <td>2.780662</td>\n",
       "      <td>2.666667</td>\n",
       "      <td>2.125000</td>\n",
       "      <td>4.0</td>\n",
       "      <td>0.407367</td>\n",
       "      <td>2.230453</td>\n",
       "      <td>2.169540</td>\n",
       "      <td>1.823529</td>\n",
       "      <td>2.961538</td>\n",
       "      <td>0.246992</td>\n",
       "    </tr>\n",
       "  </tbody>\n",
       "</table>\n",
       "</div>"
      ],
      "text/plain": [
       "           Petal.Ratio                                     Sepal.Ratio  \\\n",
       "                  mean    median       min   max       std        mean   \n",
       "Species                                                                  \n",
       "setosa        6.908000  7.000000  2.666667  15.0  2.854545    1.470188   \n",
       "versicolor    3.242837  3.240385  2.666667   4.1  0.312456    2.160402   \n",
       "virginica     2.780662  2.666667  2.125000   4.0  0.407367    2.230453   \n",
       "\n",
       "                                                    \n",
       "              median       min       max       std  \n",
       "Species                                             \n",
       "setosa      1.463063  1.268293  1.956522  0.118750  \n",
       "versicolor  2.161290  1.764706  2.818182  0.228658  \n",
       "virginica   2.169540  1.823529  2.961538  0.246992  "
      ]
     },
     "execution_count": 12,
     "metadata": {},
     "output_type": "execute_result"
    }
   ],
   "source": [
    "iris[iris.columns[4:7]].groupby(\"Species\").agg({\"Petal.Ratio\": [\"mean\",\"median\",min,max,\"std\"],\n",
    "                                                \"Sepal.Ratio\":[\"mean\",\"median\",min,max,\"std\"]})"
   ]
  },
  {
   "cell_type": "markdown",
   "metadata": {},
   "source": [
    "### Problem 3: Plotting Dataframes: Major League Baseball (5 points)"
   ]
  },
  {
   "cell_type": "markdown",
   "metadata": {},
   "source": [
    "#### 3.1: \n",
    "Read the data into a table called **mlb_df**. Each row of the table represents the\n",
    "outcome of a single game from the 2018 MLB season. Take note that the file does\n",
    "not have columns names; see the header keyword to the pandas.read_csv function.\n",
    "The columns are explained in a .txt file which you can download from https://www.retrosheet.org/gamelogs/glfields.txt, but we will only make use of a few of\n",
    "them in this problem. The 10-th and 11-th columns (using 1-indexing) are the scores\n",
    "of the visiting and home teams, respectively. Rename these columns v_score and\n",
    "h_score, respectively. MLB comprises two leagues, the American League and the\n",
    "National League, encoded as AL and NL in the table. The 5-th and 8-th columns\n",
    "(also 1-indexed) are the league affiliations of the visiting and home team, respectively.\n",
    "Rename these columns v_league and h_league."
   ]
  },
  {
   "cell_type": "code",
   "execution_count": 13,
   "metadata": {},
   "outputs": [],
   "source": [
    "mlb_df = pd.read_csv(\"./gl2018.zip\" , header = None)\n",
    "mlb_df = mlb_df.rename({9:\"v_score\",10:\"h_score\",4:\"v_league\",7:\"h_league\"}, axis = \"columns\")"
   ]
  },
  {
   "cell_type": "code",
   "execution_count": 14,
   "metadata": {},
   "outputs": [
    {
     "data": {
      "text/html": [
       "<div>\n",
       "<style scoped>\n",
       "    .dataframe tbody tr th:only-of-type {\n",
       "        vertical-align: middle;\n",
       "    }\n",
       "\n",
       "    .dataframe tbody tr th {\n",
       "        vertical-align: top;\n",
       "    }\n",
       "\n",
       "    .dataframe thead th {\n",
       "        text-align: right;\n",
       "    }\n",
       "</style>\n",
       "<table border=\"1\" class=\"dataframe\">\n",
       "  <thead>\n",
       "    <tr style=\"text-align: right;\">\n",
       "      <th></th>\n",
       "      <th>3</th>\n",
       "      <th>v_league</th>\n",
       "      <th>5</th>\n",
       "      <th>6</th>\n",
       "      <th>h_league</th>\n",
       "      <th>8</th>\n",
       "      <th>v_score</th>\n",
       "      <th>h_score</th>\n",
       "    </tr>\n",
       "  </thead>\n",
       "  <tbody>\n",
       "    <tr>\n",
       "      <th>0</th>\n",
       "      <td>COL</td>\n",
       "      <td>NL</td>\n",
       "      <td>1</td>\n",
       "      <td>ARI</td>\n",
       "      <td>NL</td>\n",
       "      <td>1</td>\n",
       "      <td>2</td>\n",
       "      <td>8</td>\n",
       "    </tr>\n",
       "    <tr>\n",
       "      <th>1</th>\n",
       "      <td>PHI</td>\n",
       "      <td>NL</td>\n",
       "      <td>1</td>\n",
       "      <td>ATL</td>\n",
       "      <td>NL</td>\n",
       "      <td>1</td>\n",
       "      <td>5</td>\n",
       "      <td>8</td>\n",
       "    </tr>\n",
       "    <tr>\n",
       "      <th>2</th>\n",
       "      <td>SFN</td>\n",
       "      <td>NL</td>\n",
       "      <td>1</td>\n",
       "      <td>LAN</td>\n",
       "      <td>NL</td>\n",
       "      <td>1</td>\n",
       "      <td>1</td>\n",
       "      <td>0</td>\n",
       "    </tr>\n",
       "  </tbody>\n",
       "</table>\n",
       "</div>"
      ],
      "text/plain": [
       "     3 v_league  5    6 h_league  8  v_score  h_score\n",
       "0  COL       NL  1  ARI       NL  1        2        8\n",
       "1  PHI       NL  1  ATL       NL  1        5        8\n",
       "2  SFN       NL  1  LAN       NL  1        1        0"
      ]
     },
     "execution_count": 14,
     "metadata": {},
     "output_type": "execute_result"
    }
   ],
   "source": [
    "mlb_df[mlb_df.columns[3:11]].head(3)"
   ]
  },
  {
   "cell_type": "markdown",
   "metadata": {},
   "source": [
    "#### 3.2: \n",
    "Create a plot with two subplots, placed side-by-side. Each subplot should be a\n",
    "scatter plot in which the x- and y-axes correspond to the home and visitor scores,\n",
    "respectively, and in which each point corresponds to a game from the season. In the\n",
    "left-hand plot, include all games in which both teams were in the NL, and in the righthand plot, include all games in which both teams were in the AL. Games in which\n",
    "the teams were from different leagues should be ignored. Specify the transparency\n",
    "(cf. the alpha parameter in the matplotlib documentation) so that scores that\n",
    "occur more often will be shaded darker than rare scores. Color the points in the\n",
    "scatter plot according to the league affiliation of the two teams as follows: games\n",
    "between two teams both in the AL should be rendered as red points in the scatter\n",
    "plot. Games between two teams both in the NL should be rendered as blue points\n",
    "in the scatter plot. Label your axes and provide an appropriate title for your plot\n",
    "as well as its subplots. **Note**: *you may find it useful to create an extra column in\n",
    "the data frame encoding whether a given game is AL vs AL, NL vs NL or mixed.*"
   ]
  },
  {
   "cell_type": "code",
   "execution_count": 25,
   "metadata": {},
   "outputs": [
    {
     "data": {
      "image/png": "[encoded data removed]",
      "text/plain": [
       "<Figure size 1440x720 with 2 Axes>"
      ]
     },
     "metadata": {},
     "output_type": "display_data"
    }
   ],
   "source": [
    "plt.figure(figsize=(20,10))\n",
    "plt.subplot(1,2,1)\n",
    "####getting the left with all NL\n",
    "x_left = mlb_df[(mlb_df[\"v_league\"] == \"NL\")& (mlb_df[\"h_league\"] == \"NL\")][\"h_score\"]\n",
    "y_left = mlb_df[(mlb_df[\"v_league\"] == \"NL\")& (mlb_df[\"h_league\"] == \"NL\")][\"v_score\"]\n",
    "plt.scatter(x_left,y_left, s = 25, alpha = 0.3,marker = \"o\",color = \"blue\")\n",
    "plt.xlabel(\"Home scores\")\n",
    "plt.ylabel(\"Vistor scores\")\n",
    "plt.title('Scatter_plot of games in NL',fontsize = 15)\n",
    "plt.subplot(1,2,2)\n",
    "x_right = mlb_df[(mlb_df[\"v_league\"] == \"AL\")& (mlb_df[\"h_league\"] == \"AL\")][\"h_score\"]\n",
    "y_right = mlb_df[(mlb_df[\"v_league\"] == \"AL\")& (mlb_df[\"h_league\"] == \"AL\")][\"v_score\"]\n",
    "# A more frequent dot will appear darker/less transparent if alpha is smaller than 1:\n",
    "plt.scatter(x_right,y_right, s = 25, alpha = 0.2,marker = \"o\",color = \"red\")\n",
    "plt.xlabel(\"Home scores\")\n",
    "plt.ylabel(\"Vistor scores\")\n",
    "plt.title('Scatter_plot of games in AL',fontsize = 15)\n",
    "plt.suptitle(\"2018 Major League Baseball scores in NL and AL\", fontsize=25)\n",
    "_ = plt.show()"
   ]
  },
  {
   "cell_type": "markdown",
   "metadata": {},
   "source": [
    "#### 3.3:\n",
    "The Skellam distribution (https://en.wikipedia.org/wiki/Skellam_distribution)\n",
    "is the distribution that results from taking the difference between two Poisson random variables. It is often suggested as a model for the difference between scores\n",
    "in sports games, particularly baseball. Add a new column to the data frame called\n",
    "**score_diff**, given by the home score minus the away score. Make a histogram of\n",
    "this score difference and give the plot an appropriate title."
   ]
  },
  {
   "cell_type": "code",
   "execution_count": 16,
   "metadata": {},
   "outputs": [
    {
     "data": {
      "image/png": "[encoded data removed]",
      "text/plain": [
       "<Figure size 432x288 with 1 Axes>"
      ]
     },
     "metadata": {},
     "output_type": "display_data"
    }
   ],
   "source": [
    "mlb_df[\"score_diff\"] = mlb_df[\"h_score\"]-mlb_df[\"v_score\"]\n",
    "plt.hist(mlb_df[\"score_diff\"],bins = 70)\n",
    "plt.xlabel(\"Score difference between home and away\")\n",
    "plt.title('\"Histogram of score difference between home and away\"')\n",
    "_ = plt.show()"
   ]
  },
  {
   "cell_type": "markdown",
   "metadata": {},
   "source": [
    "#### 3.4:\n",
    "$$\n",
    "\\begin{array} { l } { \\text { Estimate parameters } \\hat { \\lambda } _ { H } \\text { and } \\hat { \\lambda } _ { V } \\text { as the means of the home and visitor scores, respec- } } \\\\ { \\text { tively. Use scipy to run a Kolmogorov-Smirnov test assessing whether or not the } } \\\\ { \\text { Skellam distribution with parameters } \\left( \\mu _ { 1 } , \\mu _ { 2 } \\right) = \\left( \\hat { \\lambda } _ { H } , \\hat { \\lambda } _ { V } \\right) \\text { and location parameter } 0 \\text { is a good fit for the score differences. } } \\end{array}\n",
    "$$"
   ]
  },
  {
   "cell_type": "code",
   "execution_count": 56,
   "metadata": {},
   "outputs": [],
   "source": [
    "from scipy.stats import kstest\n",
    "lambda_H_hat,lambda_V_hat = mlb_df[\"h_score\"].mean(),mlb_df[\"v_score\"].mean()\n",
    "mu1,mu2 = lambda_H_hat,lambda_V_hat"
   ]
  },
  {
   "cell_type": "code",
   "execution_count": 71,
   "metadata": {},
   "outputs": [
    {
     "data": {
      "image/png": "[encoded data removed]",
      "text/plain": [
       "<Figure size 432x288 with 1 Axes>"
      ]
     },
     "metadata": {},
     "output_type": "display_data"
    }
   ],
   "source": [
    "plt.plot(mlb_df[\"score_diff\"],\n",
    "         skellam.pmf(mlb_df[\"score_diff\"], \n",
    "        lambda_H_hat, lambda_H_hat, loc = 0))\n",
    "_=plt.show()\n",
    "####looks like a good fit"
   ]
  },
  {
   "cell_type": "code",
   "execution_count": 72,
   "metadata": {},
   "outputs": [
    {
     "data": {
      "image/png": "[encoded data removed]",
      "text/plain": [
       "<Figure size 432x288 with 1 Axes>"
      ]
     },
     "metadata": {},
     "output_type": "display_data"
    }
   ],
   "source": [
    "fig, ax = plt.subplots(1, 1)\n",
    "rv = skellam(lambda_H_hat,lambda_V_hat)\n",
    "ax.vlines(mlb_df[\"score_diff\"], 0, rv.pmf(mlb_df[\"score_diff\"]),\n",
    "          colors='k', linestyles='-', lw=1,\n",
    "        label='frozen pmf')\n",
    "ax.legend(loc='best', frameon=False)\n",
    "_ = plt.show()"
   ]
  },
  {
   "cell_type": "markdown",
   "metadata": {},
   "source": [
    "In the one-sided test, the alternative is that the empirical cumulative distribution function of the random variable is “less” or “greater” than the cumulative distribution function F(x) of the hypothesis, G(x)<=F(x), resp. G(x)>=F(x)."
   ]
  },
  {
   "cell_type": "code",
   "execution_count": 62,
   "metadata": {},
   "outputs": [
    {
     "name": "stdout",
     "output_type": "stream",
     "text": [
      "alternative greater: KstestResult(statistic=0.08664448042477839, pvalue=1.1102230246251565e-16)\n",
      "alternative less: KstestResult(statistic=0.2052406383420739, pvalue=0.0)\n",
      "two-side test: KstestResult(statistic=0.2052406383420739, pvalue=0.0)\n"
     ]
    }
   ],
   "source": [
    "###claim our significance level to be 0.05, which is our alpha\n",
    "np.random.seed(987654321)\n",
    "###kstest against skellam with loc param at 0 \n",
    "\n",
    "#-----------------------one-sided alternative-------------------------------#\n",
    "print(\"alternative greater: \" + str(kstest(mlb_df[\"score_diff\"], \"skellam\", \n",
    "                               args = (mu1,mu2,0), alternative= \"greater\")))\n",
    "print(\"alternative less: \" + str(kstest(mlb_df[\"score_diff\"], \"skellam\", \n",
    "                               args = (mu1,mu2,0), alternative= \"less\")))\n",
    "#-----------------------two-sided alternative-------------------------------#\n",
    "print(\"two-side test: \" + str(kstest(mlb_df[\"score_diff\"], \"skellam\", \n",
    "                               args = (mu1,mu2,0))))\n",
    "\n",
    "#note both test statistics showing that reject the null-hypothesis that a skellam \n",
    "#distribution would model the data samples well."
   ]
  },
  {
   "cell_type": "markdown",
   "metadata": {},
   "source": [
    "trying with new mu_1, and mu_2, where $$\n",
    " \\mu _ { 1 } = \\lambda _ { 1 } - \\rho \\sqrt { \\lambda _ { 1 } \\lambda _ { 2 } } \\text { and } \\mu _ { 2 } = \\lambda _ { 2 } - \\rho \\sqrt { \\lambda _ { 1 } \\lambda _ { 2 } }\n",
    "$$"
   ]
  },
  {
   "cell_type": "code",
   "execution_count": null,
   "metadata": {},
   "outputs": [],
   "source": [
    "###claim our significance level to be 0.05, which is our alpha\n",
    "np.random.seed(987654321)\n",
    "#####estimate mu1 and mu2 based on our lambda hats\n",
    "rho = pearsonr(mlb_df[\"h_score\"],mlb_df[\"v_score\"])[0]\n",
    "mu_1 = lambda_H_hat - rho*np.sqrt(lambda_H_hat*lambda_V_hat)\n",
    "mu_2 = lambda_V_hat - rho*np.sqrt(lambda_H_hat*lambda_V_hat)\n",
    "###kstest against skellam with loc param at 0 \n",
    "\n",
    "#-----------------------one-sided alternative-------------------------------#\n",
    "print(\"alternative greater: \" + str(kstest(mlb_df[\"score_diff\"], \"skellam\", \n",
    "                               args = (mu_1,mu_2,0), alternative= \"greater\")))\n",
    "print(\"alternative less: \" + str(kstest(mlb_df[\"score_diff\"], \"skellam\", \n",
    "                               args = (mu_1,mu_2,0), alternative= \"less\")))\n",
    "#-----------------------two-sided alternative-------------------------------#\n",
    "print(\"two-side test: \" + str(kstest(mlb_df[\"score_diff\"], \"skellam\", \n",
    "                               args = (mu_1,mu_2,0))))\n",
    "#note both test statistics showing that reject the null-hypothesis that a skellam \n",
    "#distribution would model the data samples well."
   ]
  },
  {
   "cell_type": "markdown",
   "metadata": {},
   "source": [
    "### explaination & Answers :\n",
    "\n",
    "From above p-vals (super low) and attempt of re-calculating the mu1 and mu2, the model we proposed, which is the skellam distribution fails to model our data: differences between teams(homes and visitors). The reason is that the fact the scores of home teams and vistor teams recorded can not be modeled by two poisson distributions. <font color = red> As we can tell from below, the variance is more than as twice as the mean of the two data cluster</font>. That is the main reason that we were not able to model the data well with the pressumed skellam distribution, which is the difference between two poisson distribution. In that skellam distribution with two parameters as the mean of home scores and visitor scores is not reasonable to model the data. Moreover, in terms of the location parameter, although the above lines plots and histograms are suggesting a positive location paramter, in that suggesting that home teams may have advantages in scoring over the visitors.**Proposal:** we may try to use the variance of the scores from both home and visitor scores, or trying a slightly larger location paramter."
   ]
  },
  {
   "cell_type": "code",
   "execution_count": 68,
   "metadata": {},
   "outputs": [
    {
     "data": {
      "text/plain": [
       "(10.537507469533626, 9.84273064142329)"
      ]
     },
     "execution_count": 68,
     "metadata": {},
     "output_type": "execute_result"
    }
   ],
   "source": [
    "mlb_df[\"h_score\"].var(),mlb_df[\"v_score\"].var()"
   ]
  },
  {
   "cell_type": "code",
   "execution_count": 69,
   "metadata": {},
   "outputs": [
    {
     "data": {
      "text/plain": [
       "(4.525709584533114, 4.37186343068696)"
      ]
     },
     "execution_count": 69,
     "metadata": {},
     "output_type": "execute_result"
    }
   ],
   "source": [
    "mlb_df[\"h_score\"].mean(),mlb_df[\"v_score\"].mean()"
   ]
  },
  {
   "cell_type": "code",
   "execution_count": null,
   "metadata": {},
   "outputs": [],
   "source": []
  },
  {
   "cell_type": "code",
   "execution_count": null,
   "metadata": {},
   "outputs": [],
   "source": []
  },
  {
   "cell_type": "code",
   "execution_count": null,
   "metadata": {},
   "outputs": [],
   "source": []
  },
  {
   "cell_type": "code",
   "execution_count": null,
   "metadata": {},
   "outputs": [],
   "source": []
  },
  {
   "cell_type": "code",
   "execution_count": null,
   "metadata": {},
   "outputs": [],
   "source": []
  },
  {
   "cell_type": "code",
   "execution_count": null,
   "metadata": {},
   "outputs": [],
   "source": []
  },
  {
   "cell_type": "code",
   "execution_count": null,
   "metadata": {},
   "outputs": [],
   "source": []
  },
  {
   "cell_type": "code",
   "execution_count": null,
   "metadata": {},
   "outputs": [],
   "source": []
  }
 ],
 "metadata": {
  "kernelspec": {
   "display_name": "Python 3",
   "language": "python",
   "name": "python3"
  },
  "language_info": {
   "codemirror_mode": {
    "name": "ipython",
    "version": 3
   },
   "file_extension": ".py",
   "mimetype": "text/x-python",
   "name": "python",
   "nbconvert_exporter": "python",
   "pygments_lexer": "ipython3",
   "version": "3.6.6"
  }
 },
 "nbformat": 4,
 "nbformat_minor": 2
}
