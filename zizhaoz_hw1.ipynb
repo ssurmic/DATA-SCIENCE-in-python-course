{
 "cells": [
  {
   "cell_type": "markdown",
   "metadata": {},
   "source": [
    "## <font color=blue> Stats507-001 , WI 2019</font>\n",
    "### Zizhao Zhang\n",
    "#### zizhaoz@umich.edu\n",
    "***\n",
    "\n",
    "Time spent on problems(hours):   Problem 1:  0.15    Problem 2:                       Problem 3:\n",
    "***\n",
    "\n",
    "Persons discussed idea about: No one"
   ]
  },
  {
   "cell_type": "code",
   "execution_count": 124,
   "metadata": {},
   "outputs": [],
   "source": [
    "#####################\n",
    "###Tab Completion:###\n",
    "#####################\n",
    "%config IPCompleter.greedy=True"
   ]
  },
  {
   "cell_type": "markdown",
   "metadata": {},
   "source": [
    "### Problem 1: Warm up: Defining Simple Functions (2 points)"
   ]
  },
  {
   "cell_type": "markdown",
   "metadata": {},
   "source": [
    "### 1.1:\n",
    "Define a function called *say_hello* , which takes no arguments and prints the string\n",
    "*Hello, world!* when called."
   ]
  },
  {
   "cell_type": "code",
   "execution_count": 1,
   "metadata": {},
   "outputs": [],
   "source": [
    "def say_hi():\n",
    "    print(\"Hello, world!\")"
   ]
  },
  {
   "cell_type": "code",
   "execution_count": 2,
   "metadata": {},
   "outputs": [
    {
     "name": "stdout",
     "output_type": "stream",
     "text": [
      "Hello, world!\n"
     ]
    }
   ],
   "source": [
    "say_hi()"
   ]
  },
  {
   "cell_type": "markdown",
   "metadata": {},
   "source": [
    "### 1.2:\n",
    "Define a function called *goat_pad*, which takes a string as its only argument, and\n",
    "prints that string, prepended and appended with the string goat."
   ]
  },
  {
   "cell_type": "code",
   "execution_count": 85,
   "metadata": {},
   "outputs": [],
   "source": [
    "def goat_pad(string):\n",
    "    if type(string) == str:\n",
    "        print(\"goat\"+string+\"goat\")\n",
    "    else: \n",
    "        print(\"please input a string\")\n",
    "        "
   ]
  },
  {
   "cell_type": "code",
   "execution_count": 86,
   "metadata": {},
   "outputs": [
    {
     "name": "stdout",
     "output_type": "stream",
     "text": [
      "goatgoodgoat\n"
     ]
    }
   ],
   "source": [
    "goat_pad(\"good\")"
   ]
  },
  {
   "cell_type": "code",
   "execution_count": 87,
   "metadata": {},
   "outputs": [
    {
     "name": "stdout",
     "output_type": "stream",
     "text": [
      "goat_goat\n"
     ]
    }
   ],
   "source": [
    "goat_pad(\"_\")"
   ]
  },
  {
   "cell_type": "markdown",
   "metadata": {},
   "source": [
    "### 1.3:\n",
    "Define a function called *print_n*, which takes two arguments, a string s and an\n",
    "integer n (in that order), and prints the string n times, each on a separate line. You\n",
    "may assume that s is a string and that the integer n is non-negative, so there is no\n",
    "need to perform any error checking in your function."
   ]
  },
  {
   "cell_type": "code",
   "execution_count": 91,
   "metadata": {},
   "outputs": [],
   "source": [
    "def print_n(s,n):\n",
    "    if type(s) == str and type(n) == int and n >= 0:\n",
    "        print(((s + \"\\n\")*n)[:-1])  "
   ]
  },
  {
   "cell_type": "code",
   "execution_count": 90,
   "metadata": {},
   "outputs": [
    {
     "name": "stdout",
     "output_type": "stream",
     "text": [
      "hello\n",
      "hello\n",
      "hello\n",
      "hello\n",
      "hello\n",
      "hello\n"
     ]
    }
   ],
   "source": [
    "print_n(\"hello\",6)"
   ]
  },
  {
   "cell_type": "markdown",
   "metadata": {},
   "source": [
    "### Problem 2: Euclid’s algorithm (2 points)"
   ]
  },
  {
   "cell_type": "markdown",
   "metadata": {},
   "source": [
    "### 2.1: \n",
    "The Wikipedia page above includes several pseudocode implementations of Euclid’s\n",
    "algorithm. Choose one of these, and use it to implement a function *gcd*, which takes\n",
    "two integers as its arguments and returns their GCD. You may assume that both\n",
    "inputs are integers, so there is no need to include any error checking in your function.\n",
    "***\n",
    "*reference :* https://en.wikipedia.org/wiki/Euclidean_algorithm"
   ]
  },
  {
   "cell_type": "code",
   "execution_count": 94,
   "metadata": {},
   "outputs": [],
   "source": [
    "def gcd(a,b):\n",
    "    if b == 0:\n",
    "        return a \n",
    "    else:\n",
    "        return gcd(b, a%b)"
   ]
  },
  {
   "cell_type": "code",
   "execution_count": 96,
   "metadata": {},
   "outputs": [
    {
     "data": {
      "text/plain": [
       "2"
      ]
     },
     "execution_count": 96,
     "metadata": {},
     "output_type": "execute_result"
    }
   ],
   "source": [
    "gcd(2,10)"
   ]
  },
  {
   "cell_type": "markdown",
   "metadata": {},
   "source": [
    "### 2.2: \n",
    "Use your function to evaluate the GCDs of the following pairs of numbers:\n",
    "\n",
    "(a) 2018, 2019\n",
    "\n",
    "(b) 1200, 300\n",
    "\n",
    "(c) 5040, 60"
   ]
  },
  {
   "cell_type": "code",
   "execution_count": 10,
   "metadata": {},
   "outputs": [
    {
     "name": "stdout",
     "output_type": "stream",
     "text": [
      "The common greatest divisor of(2018, 2019) is 1\n",
      "The common greatest divisor of(1200, 300) is 300\n",
      "The common greatest divisor of(5040, 60) is 60\n"
     ]
    }
   ],
   "source": [
    "for i in [[2018,2019],[1200,300],[5040,60]]:\n",
    "    print(\"The common greatest divisor of\"+str(tuple(i))+\" is \"+ str(gcd(i[0],i[1])))"
   ]
  },
  {
   "cell_type": "markdown",
   "metadata": {},
   "source": [
    "### 2.3: \n",
    "What does your function do if one or both of its arguments are negative? Does this\n",
    "behavior make sense?"
   ]
  },
  {
   "cell_type": "code",
   "execution_count": 97,
   "metadata": {},
   "outputs": [
    {
     "name": "stdout",
     "output_type": "stream",
     "text": [
      "The common greatest divisor of(2018, -2019) is -1\n",
      "The common greatest divisor of(-1200, -300) is -300\n",
      "The common greatest divisor of(-5040, 60) is 60\n",
      "The common greatest divisor of(-4, -2) is -2\n",
      "The common greatest divisor of(8, -4) is -4\n",
      "The common greatest divisor of(-4, -3) is -1\n"
     ]
    }
   ],
   "source": [
    "for i in [[2018,-2019],[-1200,-300],[-5040,60],[-4,-2],[8,-4],[-4,-3]]:\n",
    "    print(\"The common greatest divisor of\"+str(tuple(i))+\" is \"+ str(gcd(i[0],i[1])))"
   ]
  },
  {
   "cell_type": "markdown",
   "metadata": {},
   "source": [
    "According to the result rendered as below, the third implementation using recursion make sense and renders the correct result"
   ]
  },
  {
   "cell_type": "markdown",
   "metadata": {},
   "source": [
    "### Problem 3: Approximating Euler’s number e (3 points)"
   ]
  },
  {
   "cell_type": "markdown",
   "metadata": {},
   "source": [
    "### 3.1:\n",
    "Define a function called *euler_limit* that takes as an argument an integer n, and\n",
    "returns a float that approximates e by taking x = n in Equation (2). You may\n",
    "assume that the input to your function will be a positive integer."
   ]
  },
  {
   "cell_type": "code",
   "execution_count": 35,
   "metadata": {},
   "outputs": [],
   "source": [
    "#solution to 3.1:\n",
    "def euler_limit(n):\n",
    "    return (1+1/n)**n"
   ]
  },
  {
   "cell_type": "markdown",
   "metadata": {},
   "source": [
    "demonstration of the code as below, input argument of n as 10 to the 1 to 10th power"
   ]
  },
  {
   "cell_type": "code",
   "execution_count": 98,
   "metadata": {},
   "outputs": [
    {
     "name": "stdout",
     "output_type": "stream",
     "text": [
      "2.5937424601000023\n",
      "2.7048138294215285\n",
      "2.7169239322355936\n",
      "2.7181459268249255\n",
      "2.7182682371922975\n",
      "2.7182804690957534\n",
      "2.7182816941320818\n",
      "2.7182817983473577\n",
      "2.7182820520115603\n",
      "2.7182820532347876\n"
     ]
    }
   ],
   "source": [
    "for i in range(1,11):\n",
    "    print(euler_limit(10**i))"
   ]
  },
  {
   "cell_type": "markdown",
   "metadata": {},
   "source": [
    "As shown above, the limit of the simulation is approaching euler's number as input N raises larger."
   ]
  },
  {
   "cell_type": "markdown",
   "metadata": {},
   "source": [
    "### 3.2:\n",
    "Define a function called *euler_infinite_sum* that takes a single non-negative integer\n",
    "argument n, and returns an approximation to e based on the first n terms of\n",
    "the sum in Equation (1). Your function should return a float. You may assume that\n",
    "the input will be a non-negative integer, so you do not need to include error checking\n",
    "in your function. As an example, euler_infinite_sum(4) should return the\n",
    "sum of the first four terms in Equation 1, so that euler_infinite_sum(4) returns\n",
    "1 + 1 + 1/2 + 1/6 ≈ 2.667. Note: the sum in Equation 1 starts counting with k = 0\n",
    "(i.e., it is “0-indexed”), while our function starts counting with n = 1 (i.e., it is\n",
    "“1-indexed”). euler_infinite_sum(1) should use one term from Equation (1), so\n",
    "that euler_infinite_sum(1) returns 1. Similarly, euler_infinite_sum(0) should\n",
    "return 0, since by convention an empty sum is equal to zero."
   ]
  },
  {
   "cell_type": "code",
   "execution_count": 99,
   "metadata": {},
   "outputs": [],
   "source": [
    "#with bottom_up won't exceed the maximum number of recursion and save time complexity\n",
    "def factorial_bottom_up(n):\n",
    "    if n == 0 or n == 1:\n",
    "        return 1\n",
    "    bottom_up = [None] * (n+1)\n",
    "    bottom_up[1] = 1\n",
    "    for i in range(2,n+1):\n",
    "        bottom_up[i] = bottom_up[i-1]*i\n",
    "    return bottom_up[n]"
   ]
  },
  {
   "cell_type": "code",
   "execution_count": 100,
   "metadata": {},
   "outputs": [],
   "source": [
    "def euler_infinite_sum(n):\n",
    "    sum = 0\n",
    "    if n == 0: return 0\n",
    "    for i in range(0,n):\n",
    "        sum += (1/factorial_bottom_up(i))\n",
    "    return sum"
   ]
  },
  {
   "cell_type": "markdown",
   "metadata": {},
   "source": [
    "demonstration of the functino above:"
   ]
  },
  {
   "cell_type": "code",
   "execution_count": 105,
   "metadata": {},
   "outputs": [
    {
     "data": {
      "text/plain": [
       "0"
      ]
     },
     "execution_count": 105,
     "metadata": {},
     "output_type": "execute_result"
    }
   ],
   "source": [
    "euler_infinite_sum(0)"
   ]
  },
  {
   "cell_type": "code",
   "execution_count": 106,
   "metadata": {},
   "outputs": [
    {
     "data": {
      "text/plain": [
       "1.0"
      ]
     },
     "execution_count": 106,
     "metadata": {},
     "output_type": "execute_result"
    }
   ],
   "source": [
    "euler_infinite_sum(1)"
   ]
  },
  {
   "cell_type": "code",
   "execution_count": 107,
   "metadata": {},
   "outputs": [
    {
     "data": {
      "text/plain": [
       "2.6666666666666665"
      ]
     },
     "execution_count": 107,
     "metadata": {},
     "output_type": "execute_result"
    }
   ],
   "source": [
    "euler_infinite_sum(4)"
   ]
  },
  {
   "cell_type": "markdown",
   "metadata": {},
   "source": [
    "which matches the desired answer."
   ]
  },
  {
   "cell_type": "markdown",
   "metadata": {},
   "source": [
    "### 3.3: \n",
    "Define a function called *euler_approx* that takes a single argument, a float epsilon,\n",
    "and uses the sum in (1) to obtain an approximation of e that is within epsilon of\n",
    "the true value of e. Hint: use a while-loop. Note: you can use the Python math\n",
    "module to get the true value of e (up to floating point accuracy): math.exp(1)."
   ]
  },
  {
   "cell_type": "code",
   "execution_count": 108,
   "metadata": {},
   "outputs": [],
   "source": [
    "import math\n",
    "def euler_approx(epsilon):\n",
    "    int_max = 2**31-1\n",
    "    i = 0\n",
    "    while i < int_max:\n",
    "        if abs(euler_infinite_sum(i) - math.exp(1)) < epsilon:\n",
    "            '''\n",
    "            print(\"the lowest bound of desired approximation from (1) is \"+ \\\n",
    "                  str(euler_infinite_sum(i))+\"by input argument of at least \"+str(i))\n",
    "            '''\n",
    "            return euler_infinite_sum(i)\n",
    "        i+=1"
   ]
  },
  {
   "cell_type": "markdown",
   "metadata": {},
   "source": [
    "demonstration of the function above:"
   ]
  },
  {
   "cell_type": "code",
   "execution_count": 109,
   "metadata": {},
   "outputs": [
    {
     "data": {
      "text/plain": [
       "2.7180555555555554"
      ]
     },
     "execution_count": 109,
     "metadata": {},
     "output_type": "execute_result"
    }
   ],
   "source": [
    "euler_approx(0.001)"
   ]
  },
  {
   "cell_type": "markdown",
   "metadata": {},
   "source": [
    "As shown above, when epsilon is 0.02, the least input argument that is valid to passes into the equation(1) is 5, up to the max integer allowed. The larger the more accurate."
   ]
  },
  {
   "cell_type": "markdown",
   "metadata": {},
   "source": [
    "### 3.4: \n",
    "Define a function called *print_euler_sum_table* that takes a single positive integer\n",
    "n as an argument and prints the successive values obtained from euler_infinite_sum(k)\n",
    "as k ranges from 1 to n, one per line."
   ]
  },
  {
   "cell_type": "code",
   "execution_count": 110,
   "metadata": {},
   "outputs": [],
   "source": [
    "def print_euler_sum_table(n):\n",
    "    for k in range(1,n+1):\n",
    "        print(str(euler_infinite_sum(k))+'\\n'[:-1])"
   ]
  },
  {
   "cell_type": "markdown",
   "metadata": {},
   "source": [
    "demonstration of the "
   ]
  },
  {
   "cell_type": "code",
   "execution_count": 111,
   "metadata": {},
   "outputs": [
    {
     "name": "stdout",
     "output_type": "stream",
     "text": [
      "1.0\n",
      "2.0\n",
      "2.5\n",
      "2.6666666666666665\n",
      "2.708333333333333\n",
      "2.7166666666666663\n",
      "2.7180555555555554\n",
      "2.7182539682539684\n",
      "2.71827876984127\n",
      "2.7182815255731922\n"
     ]
    }
   ],
   "source": [
    "print_euler_sum_table(10)"
   ]
  },
  {
   "cell_type": "markdown",
   "metadata": {},
   "source": [
    "### 3.5：\n",
    "Which of these two approximations is better?"
   ]
  },
  {
   "cell_type": "markdown",
   "metadata": {},
   "source": [
    "To compare the two approximations, to be precise:\n",
    "\n",
    "the first approximation is the limit of Euler's number $$\n",
    "e = \\lim _ { n \\rightarrow \\infty } \\left( 1 + \\frac { 1 } { n } \\right) ^ { n }\n",
    "$$\n",
    "\n",
    "the second approximation is the infinite seriers representation of Euler's number$$\n",
    "e = \\sum _ { n = 0 } ^ { \\infty } \\frac { 1 } { n ! }\n",
    "$$"
   ]
  },
  {
   "cell_type": "markdown",
   "metadata": {},
   "source": [
    "The comparison of the first 10 simulation is rendered as below:"
   ]
  },
  {
   "cell_type": "code",
   "execution_count": 46,
   "metadata": {},
   "outputs": [
    {
     "name": "stdout",
     "output_type": "stream",
     "text": [
      "1st approx: 2.0, 2nd approx: 1.0\n",
      "1st approx: 2.25, 2nd approx: 2.0\n",
      "1st approx: 2.37037037037037, 2nd approx: 2.5\n",
      "1st approx: 2.44140625, 2nd approx: 2.6666666666666665\n",
      "1st approx: 2.4883199999999994, 2nd approx: 2.708333333333333\n",
      "1st approx: 2.5216263717421135, 2nd approx: 2.7166666666666663\n",
      "1st approx: 2.546499697040712, 2nd approx: 2.7180555555555554\n",
      "1st approx: 2.565784513950348, 2nd approx: 2.7182539682539684\n",
      "1st approx: 2.5811747917131984, 2nd approx: 2.71827876984127\n",
      "1st approx: 2.5937424601000023, 2nd approx: 2.7182815255731922\n"
     ]
    }
   ],
   "source": [
    "for i in range(1,11):\n",
    "    print(\"1st approx: \"+str(euler_limit(i))+\", 2nd approx: \"+str(euler_infinite_sum(i)))"
   ]
  },
  {
   "cell_type": "markdown",
   "metadata": {},
   "source": [
    "<font color = blue>In terms of accuracy when input argument is limited</font>, as the result shown above, the second approximation method reaches more within the accurate range of the Euler's number quicker than the first approximation.\n",
    "***"
   ]
  },
  {
   "cell_type": "markdown",
   "metadata": {},
   "source": [
    "<font color = blue>In terms of time complexity</font>, the below code plots the time complexity trend as the input arguments increases. The first approximation is using less time than the second approximation, which utilize a <font color = red>recursion</font> during the calculation process as shown below"
   ]
  },
  {
   "cell_type": "code",
   "execution_count": 55,
   "metadata": {},
   "outputs": [],
   "source": [
    "from functools import partial\n",
    "from matplotlib import pyplot\n",
    "import timeit\n",
    "def plotTC(function, nMin, nMax, nInc, nReps):\n",
    "    approx1 = []\n",
    "    approx2 = []\n",
    "    for i in range(nMin, nMax, nInc):\n",
    "        rep = i\n",
    "        testNTimer = timeit.Timer(partial(function, rep))\n",
    "        t = testNTimer.timeit(number=nReps)\n",
    "        approx1.append(i)\n",
    "        approx2.append(t)\n",
    "        plot = pyplot.plot(approx1, approx2, 'o')"
   ]
  },
  {
   "cell_type": "code",
   "execution_count": 56,
   "metadata": {},
   "outputs": [
    {
     "data": {
      "image/png": "[encoded data removed]",
      "text/plain": [
       "<Figure size 432x288 with 1 Axes>"
      ]
     },
     "metadata": {},
     "output_type": "display_data"
    }
   ],
   "source": [
    "plotTC(euler_limit,1,1000,10,100)"
   ]
  },
  {
   "cell_type": "code",
   "execution_count": 57,
   "metadata": {},
   "outputs": [
    {
     "data": {
      "image/png": "[encoded data removed]",
      "text/plain": [
       "<Figure size 432x288 with 1 Axes>"
      ]
     },
     "metadata": {},
     "output_type": "display_data"
    }
   ],
   "source": [
    "plotTC(euler_approx,1,1000,10,100)"
   ]
  },
  {
   "cell_type": "markdown",
   "metadata": {},
   "source": [
    "### Problem 4:  Testing Properties of an Integer (3 points)"
   ]
  },
  {
   "cell_type": "markdown",
   "metadata": {},
   "source": [
    "### 4.1:\n",
    "Write a function *is_power_of_2* that takes a positive integer as its only argument\n",
    "and returns a Boolean indicating whether or not the input is a power of 2. You\n",
    "may assume that the input is a positive integer. You may not use the built-in\n",
    "math.sqrt function in your solution. You should need only the division and modulus\n",
    "(%) operations"
   ]
  },
  {
   "cell_type": "code",
   "execution_count": 4,
   "metadata": {},
   "outputs": [],
   "source": [
    "def is_power_of_2(n):\n",
    "    if n == 1:return True\n",
    "    if n == 2:\n",
    "        return True\n",
    "    elif n%2 != 0:\n",
    "        return False\n",
    "    else:\n",
    "        return is_power_of_2(n//2)"
   ]
  },
  {
   "cell_type": "code",
   "execution_count": 5,
   "metadata": {},
   "outputs": [
    {
     "data": {
      "text/plain": [
       "True"
      ]
     },
     "execution_count": 5,
     "metadata": {},
     "output_type": "execute_result"
    }
   ],
   "source": [
    "is_power_of_2(1)"
   ]
  },
  {
   "cell_type": "markdown",
   "metadata": {},
   "source": [
    "### 4.2:\n",
    "Generalize your previous solution to a function *is_power* that takes two positive integers as its arguments, b and n, in that order, and returns a Boolean. *is_power*(b,n)\n",
    "should return True if n is a power of b and False otherwise."
   ]
  },
  {
   "cell_type": "code",
   "execution_count": 7,
   "metadata": {},
   "outputs": [],
   "source": [
    "def is_power(b,n):\n",
    "    if n == 1:return True\n",
    "    if n == b:\n",
    "        return True\n",
    "    elif n%b != 0:\n",
    "        return False\n",
    "    else:\n",
    "        return is_power(n//b,b)"
   ]
  },
  {
   "cell_type": "code",
   "execution_count": 12,
   "metadata": {},
   "outputs": [
    {
     "data": {
      "text/plain": [
       "True"
      ]
     },
     "execution_count": 12,
     "metadata": {},
     "output_type": "execute_result"
    }
   ],
   "source": [
    "is_power(0,0)"
   ]
  },
  {
   "cell_type": "code",
   "execution_count": 11,
   "metadata": {},
   "outputs": [
    {
     "data": {
      "text/plain": [
       "True"
      ]
     },
     "execution_count": 11,
     "metadata": {},
     "output_type": "execute_result"
    }
   ],
   "source": [
    "is_power(12,144)"
   ]
  },
  {
   "cell_type": "code",
   "execution_count": 84,
   "metadata": {},
   "outputs": [
    {
     "data": {
      "text/plain": [
       "True"
      ]
     },
     "execution_count": 84,
     "metadata": {},
     "output_type": "execute_result"
    }
   ],
   "source": [
    "is_power(11,1)"
   ]
  },
  {
   "cell_type": "code",
   "execution_count": null,
   "metadata": {},
   "outputs": [],
   "source": []
  },
  {
   "cell_type": "code",
   "execution_count": null,
   "metadata": {},
   "outputs": [],
   "source": []
  }
 ],
 "metadata": {
  "kernelspec": {
   "display_name": "Python 3",
   "language": "python",
   "name": "python3"
  },
  "language_info": {
   "codemirror_mode": {
    "name": "ipython",
    "version": 3
   },
   "file_extension": ".py",
   "mimetype": "text/x-python",
   "name": "python",
   "nbconvert_exporter": "python",
   "pygments_lexer": "ipython3",
   "version": "3.6.5"
  }
 },
 "nbformat": 4,
 "nbformat_minor": 2
}
