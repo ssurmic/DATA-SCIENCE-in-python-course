{
 "cells": [
  {
   "cell_type": "markdown",
   "metadata": {},
   "source": [
    "## <font color=blue> Stats507-001 , WI 2019</font>\n",
    "### Zizhao Zhang\n",
    "#### zizhaoz@umich.edu\n",
    "***\n",
    "\n",
    "Time spent on problems(hours):   *Problem 1*: 0.5 , *Problem 2*: 0.3 , *Problem 3*: 0.5, *Problem 4*: 0.5, *Problem 5*: 0.4, *Problem 6*: 0.6\n",
    "\n",
    "***\n",
    "\n",
    "Persons discussed idea about: None"
   ]
  },
  {
   "cell_type": "code",
   "execution_count": 1,
   "metadata": {},
   "outputs": [],
   "source": [
    "#####################\n",
    "###Tab Completion:###\n",
    "#####################\n",
    "%config IPCompleter.greedy=True"
   ]
  },
  {
   "cell_type": "markdown",
   "metadata": {},
   "source": [
    "### Problem 1:  Fun with Strings (2 points)"
   ]
  },
  {
   "cell_type": "markdown",
   "metadata": {},
   "source": [
    "#### 1.1:\n",
    "Write a function called *is_palindrome*, which takes a string as its\n",
    "only argument, and returns a Boolean."
   ]
  },
  {
   "cell_type": "code",
   "execution_count": 2,
   "metadata": {},
   "outputs": [],
   "source": [
    "def is_palindrome(string):\n",
    "    if type(string) != str:\n",
    "        return \"only string type input is allowed\"\n",
    "    string = ''.join(string.split()).lower()\n",
    "    if string == string[::-1]:\n",
    "        return True\n",
    "    else: return False"
   ]
  },
  {
   "cell_type": "markdown",
   "metadata": {},
   "source": [
    "demonstration of the fucntion above:"
   ]
  },
  {
   "cell_type": "code",
   "execution_count": 9,
   "metadata": {},
   "outputs": [
    {
     "data": {
      "text/plain": [
       "True"
      ]
     },
     "execution_count": 9,
     "metadata": {},
     "output_type": "execute_result"
    }
   ],
   "source": [
    "is_palindrome(\" -\")"
   ]
  },
  {
   "cell_type": "code",
   "execution_count": 4,
   "metadata": {},
   "outputs": [
    {
     "data": {
      "text/plain": [
       "True"
      ]
     },
     "execution_count": 4,
     "metadata": {},
     "output_type": "execute_result"
    }
   ],
   "source": [
    "is_palindrome(\"T A C O cat\")"
   ]
  },
  {
   "cell_type": "markdown",
   "metadata": {},
   "source": [
    "#### 1.2: \n",
    "Write a function *is_abecedarian*, which\n",
    "takes a single argument in the form of a string and returns True if the argument\n",
    "is abecedarian and False otherwise."
   ]
  },
  {
   "cell_type": "code",
   "execution_count": 10,
   "metadata": {},
   "outputs": [],
   "source": [
    "def is_abecedarian(string):\n",
    "    if type(string) != str:\n",
    "        return \"only string type input is allowed\"\n",
    "    string = ''.join(string.split())\n",
    "    return all(string[i] <= string[i+1] for i in range(len(string)-1))"
   ]
  },
  {
   "cell_type": "markdown",
   "metadata": {},
   "source": [
    "demonstration of the fucntion above:"
   ]
  },
  {
   "cell_type": "code",
   "execution_count": 11,
   "metadata": {},
   "outputs": [
    {
     "data": {
      "text/plain": [
       "True"
      ]
     },
     "execution_count": 11,
     "metadata": {},
     "output_type": "execute_result"
    }
   ],
   "source": [
    "is_abecedarian(\"abbbbccccd efgh xyz\")"
   ]
  },
  {
   "cell_type": "code",
   "execution_count": 12,
   "metadata": {},
   "outputs": [
    {
     "data": {
      "text/plain": [
       "False"
      ]
     },
     "execution_count": 12,
     "metadata": {},
     "output_type": "execute_result"
    }
   ],
   "source": [
    "is_abecedarian(\"doog\")"
   ]
  },
  {
   "cell_type": "code",
   "execution_count": 13,
   "metadata": {},
   "outputs": [
    {
     "data": {
      "text/plain": [
       "True"
      ]
     },
     "execution_count": 13,
     "metadata": {},
     "output_type": "execute_result"
    }
   ],
   "source": [
    "is_abecedarian(\"adder\")"
   ]
  },
  {
   "cell_type": "markdown",
   "metadata": {},
   "source": [
    "#### 1.3: \n",
    "Write a function called *remove_vowels* that takes a string as its only argument and\n",
    "returns that string with all the vowels removed."
   ]
  },
  {
   "cell_type": "code",
   "execution_count": 14,
   "metadata": {},
   "outputs": [],
   "source": [
    "def remove_vowels(string):\n",
    "    if type(string) != str:\n",
    "        return \"only string type input is allowed\"\n",
    "    ###decapitalize\n",
    "    string = ''.join(string.split()).lower()\n",
    "    return ''.join([char for char in string if char not in \"aeiou\"])"
   ]
  },
  {
   "cell_type": "code",
   "execution_count": 20,
   "metadata": {},
   "outputs": [
    {
     "data": {
      "text/plain": [
       "'hhh0'"
      ]
     },
     "execution_count": 20,
     "metadata": {},
     "output_type": "execute_result"
    }
   ],
   "source": [
    "remove_vowels('aehaiah   iha0o')"
   ]
  },
  {
   "cell_type": "code",
   "execution_count": 21,
   "metadata": {},
   "outputs": [
    {
     "data": {
      "text/plain": [
       "'ct'"
      ]
     },
     "execution_count": 21,
     "metadata": {},
     "output_type": "execute_result"
    }
   ],
   "source": [
    "remove_vowels(\"cat\")"
   ]
  },
  {
   "cell_type": "markdown",
   "metadata": {},
   "source": [
    "### Problem 2:  Fun with Lists (2 points)    "
   ]
  },
  {
   "cell_type": "markdown",
   "metadata": {},
   "source": [
    "#### 2.1: \n",
    "Write a function *list_reverse* that takes a list as an argument and returns that list,\n",
    "reversed."
   ]
  },
  {
   "cell_type": "code",
   "execution_count": 23,
   "metadata": {},
   "outputs": [],
   "source": [
    "def list_reverse(l):\n",
    "    if type(l) != list:\n",
    "        raise TypeError(\"only allowed input type is list!!!!!\")\n",
    "    else:\n",
    "        return l[::-1]"
   ]
  },
  {
   "cell_type": "code",
   "execution_count": null,
   "metadata": {},
   "outputs": [],
   "source": [
    "list_reverse([\"nini\",\"haha\",1,2,\"doe\"])"
   ]
  },
  {
   "cell_type": "markdown",
   "metadata": {},
   "source": [
    "#### 2.2:\n",
    "\n",
    "Write a function *is_sorted* that takes a sequence seq as its only argument and\n",
    "returns True if the sequence is sorted in ascending order and returns False otherwise. "
   ]
  },
  {
   "cell_type": "code",
   "execution_count": 27,
   "metadata": {},
   "outputs": [],
   "source": [
    "def is_sorted(seq):\n",
    "    if not all(seq[i] <= seq[i+1] for i in range(len(seq)-1)):\n",
    "        return False\n",
    "    else:\n",
    "        return True"
   ]
  },
  {
   "cell_type": "code",
   "execution_count": 29,
   "metadata": {},
   "outputs": [
    {
     "data": {
      "text/plain": [
       "True"
      ]
     },
     "execution_count": 29,
     "metadata": {},
     "output_type": "execute_result"
    }
   ],
   "source": [
    "is_sorted([1,2,3,3,6,10,10,10])"
   ]
  },
  {
   "cell_type": "markdown",
   "metadata": {},
   "source": [
    "#### 2.3:\n",
    "Write a function called *binary_search*\n",
    "that takes two arguments, a list of integers t (which is guaranteed to be sorted in\n",
    "ascending order) and an integer elmt, and returns True if elmt appears in list t\n",
    "and False otherwise."
   ]
  },
  {
   "cell_type": "code",
   "execution_count": 30,
   "metadata": {},
   "outputs": [],
   "source": [
    "def binary_search(t,elmt):\n",
    "    #check if list is in order\n",
    "    if is_sorted(t) == False:\n",
    "        return \"please input an ascending order list\"\n",
    "    if not t or len(t) == 0:\n",
    "        return False\n",
    "    #assign pointer\n",
    "    left = 0\n",
    "    right = len(t) - 1\n",
    "    while left <= right:\n",
    "        mid = (left + right)//2\n",
    "        #traverse through the left half\n",
    "        if t[mid] < elmt:\n",
    "            left = mid + 1\n",
    "        #traver throught the right half\n",
    "        elif t[mid] > elmt:\n",
    "            right = mid - 1\n",
    "        else:\n",
    "            return True\n",
    "    return False"
   ]
  },
  {
   "cell_type": "code",
   "execution_count": 31,
   "metadata": {},
   "outputs": [
    {
     "data": {
      "text/plain": [
       "'please input an ascending order list'"
      ]
     },
     "execution_count": 31,
     "metadata": {},
     "output_type": "execute_result"
    }
   ],
   "source": [
    "binary_search([1,2,3,6,10,9],2)"
   ]
  },
  {
   "cell_type": "code",
   "execution_count": null,
   "metadata": {},
   "outputs": [],
   "source": [
    "binary_search([1,3,4],2)"
   ]
  },
  {
   "cell_type": "code",
   "execution_count": 37,
   "metadata": {},
   "outputs": [
    {
     "data": {
      "text/plain": [
       "False"
      ]
     },
     "execution_count": 37,
     "metadata": {},
     "output_type": "execute_result"
    }
   ],
   "source": [
    "binary_search([1,2,7,11,12,14],3)"
   ]
  },
  {
   "cell_type": "markdown",
   "metadata": {},
   "source": [
    "### Problem 3:  More Fun with Strings (2 points)"
   ]
  },
  {
   "cell_type": "markdown",
   "metadata": {},
   "source": [
    "#### 3.1: \n",
    "Write a function called *char_hist* that takes a string as its argument and returns a\n",
    "dictionary whose keys are characters and values are the number of times each character appeared in the input. "
   ]
  },
  {
   "cell_type": "code",
   "execution_count": 19,
   "metadata": {},
   "outputs": [],
   "source": [
    "#do not use collection.counter\n",
    "def char_hist(string):\n",
    "    if type(string) != str:\n",
    "        raise TypeError(\"only allowed input type is string!!!!!\") \n",
    "    ###decapitalize\n",
    "    string = string.lower()\n",
    "    #get unique characters in the string\n",
    "    uniq_char = set(string)\n",
    "    dic = {}\n",
    "    for char in uniq_char:\n",
    "        dic[char] =  string.count(char)\n",
    "    return dic"
   ]
  },
  {
   "cell_type": "code",
   "execution_count": 20,
   "metadata": {},
   "outputs": [
    {
     "data": {
      "text/plain": [
       "{'t': 2, ' ': 1, 'a': 3, 'g': 1, 'c': 1}"
      ]
     },
     "execution_count": 20,
     "metadata": {},
     "output_type": "execute_result"
    }
   ],
   "source": [
    "char_hist(\"gat taca\")"
   ]
  },
  {
   "cell_type": "markdown",
   "metadata": {},
   "source": [
    "#### 3.2:\n",
    "Write a function called *bigram_hist* that takes a string as its argument and returns\n",
    "a dictionary whose keys are 2-tuples of characters and values are the number of times\n",
    "that pair of characters appeared in the string.\n"
   ]
  },
  {
   "cell_type": "code",
   "execution_count": 38,
   "metadata": {},
   "outputs": [],
   "source": [
    "def bigram_hist(string):\n",
    "    if type(string) != str:\n",
    "        raise TypeError(\"only allowed input type is string!!!!!\")\n",
    "    ###decapitalize and split\n",
    "    string = string.lower().strip()\n",
    "    string_list = [string[i:i+2] for i in range(0, len(string), 1)][:-1]\n",
    "    dic = {}\n",
    "    #print(string_list)\n",
    "    #initiate set for getting unique while remaining order\n",
    "    seen = set()\n",
    "    uniq_words = [x for x in string_list if not (x in seen or seen.add(x))]\n",
    "    for words in uniq_words:\n",
    "        dic[words[0],words[1]] = string_list.count(words)\n",
    "    return dic  "
   ]
  },
  {
   "cell_type": "code",
   "execution_count": 39,
   "metadata": {},
   "outputs": [
    {
     "data": {
      "text/plain": [
       "{('m', 'i'): 1,\n",
       " ('i', 's'): 1,\n",
       " ('s', 's'): 2,\n",
       " ('s', 'i'): 2,\n",
       " ('i', ' '): 1,\n",
       " (' ', 's'): 1,\n",
       " ('i', 'p'): 1,\n",
       " ('p', 'p'): 1,\n",
       " ('p', 'i'): 1}"
      ]
     },
     "execution_count": 39,
     "metadata": {},
     "output_type": "execute_result"
    }
   ],
   "source": [
    "bigram_hist(\"Missi ssippi\")"
   ]
  },
  {
   "cell_type": "code",
   "execution_count": 40,
   "metadata": {
    "scrolled": true
   },
   "outputs": [
    {
     "data": {
      "text/plain": [
       "{('c', 'a'): 1,\n",
       " ('a', 't'): 1,\n",
       " ('t', ','): 1,\n",
       " (',', ' '): 1,\n",
       " (' ', 'd'): 1,\n",
       " ('d', 'o'): 1,\n",
       " ('o', 'g'): 1}"
      ]
     },
     "execution_count": 40,
     "metadata": {},
     "output_type": "execute_result"
    }
   ],
   "source": [
    "bigram_hist(\"cat, dog\")"
   ]
  },
  {
   "cell_type": "markdown",
   "metadata": {},
   "source": [
    "using collection.counter"
   ]
  },
  {
   "cell_type": "code",
   "execution_count": 41,
   "metadata": {},
   "outputs": [],
   "source": [
    "from collections import Counter\n",
    "def bigram_hist1(string):\n",
    "    if type(string) != str:\n",
    "        raise TypeError(\"only allowed input type is string!!!!!\")\n",
    "    ###decapitalize and split\n",
    "    string = string.lower().strip()\n",
    "    string_list = [string[i:i+2] for i in range(0, len(string), 1)][:-1]\n",
    "    string_list = [(i[0],i[1]) for i in string_list] \n",
    "    dic = dict(Counter(string_list))\n",
    "    return dic"
   ]
  },
  {
   "cell_type": "code",
   "execution_count": 42,
   "metadata": {},
   "outputs": [
    {
     "data": {
      "text/plain": [
       "{('m', 'i'): 1,\n",
       " ('i', 's'): 2,\n",
       " ('s', 's'): 2,\n",
       " ('s', ' '): 1,\n",
       " (' ', 'i'): 1,\n",
       " ('s', 'i'): 1,\n",
       " ('i', 'p'): 1,\n",
       " ('p', 'p'): 1,\n",
       " ('p', 'i'): 1}"
      ]
     },
     "execution_count": 42,
     "metadata": {},
     "output_type": "execute_result"
    }
   ],
   "source": [
    "bigram_hist1(\"Miss issippi\")"
   ]
  },
  {
   "cell_type": "markdown",
   "metadata": {},
   "source": [
    "### Problem 4: Tuples as Vectors (4 points)"
   ]
  },
  {
   "cell_type": "markdown",
   "metadata": {},
   "source": [
    "#### 4.1:\n",
    "Implement a function called *vec_scalar_mult*, which takes two arguments: a tuple\n",
    "of numbers (floats and/or integers) t and a number (float or integer) s and returns\n",
    "a tuple of the same length as t, with its entries equal to the entries of t multiplied\n",
    "by s"
   ]
  },
  {
   "cell_type": "code",
   "execution_count": 44,
   "metadata": {},
   "outputs": [],
   "source": [
    "def vec_scalar_mult(t, s):\n",
    "    if not isinstance(t,tuple):\n",
    "        raise TypeError(\"t input type should be a type\")\n",
    "    if (False in [type(i) in(float,int) for i in t]) or (type(s) not in(float,int)):\n",
    "        raise TypeError(\"please input an int or float!!!! \")\n",
    "    return tuple(s*num for num in t)"
   ]
  },
  {
   "cell_type": "code",
   "execution_count": 46,
   "metadata": {},
   "outputs": [
    {
     "data": {
      "text/plain": [
       "(2.2, 2.64044, 7.3260000000000005)"
      ]
     },
     "execution_count": 46,
     "metadata": {},
     "output_type": "execute_result"
    }
   ],
   "source": [
    "vec_scalar_mult((1,1.2002,3.33),2.2)"
   ]
  },
  {
   "cell_type": "markdown",
   "metadata": {},
   "source": [
    "#### 4.2:\n",
    "Implement a function called *vec_inner_product* which takes two “vectors” (i.e.,\n",
    "tuples of floats and/or ints) as its inputs and outputs a float corresponding to the\n",
    "inner product of these two vectors."
   ]
  },
  {
   "cell_type": "code",
   "execution_count": 48,
   "metadata": {},
   "outputs": [],
   "source": [
    "def vec_inner_product(vec1,vec2):\n",
    "    if (type(vec1) == type(vec2) == tuple) == False:\n",
    "        raise TypeError(\"please input tuple for valid arguments!!!!\")\n",
    "    elif (False in [type(i) in(float,int) for i in vec1]) or \\\n",
    "    (False in [type(i) in(float,int) for i in vec2]):\n",
    "        raise TypeError(\"please input an int or float inside the tuple!!!! \")\n",
    "    elif len(vec1) != len(vec2):\n",
    "        raise ValueError(\"please input tuples in same dimension\")\n",
    "    else:\n",
    "        return sum([i*j for (i, j) in zip(vec1, vec2)])"
   ]
  },
  {
   "cell_type": "code",
   "execution_count": 51,
   "metadata": {},
   "outputs": [
    {
     "data": {
      "text/plain": [
       "29.0"
      ]
     },
     "execution_count": 51,
     "metadata": {},
     "output_type": "execute_result"
    }
   ],
   "source": [
    "vec_inner_product((6,5,1),(3.0,2,1))"
   ]
  },
  {
   "cell_type": "markdown",
   "metadata": {},
   "source": [
    "#### 4.3:\n",
    "\n",
    "Write a function *check_valid_mx* that takes a single argument and returns a Boolean,\n",
    "which is True if the given argument is a tuple that validly represents a matrix as\n",
    "STATS507: Data Analysis in Python 5\n",
    "described above, and returns False otherwise"
   ]
  },
  {
   "cell_type": "code",
   "execution_count": 61,
   "metadata": {},
   "outputs": [],
   "source": [
    "def check_valid_mx(my_mx):\n",
    "    #check the input type\n",
    "    if (type(my_mx) != tuple):\n",
    "        return False\n",
    "    #check if nested tuple\n",
    "    elif False in [type(i) == tuple for i in my_mx]:\n",
    "        return False\n",
    "    #check if length of tuple unique\n",
    "    elif len(set([len(i) for i in my_mx])) != 1:\n",
    "        return False\n",
    "    #check if elements within tuple valid\n",
    "    elif False in [type(num) in(float, int) for num in \\\n",
    "                 [element for minitup in my_mx for element in minitup]]:\n",
    "        return False\n",
    "    else:\n",
    "        return True"
   ]
  },
  {
   "cell_type": "code",
   "execution_count": 66,
   "metadata": {},
   "outputs": [
    {
     "data": {
      "text/plain": [
       "True"
      ]
     },
     "execution_count": 66,
     "metadata": {},
     "output_type": "execute_result"
    }
   ],
   "source": [
    "check_valid_mx(((1,2,3),(4,5,6),(7,8,9),(1,1,1.1)))"
   ]
  },
  {
   "cell_type": "code",
   "execution_count": 63,
   "metadata": {},
   "outputs": [
    {
     "data": {
      "text/plain": [
       "False"
      ]
     },
     "execution_count": 63,
     "metadata": {},
     "output_type": "execute_result"
    }
   ],
   "source": [
    "check_valid_mx(((\"a\",2,3),(4,5,6),(7,8,9),(1,1,1)))"
   ]
  },
  {
   "cell_type": "code",
   "execution_count": 64,
   "metadata": {},
   "outputs": [
    {
     "data": {
      "text/plain": [
       "False"
      ]
     },
     "execution_count": 64,
     "metadata": {},
     "output_type": "execute_result"
    }
   ],
   "source": [
    "check_valid_mx(((2,3),(4,5,6),(7,8,9),(1,1,1)))"
   ]
  },
  {
   "cell_type": "code",
   "execution_count": 60,
   "metadata": {},
   "outputs": [
    {
     "data": {
      "text/plain": [
       "False"
      ]
     },
     "execution_count": 60,
     "metadata": {},
     "output_type": "execute_result"
    }
   ],
   "source": [
    "check_valid_mx(([2,3,3],(4,5,6),(7,8,9),(1,1,1)))"
   ]
  },
  {
   "cell_type": "markdown",
   "metadata": {},
   "source": [
    " #### 4.4: \n",
    " Write a function mx_vec_mult that takes a matrix (i.e., tuple of tuples) and a vector\n",
    "(i.e., a tuple) as its arguments, and returns a vector (i.e., a tuple of numbers) that is\n",
    "the result of multiplying the given vector by the given matrix"
   ]
  },
  {
   "cell_type": "code",
   "execution_count": 68,
   "metadata": {},
   "outputs": [],
   "source": [
    "def check_valid_tup(vec):\n",
    "    if (type(vec) != tuple):\n",
    "        return False\n",
    "    elif (False in [type(i) in(float,int) for i in vec]):\n",
    "        return False\n",
    "    else:\n",
    "        return True"
   ]
  },
  {
   "cell_type": "code",
   "execution_count": 69,
   "metadata": {},
   "outputs": [],
   "source": [
    "def mx_vec_mult(tup,vec):\n",
    "    if not check_valid_mx(tup):\n",
    "        raise TypeError(\"please input a valid matrix in form of nested tuples\")\n",
    "    elif not check_valid_tup(vec):\n",
    "        raise TypeError(\"please input a valid numerical vector in form of tuple\")\n",
    "    elif len(tup[0]) != len(vec):\n",
    "        raise ValueError(\"please input matrix and vector of right sizes for calculation\")\n",
    "    else:\n",
    "        #temperary list for storing items\n",
    "        temp_list = []\n",
    "        for i in tup:\n",
    "            temp_list.append(vec_inner_product(i,vec))\n",
    "        return tuple(temp_list)"
   ]
  },
  {
   "cell_type": "code",
   "execution_count": 70,
   "metadata": {},
   "outputs": [
    {
     "data": {
      "text/plain": [
       "True"
      ]
     },
     "execution_count": 70,
     "metadata": {},
     "output_type": "execute_result"
    }
   ],
   "source": [
    "check_valid_tup((1,2,3,4.2))"
   ]
  },
  {
   "cell_type": "code",
   "execution_count": 79,
   "metadata": {},
   "outputs": [
    {
     "data": {
      "text/plain": [
       "(6, 16)"
      ]
     },
     "execution_count": 79,
     "metadata": {},
     "output_type": "execute_result"
    }
   ],
   "source": [
    "mat1,vec1 = ((1,2,1),(3,4,5)),(1,2,1)\n",
    "mx_vec_mult(mat1,vec1)"
   ]
  },
  {
   "cell_type": "markdown",
   "metadata": {},
   "source": [
    "### Problem 5:  More Fun with Vectors (2 points)"
   ]
  },
  {
   "cell_type": "markdown",
   "metadata": {},
   "source": [
    "#### 5.1:\n",
    "Write a function is_valid_sparse_vector that takes one argument, and returns\n",
    "True if and only if the input is a valid sparse vector, and returns False otherwise."
   ]
  },
  {
   "cell_type": "code",
   "execution_count": 82,
   "metadata": {},
   "outputs": [],
   "source": [
    "def is_valid_sparse_vector(dic):\n",
    "    if type(dic)!= dict:\n",
    "        return False\n",
    "    #if keys are not integers or not positive\n",
    "    elif not set([type(i) for i in dic.keys()]) == {int} or \\\n",
    "        set([i>0 for i in dic.keys()]) != {True}:\n",
    "        return False\n",
    "    #if values are not floats\n",
    "    elif not set([type(dic[i]) for i in dic.keys()]) == {float}:\n",
    "        return False\n",
    "    #indeces has to be all positive\n",
    "    else: \n",
    "        return True"
   ]
  },
  {
   "cell_type": "code",
   "execution_count": 83,
   "metadata": {},
   "outputs": [
    {
     "data": {
      "text/plain": [
       "True"
      ]
     },
     "execution_count": 83,
     "metadata": {},
     "output_type": "execute_result"
    }
   ],
   "source": [
    "is_valid_sparse_vector({2:1.2,3:2.1,4:3.1})"
   ]
  },
  {
   "cell_type": "code",
   "execution_count": 84,
   "metadata": {},
   "outputs": [
    {
     "data": {
      "text/plain": [
       "False"
      ]
     },
     "execution_count": 84,
     "metadata": {},
     "output_type": "execute_result"
    }
   ],
   "source": [
    "is_valid_sparse_vector({0.2:1.2,3:2,4:3})"
   ]
  },
  {
   "cell_type": "code",
   "execution_count": 85,
   "metadata": {},
   "outputs": [
    {
     "data": {
      "text/plain": [
       "False"
      ]
     },
     "execution_count": 85,
     "metadata": {},
     "output_type": "execute_result"
    }
   ],
   "source": [
    "is_valid_sparse_vector({-0.2:1.2,3:2,4:3})"
   ]
  },
  {
   "cell_type": "code",
   "execution_count": 86,
   "metadata": {},
   "outputs": [
    {
     "data": {
      "text/plain": [
       "False"
      ]
     },
     "execution_count": 86,
     "metadata": {},
     "output_type": "execute_result"
    }
   ],
   "source": [
    "is_valid_sparse_vector({-0:1.2,3:2,4:3})"
   ]
  },
  {
   "cell_type": "markdown",
   "metadata": {},
   "source": [
    "#### 5.2:\n",
    "Write a function sparse_inner_product that takes two “sparse vectors” as its inputs, and returns a float that is the value of the inner product of the vectors that\n",
    "the inputs represent. "
   ]
  },
  {
   "cell_type": "code",
   "execution_count": 87,
   "metadata": {},
   "outputs": [],
   "source": [
    "def sparse_inner_product(sv1,sv2):\n",
    "    if not (is_valid_sparse_vector(sv1) and is_valid_sparse_vector(sv1)):\n",
    "        raise TypeError(\"please input valid dictionary as sparse vectors\")\n",
    "    elif len(sv1) != len(sv2):\n",
    "        raise ValueError(\"dimension of sparse vector should match\")\n",
    "    else:\n",
    "        #return sum([sv1[i]*sv2[j] for (i, j) in zip(sv1.keys(), sv2.keys())])\n",
    "        return sum(sv1[key]*value for key, value in sv2.items() if key in sv1)"
   ]
  },
  {
   "cell_type": "code",
   "execution_count": 90,
   "metadata": {},
   "outputs": [
    {
     "data": {
      "text/plain": [
       "15.0"
      ]
     },
     "execution_count": 90,
     "metadata": {},
     "output_type": "execute_result"
    }
   ],
   "source": [
    "a,b = {1: 3.0, 2: 0.0, 5: 4.0},{ 5: 3.0, 1: 1.0,4:3.0}\n",
    "sparse_inner_product(a,b)\n"
   ]
  },
  {
   "cell_type": "markdown",
   "metadata": {},
   "source": [
    "### Problem 6: More Fun with Tuples (3 points)"
   ]
  },
  {
   "cell_type": "markdown",
   "metadata": {},
   "source": [
    "#### 6.1: \n",
    "Write a function called my_sum that\n",
    "takes any number of numeric (ints and floats) arguments, and returns the sum of its\n",
    "arguments."
   ]
  },
  {
   "cell_type": "code",
   "execution_count": 75,
   "metadata": {},
   "outputs": [],
   "source": [
    "def my_sum(*num):\n",
    "    #cast as tuple from input\n",
    "    if not num or len(num) == 0:\n",
    "        return 0\n",
    "    if False in [type(i) in(float,int) for i in num]:\n",
    "        raise TypeError(\"please input a numerical value, int or float\")\n",
    "    else:\n",
    "        return sum(num)"
   ]
  },
  {
   "cell_type": "code",
   "execution_count": 76,
   "metadata": {},
   "outputs": [
    {
     "data": {
      "text/plain": [
       "0"
      ]
     },
     "execution_count": 76,
     "metadata": {},
     "output_type": "execute_result"
    }
   ],
   "source": [
    "my_sum()"
   ]
  },
  {
   "cell_type": "code",
   "execution_count": 49,
   "metadata": {},
   "outputs": [
    {
     "data": {
      "text/plain": [
       "82"
      ]
     },
     "execution_count": 49,
     "metadata": {},
     "output_type": "execute_result"
    }
   ],
   "source": [
    "my_sum(1,2,3,4,5,67)"
   ]
  },
  {
   "cell_type": "markdown",
   "metadata": {},
   "source": [
    "#### 6.2: \n",
    "Write a function called reverse_tuple that takes a tuple as its only argument and\n",
    "returns a tuple that is the reverse of the input. "
   ]
  },
  {
   "cell_type": "code",
   "execution_count": 50,
   "metadata": {},
   "outputs": [],
   "source": [
    "def reverse_tuple(tup):\n",
    "    return tuple(list((tup))[::-1])"
   ]
  },
  {
   "cell_type": "code",
   "execution_count": 51,
   "metadata": {},
   "outputs": [
    {
     "data": {
      "text/plain": [
       "(7, 6, 5, 4, 1)"
      ]
     },
     "execution_count": 51,
     "metadata": {},
     "output_type": "execute_result"
    }
   ],
   "source": [
    "reverse_tuple((1,4,5,6,7))"
   ]
  },
  {
   "cell_type": "markdown",
   "metadata": {},
   "source": [
    "#### 6.3: \n",
    "Write a function called rotate_tuple that takes two arguments: a tuple and an\n",
    "integer, in that order. Letting n be the integer given in the input, your function\n",
    "should return a tuple of the same length as the input tuple, but with its entries\n",
    "“rotated” by n. I"
   ]
  },
  {
   "cell_type": "code",
   "execution_count": 134,
   "metadata": {},
   "outputs": [],
   "source": [
    "def rotate_tuple(tup,num):\n",
    "    try:\n",
    "        #use slicing to perform rotation\n",
    "        if not isinstance(tup,tuple):\n",
    "            raise TypeError\n",
    "        return tup[-(num)%len(tup):] + tup[:-(num)%len(tup)]\n",
    "    except(ValueError , TypeError):\n",
    "        print(\"first arg should be type tuple, second arg should be int type\")\n",
    "        #res = rotate_tuple(tuple(tup), int(float(num)))\n",
    "        try:\n",
    "            return rotate_tuple(tuple(tup), int(float(num)))\n",
    "        #if the user input the number as \"apple\" or any other conversion errors\n",
    "        except(ValueError, TypeError):\n",
    "            raise ValueError(\"Error again!!!!\")\n",
    "            return \"please check input again!!!! cannot covert str into float\""
   ]
  },
  {
   "cell_type": "code",
   "execution_count": 135,
   "metadata": {},
   "outputs": [
    {
     "name": "stdout",
     "output_type": "stream",
     "text": [
      "first arg should be type tuple, second arg should be int type\n"
     ]
    },
    {
     "data": {
      "text/plain": [
       "(6, 0, 1, 2, 3, 4, 5)"
      ]
     },
     "execution_count": 135,
     "metadata": {},
     "output_type": "execute_result"
    }
   ],
   "source": [
    "rotate_tuple((0,1,2,3,4,5,6),1.1)"
   ]
  },
  {
   "cell_type": "code",
   "execution_count": 136,
   "metadata": {},
   "outputs": [
    {
     "name": "stdout",
     "output_type": "stream",
     "text": [
      "first arg should be type tuple, second arg should be int type\n"
     ]
    },
    {
     "data": {
      "text/plain": [
       "(6, 0, 1, 2, 3, 4, 5)"
      ]
     },
     "execution_count": 136,
     "metadata": {},
     "output_type": "execute_result"
    }
   ],
   "source": [
    "rotate_tuple((0,1,2,3,4,5,6),\"1.1\")"
   ]
  },
  {
   "cell_type": "code",
   "execution_count": 137,
   "metadata": {},
   "outputs": [
    {
     "name": "stdout",
     "output_type": "stream",
     "text": [
      "first arg should be type tuple, second arg should be int type\n"
     ]
    },
    {
     "data": {
      "text/plain": [
       "(6, 0, 1, 2, 3, 4, 5)"
      ]
     },
     "execution_count": 137,
     "metadata": {},
     "output_type": "execute_result"
    }
   ],
   "source": [
    "rotate_tuple([0,1,2,3,4,5,6],8)"
   ]
  },
  {
   "cell_type": "code",
   "execution_count": 138,
   "metadata": {},
   "outputs": [
    {
     "data": {
      "text/plain": [
       "(0, 1, 2, 3, 4, 5, 6)"
      ]
     },
     "execution_count": 138,
     "metadata": {},
     "output_type": "execute_result"
    }
   ],
   "source": [
    "rotate_tuple((0,1,2,3,4,5,6),7)"
   ]
  }
 ],
 "metadata": {
  "kernelspec": {
   "display_name": "Python 3",
   "language": "python",
   "name": "python3"
  },
  "language_info": {
   "codemirror_mode": {
    "name": "ipython",
    "version": 3
   },
   "file_extension": ".py",
   "mimetype": "text/x-python",
   "name": "python",
   "nbconvert_exporter": "python",
   "pygments_lexer": "ipython3",
   "version": "3.6.5"
  }
 },
 "nbformat": 4,
 "nbformat_minor": 2
}
