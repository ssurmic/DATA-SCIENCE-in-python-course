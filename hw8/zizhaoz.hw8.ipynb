{
 "cells": [
  {
   "cell_type": "markdown",
   "metadata": {},
   "source": [
    "## <font color=blue> Stats507  , WI 2019</font>\n",
    "### Zizhao Zhang\n",
    "#### zizhaoz@umich.edu\n",
    "***\n",
    "\n",
    "Time spent on problems(hours):   *Problem 1*: 0.4 hour , *Problem 2*: 1.5  *Problem 3*: 2\n",
    "***\n",
    "\n",
    "Persons discussed idea about: None"
   ]
  },
  {
   "cell_type": "markdown",
   "metadata": {},
   "source": [
    "<font color = blue> **relevant packages** </font>"
   ]
  },
  {
   "cell_type": "code",
   "execution_count": 1,
   "metadata": {},
   "outputs": [],
   "source": [
    "import re\n",
    "import math\n",
    "import itertools\n",
    "import matplotlib as mp\n",
    "import matplotlib.pyplot as plt\n",
    "import mrjob\n",
    "from mrjob.job import MRJob \n",
    "from mrjob.step import MRStep\n",
    "import pandas as pd\n",
    "import matplotlib.pyplot as plt\n",
    "import math\n",
    "import numpy as np\n",
    "import os"
   ]
  },
  {
   "cell_type": "markdown",
   "metadata": {},
   "source": [
    "***\n",
    "### Problem 1: Warmup: counting words with mrjob (3 points)"
   ]
  },
  {
   "cell_type": "markdown",
   "metadata": {},
   "source": [
    "#### 1.1:\n",
    "Write an **mrjob** job that takes text as input and counts how many times each word\n",
    "occurs in the text. Your script should strip punctuation like full stops, commas and\n",
    "semicolons, but you may treat hyphens, apostrophes, etc. as you wish. Simplest\n",
    "is to treat, e.g., “John’s” as two words, “John” and “s”, but feel free to do more\n",
    "complicated processing if you wish. Your script should ignore case, so that “Cat”\n",
    "and “cat” are considered the same word. Your output should be a collection of\n",
    "(word,count) pairs.\n",
    "***"
   ]
  },
  {
   "cell_type": "markdown",
   "metadata": {},
   "source": [
    "#### 1.1 sol: \n",
    "The file name of **\"mr_word_count.py\"** consists of the code running the mrjob request, using regular expression to parse out the words (ignoring puncuations) from each line saving it to a list of words. <font color = blue> the regex compliation is shown as below in the raw type cell, the hyphenated words or dashed words are splitted into seperate words</font>, <font color = red>however, apostropheted words like **he's** is considered as one since all apostrophes are not removed</font>"
   ]
  },
  {
   "cell_type": "code",
   "execution_count": 2,
   "metadata": {},
   "outputs": [],
   "source": [
    "proper_words = re.compile(r'[\\w\\']+')"
   ]
  },
  {
   "cell_type": "markdown",
   "metadata": {},
   "source": [
    "**contents of \"mr_word_count.py\" is cat as below**"
   ]
  },
  {
   "cell_type": "code",
   "execution_count": 3,
   "metadata": {},
   "outputs": [
    {
     "name": "stdout",
     "output_type": "stream",
     "text": [
      "#!/usr/bin/env python3\n",
      "# -*- coding: utf-8 -*-\n",
      "\"\"\"\n",
      "Created on Sat Mar 16 19:57:21 2019\n",
      "\n",
      "###############################################\n",
      "This file contains the class extends from mrjob\n",
      "in the purpose of returning the according \n",
      "frequency and the word given a text as input\n",
      "###############################################\n",
      "\n",
      "@author: zizhao zhang\n",
      "\"\"\"\n",
      "\n",
      "###import library###\n",
      "from mrjob.job import MRJob\n",
      "import re\n",
      "\n",
      "proper_words = re.compile(r'[\\w\\']+')\n",
      "\n",
      "class Text_frequency_count (MRJob):\n",
      "    # Mapper to read line, yield that word and a counter of 1 per line\n",
      "    def mapper(self, _,line):\n",
      "        line = line.strip()\n",
      "        for word in proper_words.findall(line):\n",
      "            yield (word.lower(), 1)\n",
      "    # Optional combiner for the optimization to count words\n",
      "    # def combiner (self, word, count):\n",
      "       # yield (word, sum(count))\n",
      "    # Reduce over all nodes to get word count in a format of [words, count].\n",
      "    def reducer(self, word, count):\n",
      "        yield (word, sum(count))\n",
      "#to run in bash\n",
      "if __name__ == '__main__':\n",
      "    Text_frequency_count.run()\n"
     ]
    }
   ],
   "source": [
    "!cat mr_word_count.py"
   ]
  },
  {
   "cell_type": "markdown",
   "metadata": {},
   "source": [
    "#### 1.2 \n",
    " To test your code, I have uploaded a simple text file to the course webpage:\n",
    "http://www-personal.umich.edu/~klevin/teaching/Winter2019/STATS507/simple.txt .\n",
    "Download this file and test your code either on your local machine or on the Fladoop\n",
    "grid. The file is small enough that you should be able to check by hand whether your\n",
    "STATS507: Data Analysis in Python 2\n",
    "code is behaving correctly. Save the output of running your script on this small file\n",
    "to a file called **simple_word_counts.txt** and include it in your submission"
   ]
  },
  {
   "cell_type": "markdown",
   "metadata": {},
   "source": [
    "Python command of saving result is shown as below, erro/status message can be seen as below and the standard output is consisted in the file\n",
    "***\n",
    "\n",
    "#### 1.2 sol:"
   ]
  },
  {
   "cell_type": "code",
   "execution_count": 4,
   "metadata": {},
   "outputs": [
    {
     "name": "stdout",
     "output_type": "stream",
     "text": [
      "No configs found; falling back on auto-configuration\n",
      "No configs specified for inline runner\n",
      "Running step 1 of 1...\n",
      "Creating temp directory /var/folders/qk/9ycrb_xx7xq9lq8ddyqqnpbr0000gn/T/mr_word_count.zizhaozhang.20190408.010836.559292\n",
      "reading from STDIN\n",
      "job output is in /var/folders/qk/9ycrb_xx7xq9lq8ddyqqnpbr0000gn/T/mr_word_count.zizhaozhang.20190408.010836.559292/output\n",
      "Streaming final output from /var/folders/qk/9ycrb_xx7xq9lq8ddyqqnpbr0000gn/T/mr_word_count.zizhaozhang.20190408.010836.559292/output...\n",
      "Removing temp directory /var/folders/qk/9ycrb_xx7xq9lq8ddyqqnpbr0000gn/T/mr_word_count.zizhaozhang.20190408.010836.559292...\n"
     ]
    }
   ],
   "source": [
    "!python mr_word_count.py < simple.txt >  simple_word_counts.txt"
   ]
  },
  {
   "cell_type": "markdown",
   "metadata": {},
   "source": [
    "***\n",
    "Result of the file is shown as below, Note that there is oddities in the output result as the format of \"cheese\", and \"raining\" is off due to the length of the strings <font color = blue> consists more than 5 characters\n",
    "***"
   ]
  },
  {
   "cell_type": "code",
   "execution_count": 5,
   "metadata": {},
   "outputs": [
    {
     "name": "stdout",
     "output_type": "stream",
     "text": [
      "\"fleas\"\t1\n",
      "\"cheese\"\t1\n",
      "\"dogs\"\t2\n",
      "\"eat\"\t2\n",
      "\"raining\"\t1\n",
      "\"cats\"\t3\n",
      "\"have\"\t1\n",
      "\"mice\"\t3\n",
      "\"and\"\t3\n"
     ]
    }
   ],
   "source": [
    "!cat simple_word_counts.txt"
   ]
  },
  {
   "cell_type": "markdown",
   "metadata": {},
   "source": [
    "#### 1.3:\n",
    "Once you are confident in the correctness of your program, run your mrjob script\n",
    "on the file\n",
    "\n",
    "                hdfs:/var/stats507w19/darwin.txt\n",
    "\n",
    "on the Fladoop grid (this file is the Project Gutenberg plain text version of Charles\n",
    "Darwin’s scientific work On the Origin of Species). Note that this file is on hdfs, not\n",
    "the local file system, so you’ll have to run your script accordingly. Save the output\n",
    "to a file called **darwin_word_counts.txt**, and include it in your submission.\n",
    "\n",
    "\n",
    "<font color = blue> Note: login bash commands: \" ssh uniqname@flux-hadoop-login.arc-ts.umich.edu \" </font>\n"
   ]
  },
  {
   "cell_type": "markdown",
   "metadata": {},
   "source": [
    "***\n",
    "#### 1.3 sol:"
   ]
  },
  {
   "cell_type": "markdown",
   "metadata": {},
   "source": [
    "<font color = red>step1: </font>**below is the command to run on the local bash in the same directory as the notebook file to send the py file**\n",
    "\n",
    "**Note:** directory ~/stats507/zizhaoz_hw8/ already existed in the flux hadoop server"
   ]
  },
  {
   "cell_type": "raw",
   "metadata": {},
   "source": [
    "scp mr_word_count.py zizhaoz@flux-hadoop-login.arc-ts.umich.edu:~/stats507/zizhaoz_hw8/"
   ]
  },
  {
   "cell_type": "markdown",
   "metadata": {},
   "source": [
    "<font color = red>step2: </font> **below is the command to run on the flux - hadoop server to output the desired result file**"
   ]
  },
  {
   "cell_type": "raw",
   "metadata": {},
   "source": [
    "python mr_word_count.py hdfs:///var/stats507w19/darwin.txt -r hadoop > darwin_word_counts.txt"
   ]
  },
  {
   "cell_type": "markdown",
   "metadata": {},
   "source": [
    "<font color = red>step3: </font> **below is the command to run on the local bash in the same directory as the notebook file to retrive the result file**"
   ]
  },
  {
   "cell_type": "raw",
   "metadata": {},
   "source": [
    "scp zizhaoz@flux-hadoop-login.arc-ts.umich.edu:~/stats507/zizhaoz_hw8/darwin_word_counts.txt ."
   ]
  },
  {
   "cell_type": "markdown",
   "metadata": {},
   "source": [
    "As we can tell from below, the file is properly copied to our local directory "
   ]
  },
  {
   "cell_type": "code",
   "execution_count": 6,
   "metadata": {},
   "outputs": [
    {
     "data": {
      "text/plain": [
       "True"
      ]
     },
     "execution_count": 6,
     "metadata": {},
     "output_type": "execute_result"
    }
   ],
   "source": [
    "os.path.isfile('./darwin_word_counts.txt')"
   ]
  },
  {
   "cell_type": "markdown",
   "metadata": {},
   "source": [
    "#### 1.4:\n",
    "Zipf’s law states, roughly, that if one plots word frequency against frequency rank\n",
    "(i.e., most frequent word, second most frequent word, etc.), the resulting line is (approximately) linear on a log-log scale. Using the information in **darwin_word_counts.txt**,\n",
    "make a plot of word frequency as a function of word rank on a log-log scale for all\n",
    "words in the file\n",
    "\n",
    "                hdfs:/var/stats507w19/darwin.txt\n",
    "    \n",
    "Give an appropriate title to your plot and include axis labels. Save the plot as a pdf\n",
    "file called **zipf.pdf**, and include it in your submission.\n",
    "***"
   ]
  },
  {
   "cell_type": "markdown",
   "metadata": {},
   "source": [
    "#### 1.4 sol:"
   ]
  },
  {
   "cell_type": "code",
   "execution_count": 7,
   "metadata": {},
   "outputs": [],
   "source": [
    "words_count_df = pd.read_csv(\"./darwin_word_counts.txt\", header = None, sep = \"\\t\")\n",
    "words_count_df.columns = [\"word\",\"count\"]"
   ]
  },
  {
   "cell_type": "code",
   "execution_count": 8,
   "metadata": {},
   "outputs": [],
   "source": [
    "#rank the count based on frequency\n",
    "words_count_df[\"count_rank\"] = words_count_df[\"count\"].rank(ascending=False)\n",
    "words_count_df = words_count_df.sort_values(by=['count_rank'] , ascending=True)"
   ]
  },
  {
   "cell_type": "code",
   "execution_count": 9,
   "metadata": {},
   "outputs": [
    {
     "data": {
      "text/html": [
       "<div>\n",
       "<style scoped>\n",
       "    .dataframe tbody tr th:only-of-type {\n",
       "        vertical-align: middle;\n",
       "    }\n",
       "\n",
       "    .dataframe tbody tr th {\n",
       "        vertical-align: top;\n",
       "    }\n",
       "\n",
       "    .dataframe thead th {\n",
       "        text-align: right;\n",
       "    }\n",
       "</style>\n",
       "<table border=\"1\" class=\"dataframe\">\n",
       "  <thead>\n",
       "    <tr style=\"text-align: right;\">\n",
       "      <th></th>\n",
       "      <th>word</th>\n",
       "      <th>count</th>\n",
       "      <th>count_rank</th>\n",
       "    </tr>\n",
       "  </thead>\n",
       "  <tbody>\n",
       "    <tr>\n",
       "      <th>8374</th>\n",
       "      <td>the</td>\n",
       "      <td>14734</td>\n",
       "      <td>1.0</td>\n",
       "    </tr>\n",
       "    <tr>\n",
       "      <th>5882</th>\n",
       "      <td>of</td>\n",
       "      <td>10543</td>\n",
       "      <td>2.0</td>\n",
       "    </tr>\n",
       "    <tr>\n",
       "      <th>493</th>\n",
       "      <td>and</td>\n",
       "      <td>5919</td>\n",
       "      <td>3.0</td>\n",
       "    </tr>\n",
       "    <tr>\n",
       "      <th>4389</th>\n",
       "      <td>in</td>\n",
       "      <td>5471</td>\n",
       "      <td>4.0</td>\n",
       "    </tr>\n",
       "    <tr>\n",
       "      <th>8469</th>\n",
       "      <td>to</td>\n",
       "      <td>4832</td>\n",
       "      <td>5.0</td>\n",
       "    </tr>\n",
       "    <tr>\n",
       "      <th>156</th>\n",
       "      <td>a</td>\n",
       "      <td>3437</td>\n",
       "      <td>6.0</td>\n",
       "    </tr>\n",
       "    <tr>\n",
       "      <th>8372</th>\n",
       "      <td>that</td>\n",
       "      <td>2764</td>\n",
       "      <td>7.0</td>\n",
       "    </tr>\n",
       "    <tr>\n",
       "      <th>684</th>\n",
       "      <td>as</td>\n",
       "      <td>2240</td>\n",
       "      <td>8.0</td>\n",
       "    </tr>\n",
       "    <tr>\n",
       "      <th>4017</th>\n",
       "      <td>have</td>\n",
       "      <td>2119</td>\n",
       "      <td>9.0</td>\n",
       "    </tr>\n",
       "    <tr>\n",
       "      <th>920</th>\n",
       "      <td>be</td>\n",
       "      <td>2118</td>\n",
       "      <td>10.0</td>\n",
       "    </tr>\n",
       "  </tbody>\n",
       "</table>\n",
       "</div>"
      ],
      "text/plain": [
       "      word  count  count_rank\n",
       "8374   the  14734         1.0\n",
       "5882    of  10543         2.0\n",
       "493    and   5919         3.0\n",
       "4389    in   5471         4.0\n",
       "8469    to   4832         5.0\n",
       "156      a   3437         6.0\n",
       "8372  that   2764         7.0\n",
       "684     as   2240         8.0\n",
       "4017  have   2119         9.0\n",
       "920     be   2118        10.0"
      ]
     },
     "execution_count": 9,
     "metadata": {},
     "output_type": "execute_result"
    }
   ],
   "source": [
    "words_count_df.head(10)"
   ]
  },
  {
   "cell_type": "code",
   "execution_count": 10,
   "metadata": {},
   "outputs": [
    {
     "data": {
      "image/png": "[encoded data removed]",
      "text/plain": [
       "<Figure size 648x648 with 1 Axes>"
      ]
     },
     "metadata": {
      "needs_background": "light"
     },
     "output_type": "display_data"
    }
   ],
   "source": [
    "plt.figure(figsize = (9,9))\n",
    "plt.grid()\n",
    "plt.loglog(words_count_df[\"count_rank\"], words_count_df[\"count\"] )\n",
    "plt.xlabel(\"Log of rank of words\", fontsize = 15)\n",
    "plt.ylabel(\"log of frequency of words\", fontsize = 15)\n",
    "plt.title(\"word rank and word count in log-log scale\", fontsize = 18)\n",
    "_ = plt.show()"
   ]
  },
  {
   "cell_type": "markdown",
   "metadata": {},
   "source": [
    "#### or more precisely using a scatterplot as below"
   ]
  },
  {
   "cell_type": "code",
   "execution_count": 11,
   "metadata": {},
   "outputs": [
    {
     "data": {
      "image/png": "[encoded data removed]",
      "text/plain": [
       "<Figure size 648x648 with 1 Axes>"
      ]
     },
     "metadata": {
      "needs_background": "light"
     },
     "output_type": "display_data"
    }
   ],
   "source": [
    "log_plot = words_count_df.plot(figsize = (9,9),\n",
    "                               x = \"count_rank\",\n",
    "                               y = \"count\", \n",
    "                               kind = \"scatter\",\n",
    "                               loglog = True,\n",
    "                               alpha = 0.2,\n",
    "                               title = \"word rank and word count in log-log scale\",\n",
    "                               fontsize = 11,\n",
    "                               grid = True,\n",
    "                               legend = True\n",
    "                               )\n",
    "log_plot.set_xlabel(\"Log of rank of words\")\n",
    "log_plot.set_ylabel(\"log of frequency of words\")\n",
    "_ = plt.show()\n",
    "log_plot.figure.savefig('zipf.pdf')"
   ]
  },
  {
   "cell_type": "markdown",
   "metadata": {},
   "source": [
    "#### 1.5:\n",
    "How “Zipfian” does the resulting plot look (It suffices for you to state whether or\n",
    "not your plot looks approximately like a line)?\n",
    "***\n",
    "#### 1.5 sol:\n",
    "According to the \"Zipfian\" law, the plot generated from above, looks align with a Zeta distribution of a higher degree of \"s\", just like whar the wiki page stated \" Zipf's law states that given some corpus of natural language utterances, the frequency of any word is inversely proportional to its rank in the frequency table. \". The plot is approximately a negatively sloped linear line\n"
   ]
  },
  {
   "cell_type": "markdown",
   "metadata": {},
   "source": [
    "***\n",
    "### Problem 2: Computing Sample Statistics with mrjob (6 points)\n",
    "#### 2.1:\n",
    "Write a mrjob program called **mr_summary_stats.py** that takes as input a sequence\n",
    "of (label,value) pairs like in the file at http://www-personal.umich.edu/~klevin/teaching/Winter2019/STATS507/populations_small.txt, and outputs a collection of (label, number of samples, mean, variance) 4-tuples, in which one 4-tuple\n",
    "appears for each class label in the data, and the mean and variance are the sample\n",
    "mean and variance, respectively, of all the values for that class label.\n",
    "***"
   ]
  },
  {
   "cell_type": "markdown",
   "metadata": {},
   "source": [
    "#### 2.1 sol:\n",
    "\n",
    "Note that variance can be calculated in below ways for the ease of calculation and mapping $$\n",
    "\\sigma^{2}\n",
    "=\\frac{\\sum X^{2}}{N}-\\mu^{2}\n",
    "$$\n",
    "such mathematical calculation is rendered in the py file under second reducer\n",
    "\n",
    "**<font color = red>Note: the sample mean is devided by n</font>**"
   ]
  },
  {
   "cell_type": "markdown",
   "metadata": {},
   "source": [
    "lets try out the first mapper which returns the **label, and a list of (#of occurance, value, value squared)**"
   ]
  },
  {
   "cell_type": "code",
   "execution_count": 12,
   "metadata": {},
   "outputs": [
    {
     "name": "stdout",
     "output_type": "stream",
     "text": [
      "0\t[1, 2.0, 4.0]\n",
      "0\t[1, 0.0, 0.0]\n",
      "0\t[1, -2.0, 4.0]\n",
      "1\t[1, 10.0, 100.0]\n",
      "1\t[1, 10.0, 100.0]\n",
      "1\t[1, 10.0, 100.0]\n",
      "1\t[1, 10.0, 100.0]\n",
      "2\t[1, 1.0, 1.0]\n",
      "2\t[1, 3.0, 9.0]\n",
      "2\t[1, 5.0, 25.0]\n",
      "2\t[1, 7.0, 49.0]\n",
      "2\t[1, 9.0, 81.0]\n"
     ]
    }
   ],
   "source": [
    "!python mr_summary_stats.py --mapper --step-num=0 < populations_small.txt"
   ]
  },
  {
   "cell_type": "markdown",
   "metadata": {},
   "source": [
    "#### 2.2:\n",
    "Run the py scripts save output"
   ]
  },
  {
   "cell_type": "markdown",
   "metadata": {},
   "source": [
    "***\n",
    "#### 2.2 sol:\n",
    "The bash run scripts and output of summary_small.txt is shown as below"
   ]
  },
  {
   "cell_type": "code",
   "execution_count": 13,
   "metadata": {},
   "outputs": [
    {
     "name": "stdout",
     "output_type": "stream",
     "text": [
      "No configs found; falling back on auto-configuration\n",
      "No configs specified for inline runner\n",
      "Running step 1 of 2...\n",
      "Creating temp directory /var/folders/qk/9ycrb_xx7xq9lq8ddyqqnpbr0000gn/T/mr_summary_stats.zizhaozhang.20190408.010839.510150\n",
      "reading from STDIN\n",
      "Running step 2 of 2...\n",
      "job output is in /var/folders/qk/9ycrb_xx7xq9lq8ddyqqnpbr0000gn/T/mr_summary_stats.zizhaozhang.20190408.010839.510150/output\n",
      "Streaming final output from /var/folders/qk/9ycrb_xx7xq9lq8ddyqqnpbr0000gn/T/mr_summary_stats.zizhaozhang.20190408.010839.510150/output...\n",
      "Removing temp directory /var/folders/qk/9ycrb_xx7xq9lq8ddyqqnpbr0000gn/T/mr_summary_stats.zizhaozhang.20190408.010839.510150...\n"
     ]
    }
   ],
   "source": [
    "!python mr_summary_stats.py < populations_small.txt > summary_small.txt"
   ]
  },
  {
   "cell_type": "code",
   "execution_count": 14,
   "metadata": {},
   "outputs": [
    {
     "name": "stdout",
     "output_type": "stream",
     "text": [
      "0\t[3, 0.0, 2.6666666666666665]\n",
      "1\t[4, 10.0, 0.0]\n",
      "2\t[5, 5.0, 8.0]\n"
     ]
    }
   ],
   "source": [
    "!cat summary_small.txt"
   ]
  },
  {
   "cell_type": "markdown",
   "metadata": {},
   "source": [
    "#### 2.3:\n",
    "I have uploaded to the Fladoop cluster a much larger data file, located on the\n",
    "HDFS file system at \n",
    "\n",
    "            hdfs:/var/stats507w19/populations_large.txt\n",
    "            \n",
    "Once you are sure that your script is doing what you want, run it on this file. Be sure to use\n",
    "the -r hadoop command to tell mrjob to run on the Hadoop server rather than on\n",
    "the login node. Save the output to a file called summary large.txt."
   ]
  },
  {
   "cell_type": "markdown",
   "metadata": {},
   "source": [
    "***\n",
    "#### 2.3 sol:"
   ]
  },
  {
   "cell_type": "markdown",
   "metadata": {},
   "source": [
    "<font color = red>step1: </font>**below is the command to run on the local bash in the same directory as the notebook file to send the py file**\n",
    "\n",
    "**Note:** directory ~/stats507/zizhaoz_hw8/ already existed in the flux hadoop server"
   ]
  },
  {
   "cell_type": "raw",
   "metadata": {},
   "source": [
    "scp mr_summary_stats.py zizhaoz@flux-hadoop-login.arc-ts.umich.edu:~/stats507/zizhaoz_hw8/"
   ]
  },
  {
   "cell_type": "markdown",
   "metadata": {},
   "source": [
    "<font color = red>step2: </font> **below is the command to run on the flux - hadoop server to output the desired result file**"
   ]
  },
  {
   "cell_type": "raw",
   "metadata": {},
   "source": [
    "python mr_summary_stats.py hdfs:///var/stats507w19/populations_large.txt -r hadoop > summary_large.txt"
   ]
  },
  {
   "cell_type": "markdown",
   "metadata": {},
   "source": [
    "**log of the Fladoop shell session is shown as below**"
   ]
  },
  {
   "cell_type": "raw",
   "metadata": {},
   "source": [
    "[zizhaoz@flux-hadoop-login2 zizhaoz_hw8]$ ls\n",
    "darwin_word_counts.txt  mr_summary_stats.py  mr_word_count.py\n",
    "[zizhaoz@flux-hadoop-login2 zizhaoz_hw8]$ vim mr_summary_stats.py\n",
    "[zizhaoz@flux-hadoop-login2 zizhaoz_hw8]$ python mr_summary_stats.py hdfs:///var/stats507w19/populations_large.txt -r hadoop > summary_large.txt\n",
    "Using configs in /etc/mrjob.conf\n",
    "Looking for hadoop binary in $PATH...\n",
    "Found hadoop binary: /usr/bin/hadoop\n",
    "Using Hadoop version 2.7.3.2.6.3.0\n",
    "Looking for Hadoop streaming jar in /home/hadoop/contrib...\n",
    "Looking for Hadoop streaming jar in /usr/lib/hadoop-mapreduce...\n",
    "Found Hadoop streaming jar: /usr/lib/hadoop-mapreduce/hadoop-streaming.jar\n",
    "Creating temp directory /tmp/mr_summary_stats.zizhaoz.20190330.211527.614458\n",
    "Copying local files to hdfs:///user/zizhaoz/tmp/mrjob/mr_summary_stats.zizhaoz.20190330.211527.614458/files/...\n",
    "Running step 1 of 2...\n",
    "  packageJobJar: [] [/usr/hdp/2.6.3.0-235/hadoop-mapreduce/hadoop-streaming-2.7.3.2.6.3.0-235.jar] /tmp/streamjob6554274185002745465.jar tmpDir=null\n",
    "  Connecting to ResourceManager at fladoop-rm01.arc-ts.umich.edu/10.164.5.157:8050\n",
    "  Connecting to Application History server at fladoop-rm01.arc-ts.umich.edu/10.164.5.157:10200\n",
    "  Connecting to ResourceManager at fladoop-rm01.arc-ts.umich.edu/10.164.5.157:8050\n",
    "  Connecting to Application History server at fladoop-rm01.arc-ts.umich.edu/10.164.5.157:10200\n",
    "  Created HDFS_DELEGATION_TOKEN token 129989 for zizhaoz on 10.164.5.158:8020\n",
    "  Got dt for hdfs://fladoop-nn02.arc-ts.umich.edu:8020; Kind: HDFS_DELEGATION_TOKEN, Service: 10.164.5.158:8020, Ident: (HDFS_DELEGATION_TOKEN token 129989 for zizhaoz)\n",
    "  Total input paths to process : 1\n",
    "  Adding a new node: /default-rack/10.164.1.140:1019\n",
    "  Adding a new node: /default-rack/10.164.1.144:1019\n",
    "  Adding a new node: /default-rack/10.164.1.143:1019\n",
    "  Adding a new node: /default-rack/10.164.1.141:1019\n",
    "  Adding a new node: /default-rack/10.164.1.145:1019\n",
    "  Adding a new node: /default-rack/10.164.1.142:1019\n",
    "  number of splits:2\n",
    "  Submitting tokens for job: job_1547074859606_7602\n",
    "  Kind: HDFS_DELEGATION_TOKEN, Service: 10.164.5.158:8020, Ident: (HDFS_DELEGATION_TOKEN token 129989 for zizhaoz)\n",
    "  Timeline service address: http://fladoop-rm01.arc-ts.umich.edu:8188/ws/v1/timeline/\n",
    "  Submitted application application_1547074859606_7602\n",
    "  The url to track the job: http://fladoop-rm01.arc-ts.umich.edu:8088/proxy/application_1547074859606_7602/\n",
    "  Running job: job_1547074859606_7602\n",
    "  Job job_1547074859606_7602 running in uber mode : false\n",
    "   map 0% reduce 0%\n",
    "   map 4% reduce 0%\n",
    "   map 7% reduce 0%\n",
    "   map 9% reduce 0%\n",
    "   map 12% reduce 0%\n",
    "   map 14% reduce 0%\n",
    "   map 16% reduce 0%\n",
    "   map 19% reduce 0%\n",
    "   map 21% reduce 0%\n",
    "   map 23% reduce 0%\n",
    "   map 25% reduce 0%\n",
    "   map 28% reduce 0%\n",
    "   map 30% reduce 0%\n",
    "   map 32% reduce 0%\n",
    "   map 34% reduce 0%\n",
    "   map 37% reduce 0%\n",
    "   map 39% reduce 0%\n",
    "   map 41% reduce 0%\n",
    "   map 43% reduce 0%\n",
    "   map 46% reduce 0%\n",
    "   map 48% reduce 0%\n",
    "   map 50% reduce 0%\n",
    "   map 53% reduce 0%\n",
    "   map 55% reduce 0%\n",
    "   map 57% reduce 0%\n",
    "   map 60% reduce 0%\n",
    "   map 62% reduce 0%\n",
    "   map 63% reduce 0%\n",
    "   map 66% reduce 0%\n",
    "   map 82% reduce 0%\n",
    "   map 83% reduce 0%\n",
    "   map 100% reduce 0%\n",
    "   map 100% reduce 38%\n",
    "   map 100% reduce 56%\n",
    "   map 100% reduce 67%\n",
    "   map 100% reduce 71%\n",
    "   map 100% reduce 74%\n",
    "   map 100% reduce 78%\n",
    "   map 100% reduce 82%\n",
    "   map 100% reduce 85%\n",
    "   map 100% reduce 89%\n",
    "   map 100% reduce 93%\n",
    "   map 100% reduce 94%\n",
    "   map 100% reduce 100%\n",
    "  Job job_1547074859606_7602 completed successfully\n",
    "  Output directory: hdfs:///user/zizhaoz/tmp/mrjob/mr_summary_stats.zizhaoz.20190330.211527.614458/step-output/0000\n",
    "Counters: 49\n",
    "        File Input Format Counters\n",
    "                Bytes Read=153028684\n",
    "        File Output Format Counters\n",
    "                Bytes Written=1336\n",
    "        File System Counters\n",
    "                FILE: Number of bytes read=409729330\n",
    "                FILE: Number of bytes written=819942379\n",
    "                FILE: Number of large read operations=0\n",
    "                FILE: Number of read operations=0\n",
    "                FILE: Number of write operations=0\n",
    "                HDFS: Number of bytes read=153028946\n",
    "                HDFS: Number of bytes written=1336\n",
    "                HDFS: Number of large read operations=0\n",
    "                HDFS: Number of read operations=9\n",
    "                HDFS: Number of write operations=2\n",
    "        Job Counters\n",
    "                Launched map tasks=2\n",
    "                Launched reduce tasks=1\n",
    "                Rack-local map tasks=2\n",
    "                Total megabyte-milliseconds taken by all map tasks=218259456\n",
    "                Total megabyte-milliseconds taken by all reduce tasks=176226304\n",
    "                Total time spent by all map tasks (ms)=106572\n",
    "                Total time spent by all maps in occupied slots (ms)=213144\n",
    "                Total time spent by all reduce tasks (ms)=43024\n",
    "                Total time spent by all reduces in occupied slots (ms)=172096\n",
    "                Total vcore-milliseconds taken by all map tasks=106572\n",
    "                Total vcore-milliseconds taken by all reduce tasks=43024\n",
    "        Map-Reduce Framework\n",
    "                CPU time spent (ms)=161890\n",
    "                Combine input records=0\n",
    "                Combine output records=0\n",
    "                Failed Shuffles=0\n",
    "                GC time elapsed (ms)=884\n",
    "                Input split bytes=262\n",
    "                Map input records=10000000\n",
    "                Map output bytes=389729324\n",
    "                Map output materialized bytes=409729336\n",
    "                Map output records=10000000\n",
    "                Merged Map outputs=2\n",
    "                Physical memory (bytes) snapshot=3762548736\n",
    "                Reduce input groups=25\n",
    "                Reduce input records=10000000\n",
    "                Reduce output records=25\n",
    "                Reduce shuffle bytes=409729336\n",
    "                Shuffled Maps =2\n",
    "                Spilled Records=20000000\n",
    "                Total committed heap usage (bytes)=4145545216\n",
    "                Virtual memory (bytes) snapshot=13208784896\n",
    "        Shuffle Errors\n",
    "                BAD_ID=0\n",
    "                CONNECTION=0\n",
    "                IO_ERROR=0\n",
    "                WRONG_LENGTH=0\n",
    "                WRONG_MAP=0\n",
    "                WRONG_REDUCE=0\n",
    "Running step 2 of 2...\n",
    "  packageJobJar: [] [/usr/hdp/2.6.3.0-235/hadoop-mapreduce/hadoop-streaming-2.7.3.2.6.3.0-235.jar] /tmp/streamjob6647473286410324877.jar tmpDir=null\n",
    "  Connecting to ResourceManager at fladoop-rm01.arc-ts.umich.edu/10.164.5.157:8050\n",
    "  Connecting to Application History server at fladoop-rm01.arc-ts.umich.edu/10.164.5.157:10200\n",
    "  Connecting to ResourceManager at fladoop-rm01.arc-ts.umich.edu/10.164.5.157:8050\n",
    "  Connecting to Application History server at fladoop-rm01.arc-ts.umich.edu/10.164.5.157:10200\n",
    "  Created HDFS_DELEGATION_TOKEN token 129991 for zizhaoz on 10.164.5.158:8020\n",
    "  Got dt for hdfs://fladoop-nn02.arc-ts.umich.edu:8020; Kind: HDFS_DELEGATION_TOKEN, Service: 10.164.5.158:8020, Ident: (HDFS_DELEGATION_TOKEN token 129991 for zizhaoz)\n",
    "  Total input paths to process : 1\n",
    "  number of splits:2\n",
    "  Submitting tokens for job: job_1547074859606_7604\n",
    "  Kind: HDFS_DELEGATION_TOKEN, Service: 10.164.5.158:8020, Ident: (HDFS_DELEGATION_TOKEN token 129991 for zizhaoz)\n",
    "  Timeline service address: http://fladoop-rm01.arc-ts.umich.edu:8188/ws/v1/timeline/\n",
    "  Submitted application application_1547074859606_7604\n",
    "  The url to track the job: http://fladoop-rm01.arc-ts.umich.edu:8088/proxy/application_1547074859606_7604/\n",
    "  Running job: job_1547074859606_7604\n",
    "  Job job_1547074859606_7604 running in uber mode : false\n",
    "   map 0% reduce 0%\n",
    "   map 100% reduce 0%\n",
    "  Job job_1547074859606_7604 completed successfully\n",
    "  Output directory: hdfs:///user/zizhaoz/tmp/mrjob/mr_summary_stats.zizhaoz.20190330.211527.614458/output\n",
    "Counters: 31\n",
    "        File Input Format Counters\n",
    "                Bytes Read=2004\n",
    "        File Output Format Counters\n",
    "                Bytes Written=1147\n",
    "        File System Counters\n",
    "                FILE: Number of bytes read=0\n",
    "                FILE: Number of bytes written=321748\n",
    "                FILE: Number of large read operations=0\n",
    "                FILE: Number of read operations=0\n",
    "                FILE: Number of write operations=0\n",
    "                HDFS: Number of bytes read=2390\n",
    "                HDFS: Number of bytes written=1147\n",
    "                HDFS: Number of large read operations=0\n",
    "                HDFS: Number of read operations=10\n",
    "                HDFS: Number of write operations=4\n",
    "        Job Counters\n",
    "                Data-local map tasks=1\n",
    "                Launched map tasks=2\n",
    "                Rack-local map tasks=1\n",
    "                Total megabyte-milliseconds taken by all map tasks=22276096\n",
    "                Total time spent by all map tasks (ms)=10877\n",
    "                Total time spent by all maps in occupied slots (ms)=21754\n",
    "                Total time spent by all reduces in occupied slots (ms)=0\n",
    "                Total vcore-milliseconds taken by all map tasks=10877\n",
    "        Map-Reduce Framework\n",
    "                CPU time spent (ms)=1670\n",
    "                Failed Shuffles=0\n",
    "                GC time elapsed (ms)=82\n",
    "                Input split bytes=386\n",
    "                Map input records=25\n",
    "                Map output records=25\n",
    "                Merged Map outputs=0\n",
    "                Physical memory (bytes) snapshot=506994688\n",
    "                Spilled Records=0\n",
    "                Total committed heap usage (bytes)=573571072\n",
    "                Virtual memory (bytes) snapshot=7598120960\n",
    "job output is in hdfs:///user/zizhaoz/tmp/mrjob/mr_summary_stats.zizhaoz.20190330.211527.614458/output\n",
    "Streaming final output from hdfs:///user/zizhaoz/tmp/mrjob/mr_summary_stats.zizhaoz.20190330.211527.614458/output...\n",
    "Removing HDFS temp directory hdfs:///user/zizhaoz/tmp/mrjob/mr_summary_stats.zizhaoz.20190330.211527.614458...\n",
    "Removing temp directory /tmp/mr_summary_stats.zizhaoz.20190330.211527.614458...\n",
    "[zizhaoz@flux-hadoop-login2 zizhaoz_hw8]$ ls\n",
    "darwin_word_counts.txt  mr_summary_stats.py  mr_word_count.py  summary_large.txt"
   ]
  },
  {
   "cell_type": "markdown",
   "metadata": {},
   "source": [
    "<font color = red>step3: </font> **below is the command to run on the local bash in the same directory as the notebook file to retrive the result file**"
   ]
  },
  {
   "cell_type": "raw",
   "metadata": {},
   "source": [
    "scp zizhaoz@flux-hadoop-login.arc-ts.umich.edu:~/stats507/zizhaoz_hw8/summary_large.txt ."
   ]
  },
  {
   "cell_type": "markdown",
   "metadata": {},
   "source": [
    "#### the locally retrived summary_large.txt is cat as below"
   ]
  },
  {
   "cell_type": "code",
   "execution_count": 15,
   "metadata": {},
   "outputs": [
    {
     "name": "stdout",
     "output_type": "stream",
     "text": [
      "0\t[862338,9.8723876989,88876649.9762566537]\n",
      "1\t[452810,-18.5601023777,93247482.7903822213]\n",
      "10\t[17310,98.4633204592,108084209.9447235465]\n",
      "11\t[897044,-9.164971808,83932099.4666945338]\n",
      "12\t[222066,-5.5062780164,80631434.9451120943]\n",
      "13\t[158627,44.1673229575,102056021.735591501]\n",
      "14\t[873568,20.4287172296,102647242.9599751383]\n",
      "15\t[17016,144.5863449707,78999640.0529580861]\n",
      "16\t[678390,17.0399901669,83348553.4643739313]\n",
      "17\t[145306,-3.2899699519,69866385.3784090281]\n",
      "18\t[134370,-14.5280964438,105645041.2298437655]\n",
      "19\t[229768,-3.3207148817,91850219.0803911239]\n",
      "2\t[105548,-15.2362230833,83553366.6341636181]\n",
      "20\t[676289,0.3219578656,102028374.4676386863]\n",
      "21\t[1146955,28.0316962742,65361314.7443429008]\n",
      "22\t[490487,6.2740169363,75418085.9576252997]\n",
      "23\t[223434,-2.9732090622,97484417.2359191328]\n",
      "24\t[112730,71.0843919881,103876466.2121580988]\n",
      "3\t[358093,0.6398833915,109463481.4812636077]\n",
      "4\t[137728,-21.6628919329,76603243.7971047461]\n",
      "5\t[223385,24.3867215747,127109022.55292283]\n",
      "6\t[1081245,15.9633708407,88374442.4970653802]\n",
      "7\t[341522,-41.021803702,117405452.4690739661]\n",
      "8\t[300539,25.9783215635,87148464.7218444496]\n",
      "9\t[113432,12.3038561143,104967969.1741923541]\n"
     ]
    }
   ],
   "source": [
    "if os.path.isfile('./summary_large.txt'):\n",
    "    !cat summary_large.txt"
   ]
  },
  {
   "cell_type": "markdown",
   "metadata": {},
   "source": [
    "#### 2.4:\n",
    "Use matplotlib and the results in summary_large.txt to create a plot displaying\n",
    "95% confidence intervals for the sample means of the populations given by the class\n",
    "labels in file \n",
    "        \n",
    "        hdfs:/var/stats507w19/populations large.txt.\n",
    "***\n",
    "#### 2.4 sol: plot the 95% CI Barplot and save it to a pdf file"
   ]
  },
  {
   "cell_type": "code",
   "execution_count": 16,
   "metadata": {},
   "outputs": [
    {
     "data": {
      "image/png": "[encoded data removed]",
      "text/plain": [
       "<Figure size 648x648 with 1 Axes>"
      ]
     },
     "metadata": {
      "needs_background": "light"
     },
     "output_type": "display_data"
    }
   ],
   "source": [
    "pic = plt.figure(figsize=(9,9))\n",
    "label,number, mean, var = [],[],[],[]\n",
    "if os.path.isfile('./summary_large.txt'):\n",
    "    file = open('./summary_large.txt')\n",
    "    for line in file:\n",
    "        #store labels\n",
    "        label.append(int(line.strip().split()[0]))\n",
    "        number.append([float(i) for i in line.split()[1][1:-1].split(\",\")][0])\n",
    "        mean.append([float(i) for i in line.split()[1][1:-1].split(\",\")][1])\n",
    "        var.append([float(i) for i in line.split()[1][1:-1].split(\",\")][2])\n",
    "#npndarray for calculation of CI\n",
    "label = np.array(label)\n",
    "number = np.array(number)\n",
    "mean = np.array(mean)\n",
    "var = np.array(var)\n",
    "#use the error plot the 95% CI---> z = 1.96 error chart\n",
    "err = np.sqrt(var/number)\n",
    "plt.xlabel(\"key label\", fontsize = 14)\n",
    "plt.ylabel(\"sample mean\", fontsize = 14)\n",
    "plt.title(\"95% CI of sample mean for each label\", fontsize = 14)\n",
    "plt.errorbar(x = label, y = mean, xerr = 0, yerr = 1.96*err, fmt = \"r*\")\n",
    "_ = plt.show()\n",
    "#save to output pdf\n",
    "pic.savefig('populations.pdf')"
   ]
  },
  {
   "cell_type": "code",
   "execution_count": null,
   "metadata": {},
   "outputs": [],
   "source": []
  },
  {
   "cell_type": "markdown",
   "metadata": {},
   "source": [
    "### Problem 3: Graph Processing: Counting Triangles with PySpark (6 points)"
   ]
  },
  {
   "cell_type": "markdown",
   "metadata": {},
   "source": [
    "#### 3.1: \n",
    "Write a PySpark job that takes the described input and produces a list of all the\n",
    "triangles in the network, one per line. Each triangle should be listed as a spaceseparated line node1 node2 node3, with the entries sorted numerically in ascending\n",
    "order. So, if nodes 2, 5 and 15 form a triangle, the output should include the triple\n",
    "(2,5,15), but not (2,15,5), (15,2,5), etc. Save your script in a file called **ps_fof.py**\n",
    "and include it in your submission\n",
    "\n",
    "***\n",
    "#### 3.1 sol: \n",
    "The desired code scripts is in the file ps_fof.py"
   ]
  },
  {
   "cell_type": "code",
   "execution_count": 18,
   "metadata": {},
   "outputs": [
    {
     "name": "stdout",
     "output_type": "stream",
     "text": [
      "#!/usr/bin/env python3\n",
      "# -*- coding: utf-8 -*-\n",
      "\"\"\"\n",
      "Created on Sat Mar 29 22:45:29 2019\n",
      "\n",
      "@author: zizhao zhang\n",
      "\n",
      "PySpark Job to take the described input and produces a list of all the\n",
      "triangles in the network, one per line\n",
      "\n",
      "allocation set up part is referenced from http://www-personal.umich.edu/~klevin/teaching/Winter2019/STATS507/ps_wordcount.py\n",
      "\n",
      "\"\"\"\n",
      "\n",
      "from pyspark import SparkConf, SparkContext\n",
      "import sys\n",
      "import itertools \n",
      "\n",
      "\n",
      "\n",
      "# This script takes two arguments, an input and output\n",
      "if len(sys.argv) != 3:\n",
      "    print('Usage: ' + sys.argv[0] + ' <in> <out>')\n",
      "    sys.exit(1)\n",
      "inputlocation = sys.argv[1]\n",
      "outputlocation = sys.argv[2]\n",
      "\n",
      "# Set up the configuration and job context\n",
      "conf = SparkConf().setAppName(\"CountTriangles\")\n",
      "sc = SparkContext(conf=conf)\n",
      "\n",
      "# Read in the dataset \n",
      "data = sc.textFile(inputlocation)\n",
      "\n",
      "#define a mapper function\n",
      "def triplets_mapper(line):\n",
      "    '''\n",
      "    mapper for transforming input to output key value pairs\n",
      "    where keys are tuples of friends and value is a count\n",
      "    \n",
      "    '''\n",
      "    line_list = line.split()\n",
      "    #store myself and friends tuple of len(2)\n",
      "    myself_list = []\n",
      "    myself_list.append(int(line_list[0]))\n",
      "    two_friends = itertools.combinations([int(i) for i in line_list[1:]],2)\n",
      "    #return a list of tuple of triangle as key, 1 as value\n",
      "    return [ (tuple(sorted(myself_list + list(i))), 1) for i in two_friends ]\n",
      "\n",
      "\n",
      "# Map the data into key-value paris\n",
      "data_mapped = data.flatMap(triplets_mapper)\n",
      "# Sum up how many times this appears and then filter for the ones more than 2\n",
      "# For their to be a triangle, tuple must \n",
      "data_mapped = data_mapped.reduceByKey(lambda x,y: x+y).filter(lambda x: x[1] >= 2)\n",
      "res = data_mapped.keys().sortBy(lambda x: x)\n",
      "res.map(lambda x: x[0])\n",
      "res.saveAsTextFile(outputlocation)\n",
      "sc.stop()# Let Spark know that the job is done."
     ]
    }
   ],
   "source": [
    "if os.path.isfile('./ps_fof.py'):\n",
    "    !cat ps_fof.py"
   ]
  },
  {
   "cell_type": "markdown",
   "metadata": {},
   "source": [
    "#### 3.2:\n",
    "Test your script on the set of 5 simple files in the HDFS directory\n",
    "\n",
    "    hdfs:/var/stats507w19/fof/friends.simple\n",
    "    \n",
    "which is small enough that you should be able to work out by hand what the correct\n",
    "output is. How many triangles are there? List them in a file called **small_triangle_list.txt**\n",
    "and include it in your submission.\n",
    "***\n",
    "#### 3.2 sol\n",
    "<font color = red>step1: </font>**below is the command to run on the local bash in the same directory as the notebook file to send the py file**\n",
    "\n",
    "**Note:** directory ~/stats507/zizhaoz_hw8/ already existed in the flux hadoop server"
   ]
  },
  {
   "cell_type": "raw",
   "metadata": {},
   "source": [
    "scp ps_fof.py zizhaoz@flux-hadoop-login.arc-ts.umich.edu:~/stats507/zizhaoz_hw8/"
   ]
  },
  {
   "cell_type": "markdown",
   "metadata": {},
   "source": [
    "<font color = red>step2: </font> **below is the command to run on the flux - hadoop server to output the desired result**"
   ]
  },
  {
   "cell_type": "raw",
   "metadata": {},
   "source": [
    "spark-submit --master yarn --queue stats507w19 ps_fof.py /var/stats507w19/fof/friends.simple q3.2"
   ]
  },
  {
   "cell_type": "markdown",
   "metadata": {},
   "source": [
    "**save the file into a txt file by below command:**"
   ]
  },
  {
   "cell_type": "raw",
   "metadata": {},
   "source": [
    "hdfs dfs -cat q3.2/* > small_triangle_list.txt"
   ]
  },
  {
   "cell_type": "markdown",
   "metadata": {},
   "source": [
    "<font color = red>step 3:</font> **transfer the result small_triangle_list.txt back to local**,\n",
    "**below is the command to run on the local bash in the same directory as the notebook file to retrive the result file**"
   ]
  },
  {
   "cell_type": "raw",
   "metadata": {},
   "source": [
    "scp zizhaoz@flux-hadoop-login.arc-ts.umich.edu:~/stats507/zizhaoz_hw8/small_triangle_list.txt ."
   ]
  },
  {
   "cell_type": "code",
   "execution_count": 19,
   "metadata": {},
   "outputs": [
    {
     "name": "stdout",
     "output_type": "stream",
     "text": [
      "(100, 200, 217)\n",
      "(100, 200, 300)\n",
      "(100, 200, 400)\n",
      "(100, 300, 400)\n",
      "(200, 300, 400)\n",
      "(300, 400, 500)\n"
     ]
    }
   ],
   "source": [
    "#show result\n",
    "if os.path.isfile('./small_triangle_list.txt'):\n",
    "    !cat small_triangle_list.txt"
   ]
  },
  {
   "cell_type": "markdown",
   "metadata": {},
   "source": [
    "#### 3.3: \n",
    "Once you are confident that your script is correct, run it on the larger data set, stored\n",
    "on HDFS at \n",
    "\n",
    "    hdfs:/var/stats507w19/fof/friends1000 \n",
    "Save the list of triangles\n",
    "to a file called **big_triangle_list.txt**, and include it in your submission. Don’t\n",
    "forget to include in your notebook file a copy-paste of the commands you used to\n",
    "launch your job along with their outputs."
   ]
  },
  {
   "cell_type": "markdown",
   "metadata": {},
   "source": [
    "***\n",
    "#### 3.3 sol:\n",
    "since the py scripts is already in the hadoop flux hw directory, to get the result, proceeds with following scripts"
   ]
  },
  {
   "cell_type": "markdown",
   "metadata": {},
   "source": [
    "<font color = red>step2: </font> **below is the command to run on the flux - hadoop server(in dir where the py script is) to output the desired result**"
   ]
  },
  {
   "cell_type": "raw",
   "metadata": {},
   "source": [
    "spark-submit --master yarn --queue stats507w19 ps_fof.py /var/stats507w19/fof/friends1000 q3.3"
   ]
  },
  {
   "cell_type": "markdown",
   "metadata": {},
   "source": [
    "below is a copy paste result from the hadoop server"
   ]
  },
  {
   "cell_type": "raw",
   "metadata": {},
   "source": [
    "[zizhaoz@flux-hadoop-login2 zizhaoz_hw8]$ hdfs dfs -ls\n",
    "Found 6 items\n",
    "drwx------   - zizhaoz hdfs          0 2019-04-01 02:39 .Trash\n",
    "drwxr-xr-x   - zizhaoz hdfs          0 2019-04-01 04:05 .sparkStaging\n",
    "drwx------   - zizhaoz hdfs          0 2019-03-30 17:17 .staging\n",
    "drwxr-xr-x   - zizhaoz hdfs          0 2019-04-01 03:41 q3.2\n",
    "drwxr-xr-x   - zizhaoz hdfs          0 2019-04-01 04:05 q3.3\n",
    "drwxr-xr-x   - zizhaoz hdfs          0 2019-03-26 00:35 tmp"
   ]
  },
  {
   "cell_type": "markdown",
   "metadata": {},
   "source": [
    "**save the file into a txt file by below command:**"
   ]
  },
  {
   "cell_type": "raw",
   "metadata": {},
   "source": [
    "hdfs dfs -cat q3.3/* > big_triangle_list.txt"
   ]
  },
  {
   "cell_type": "markdown",
   "metadata": {},
   "source": [
    "all files in the hw dir"
   ]
  },
  {
   "cell_type": "raw",
   "metadata": {},
   "source": [
    "[zizhaoz@flux-hadoop-login2 zizhaoz_hw8]$ hdfs dfs -cat q3.3/* > big_triangle_list.txt\n",
    "[zizhaoz@flux-hadoop-login2 zizhaoz_hw8]$ ls -l\n",
    "total 3728\n",
    "-rw-r--r-- 1 zizhaoz statistics 2255277 Apr  1 04:08 big_triangle_list.txt\n",
    "-rw-r--r-- 1 zizhaoz statistics  116538 Mar 30 17:14 darwin_word_counts.txt\n",
    "-rw-r--r-- 1 zizhaoz statistics    2238 Mar 30 17:15 mr_summary_stats.py\n",
    "-rw-r--r-- 1 zizhaoz statistics    1054 Mar 26 01:28 mr_word_count.py\n",
    "-rw-r--r-- 1 zizhaoz statistics    1791 Apr  1 03:43 ps_fof.py\n",
    "-rw-r--r-- 1 zizhaoz statistics      96 Apr  1 03:44 small_triangle_list.txt\n",
    "-rw-r--r-- 1 zizhaoz statistics    1147 Mar 30 17:18 summary_large.txt"
   ]
  },
  {
   "cell_type": "markdown",
   "metadata": {},
   "source": [
    "<font color = red>step 3:</font> **transfer the result big_triangle_list.txt back to local**,\n",
    "**below is the command to run on the local bash in the same directory as the notebook file to retrive the result file**"
   ]
  },
  {
   "cell_type": "raw",
   "metadata": {},
   "source": [
    "scp zizhaoz@flux-hadoop-login.arc-ts.umich.edu:~/stats507/zizhaoz_hw8/big_triangle_list.txt ."
   ]
  },
  {
   "cell_type": "markdown",
   "metadata": {},
   "source": [
    "**show the first 5 lines of the file**"
   ]
  },
  {
   "cell_type": "code",
   "execution_count": 20,
   "metadata": {},
   "outputs": [],
   "source": [
    "#show result\n",
    "if os.path.isfile('./big_triangle_list.txt'):\n",
    "    with open('./big_triangle_list.txt') as f:\n",
    "        first_5_lines = f.readlines()[0:5]\n",
    "        first_5_lines = [i.strip() for i in first_5_lines]"
   ]
  },
  {
   "cell_type": "code",
   "execution_count": 21,
   "metadata": {},
   "outputs": [
    {
     "data": {
      "text/plain": [
       "['(0, 7, 74)', '(0, 7, 193)', '(0, 7, 283)', '(0, 7, 332)', '(0, 7, 483)']"
      ]
     },
     "execution_count": 21,
     "metadata": {},
     "output_type": "execute_result"
    }
   ],
   "source": [
    "first_5_lines"
   ]
  },
  {
   "cell_type": "code",
   "execution_count": 22,
   "metadata": {},
   "outputs": [
    {
     "data": {
      "text/plain": [
       "144120"
      ]
     },
     "execution_count": 22,
     "metadata": {},
     "output_type": "execute_result"
    }
   ],
   "source": [
    "len(open('./big_triangle_list.txt').readlines())"
   ]
  },
  {
   "cell_type": "markdown",
   "metadata": {},
   "source": [
    "In fact, there are 144120 triangles "
   ]
  },
  {
   "cell_type": "code",
   "execution_count": null,
   "metadata": {},
   "outputs": [],
   "source": []
  }
 ],
 "metadata": {
  "kernelspec": {
   "display_name": "Python 3",
   "language": "python",
   "name": "python3"
  },
  "language_info": {
   "codemirror_mode": {
    "name": "ipython",
    "version": 3
   },
   "file_extension": ".py",
   "mimetype": "text/x-python",
   "name": "python",
   "nbconvert_exporter": "python",
   "pygments_lexer": "ipython3",
   "version": "3.6.8"
  }
 },
 "nbformat": 4,
 "nbformat_minor": 2
}
