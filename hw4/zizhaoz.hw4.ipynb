{
 "cells": [
  {
   "cell_type": "markdown",
   "metadata": {},
   "source": [
    "## <font color=blue> Stats507-001 , WI 2019</font>\n",
    "### Zizhao Zhang\n",
    "#### zizhaoz@umich.edu\n",
    "***\n",
    "\n",
    "Time spent on problems(hours):   *Problem 1*: 1 , *Problem 2*: 1 *Problem 3*: 1 *Problem 4*: 0.3\n",
    "\n",
    "***\n",
    "\n",
    "Persons discussed idea about: None"
   ]
  },
  {
   "cell_type": "markdown",
   "metadata": {},
   "source": [
    "### Problem 1. Iterators and Generators (4 points)"
   ]
  },
  {
   "cell_type": "markdown",
   "metadata": {},
   "source": [
    "#### 1.1 & 1.2: \n",
    " Define a class **Fibo** of iterators that enumerate the Fibonacci numbers. For the\n",
    "purposes of this problem, the Fibonacci sequence begins 0, 1, 1, 2, 3, . . . , with the\n",
    "n-th Fibonacci number Fn given by the recursive formula Fn = Fn−1 + Fn−2.\n",
    "***\n",
    " Define a class **GenFibo** of iterators that enumerate generalized\n",
    "Fibonacci numbers. Your class should inherit from the Fibo class defined in the\n",
    "previous subproblem"
   ]
  },
  {
   "cell_type": "code",
   "execution_count": 1,
   "metadata": {},
   "outputs": [],
   "source": [
    "class Fibo(object):\n",
    "    def __init__(self):\n",
    "        '''constructor for the class'''\n",
    "        self.a = 0\n",
    "        self.b = 1\n",
    "    ###########iterators and generators################\n",
    "    def __next__(self):\n",
    "        a_record = self.a\n",
    "        (self.a, self.b) = (self.b, self.a + self.b)\n",
    "        return a_record\n",
    "    def __iter__(self):\n",
    "        return(self)"
   ]
  },
  {
   "cell_type": "code",
   "execution_count": 2,
   "metadata": {},
   "outputs": [
    {
     "data": {
      "text/plain": [
       "[0, 1, 1, 2, 3, 5, 8, 13, 21, 34, 55, 89, 144, 233, 377]"
      ]
     },
     "execution_count": 2,
     "metadata": {},
     "output_type": "execute_result"
    }
   ],
   "source": [
    "x = Fibo()\n",
    "[next(x) for _ in range(15)]"
   ]
  },
  {
   "cell_type": "code",
   "execution_count": 3,
   "metadata": {},
   "outputs": [],
   "source": [
    "class GenFibo(Fibo):\n",
    "    '''inheritance from Fibo class'''\n",
    "    def __init__(self, f0 = 0, f1 = 1):\n",
    "        self.a = f0\n",
    "        self.b = f1\n",
    "    ###setter getter to prevent unreasonable change\n",
    "    @property\n",
    "    def a(self):\n",
    "        return self.__a\n",
    "    @property\n",
    "    def b(self):\n",
    "        return self.__b\n",
    "    @a.setter\n",
    "    def a(self,value):\n",
    "        if not isinstance(value,int):\n",
    "            raise TypeError(\"input type int\")\n",
    "        else:\n",
    "            self.__a = value\n",
    "    @b.setter\n",
    "    def b(self,value):\n",
    "        if not isinstance(value,int):\n",
    "            raise TypeError(\"input type int\")\n",
    "        else:\n",
    "            self.__b = value"
   ]
  },
  {
   "cell_type": "code",
   "execution_count": 4,
   "metadata": {},
   "outputs": [
    {
     "name": "stdout",
     "output_type": "stream",
     "text": [
      "[2, 1, 3, 4, 7, 11, 18, 29, 47, 76, 123, 199, 322, 521, 843]\n",
      "[0, 1, 1, 2, 3, 5, 8, 13, 21, 34, 55, 89, 144, 233, 377]\n"
     ]
    }
   ],
   "source": [
    "gen_test = GenFibo(2,1)\n",
    "print([next(gen_test) for _ in range(15)])\n",
    "gen_test = GenFibo()\n",
    "print([next(gen_test) for _ in range(15)])"
   ]
  },
  {
   "cell_type": "markdown",
   "metadata": {},
   "source": [
    "**BELOW is the design with default params set to be 0,1**  <font color = red>Note: I reckon this to be a better solution, since the original \"Fibo1\" class can work on its own to satisify both features mentioned in 1.1 and 1.2, with decorators to check inputs. While leaving GenFibo relatively unnecessary</font>"
   ]
  },
  {
   "cell_type": "code",
   "execution_count": 5,
   "metadata": {},
   "outputs": [],
   "source": [
    "class Fibo1(object):\n",
    "    def __init__(self,a = 0, b = 1):\n",
    "        '''constructor for the class'''\n",
    "        self.a = a\n",
    "        self.b = b\n",
    "    ###########getters and setters for a and b#########\n",
    "    @property\n",
    "    def a(self):\n",
    "        return self.__a\n",
    "    @property\n",
    "    def b(self):\n",
    "        return self.__b\n",
    "    @a.setter\n",
    "    def a(self,val):\n",
    "        if not isinstance(val,int):\n",
    "            raise TypeError(\"two optional inputs should be type int\")\n",
    "        self.__a = val\n",
    "    @b.setter\n",
    "    def b(self,val):\n",
    "        if not isinstance(val,int):\n",
    "            raise TypeError(\"two optional inputs should be type int\")\n",
    "        self.__b = val\n",
    "    ###########iterators and generators################\n",
    "    def __next__(self):\n",
    "        a_record = self.a\n",
    "        (self.__a, self.__b) = (self.__b, self.__a + self.__b)\n",
    "        return a_record\n",
    "    def __iter__(self):\n",
    "        return(self)"
   ]
  },
  {
   "cell_type": "code",
   "execution_count": 6,
   "metadata": {},
   "outputs": [
    {
     "data": {
      "text/plain": [
       "[0, 1, 1, 2, 3, 5, 8, 13, 21, 34, 55, 89, 144, 233, 377]"
      ]
     },
     "execution_count": 6,
     "metadata": {},
     "output_type": "execute_result"
    }
   ],
   "source": [
    "fib_test = Fibo1()\n",
    "[next(fib_test) for _ in range(15)]"
   ]
  },
  {
   "cell_type": "code",
   "execution_count": 7,
   "metadata": {},
   "outputs": [],
   "source": [
    "class GenFibo1(Fibo1):\n",
    "    '''inheritance from the Fibo class'''\n",
    "    def __init__(self, f0 = 0, f1 = 1):\n",
    "        #or Fibo.__init__(self,f0,f1)\n",
    "        super(GenFibo1,self).__init__(f0,f1)"
   ]
  },
  {
   "cell_type": "code",
   "execution_count": 8,
   "metadata": {},
   "outputs": [
    {
     "name": "stdout",
     "output_type": "stream",
     "text": [
      "[2, 1, 3, 4, 7, 11, 18, 29, 47, 76, 123, 199, 322, 521, 843]\n",
      "[0, 1, 1, 2, 3, 5, 8, 13, 21, 34, 55, 89, 144, 233, 377]\n"
     ]
    }
   ],
   "source": [
    "gen_test = GenFibo1(2,1)\n",
    "print([next(gen_test) for i in range(15)])\n",
    "gen_test = GenFibo1()\n",
    "print([next(gen_test) for i in range(15)])"
   ]
  },
  {
   "cell_type": "markdown",
   "metadata": {},
   "source": [
    "#### 1.3:\n",
    " Define a generator **primes** that enumerates the prime numbers. Recall that a prime\n",
    "number is any integer p > 1 whose only divisors are p and 1."
   ]
  },
  {
   "cell_type": "code",
   "execution_count": 2,
   "metadata": {},
   "outputs": [],
   "source": [
    "def primes():\n",
    "    x = 2\n",
    "    while True:\n",
    "        if not any((x%i==0 for i in range(2,x))):\n",
    "            yield x \n",
    "        x +=1"
   ]
  },
  {
   "cell_type": "code",
   "execution_count": 4,
   "metadata": {},
   "outputs": [
    {
     "data": {
      "text/plain": [
       "[2, 3, 5, 7, 11, 13, 17, 19, 23, 29, 31, 37, 41, 43, 47]"
      ]
     },
     "execution_count": 4,
     "metadata": {},
     "output_type": "execute_result"
    }
   ],
   "source": [
    "prime_test = primes()\n",
    "[next(prime_test) for i in range(15)]"
   ]
  },
  {
   "cell_type": "markdown",
   "metadata": {},
   "source": [
    "#### 1.4:\n",
    "Define a generator **ulam** that enumerates the Ulam numbers."
   ]
  },
  {
   "cell_type": "code",
   "execution_count": 49,
   "metadata": {},
   "outputs": [],
   "source": [
    "def check_ulam(nums, target):\n",
    "    add_up = []\n",
    "    for i in range(len(nums)):\n",
    "        if target - nums[i] in nums[i+1:]:\n",
    "            add_up.append(nums[i])\n",
    "    return True if len(add_up)==1 else False"
   ]
  },
  {
   "cell_type": "code",
   "execution_count": 50,
   "metadata": {},
   "outputs": [],
   "source": [
    "def ulam():\n",
    "    yield 1\n",
    "    ulam,x = [1,2],2\n",
    "    while True:\n",
    "        if check_ulam(ulam,x+1):\n",
    "            ulam.append(x+1)\n",
    "            yield ulam[-2]\n",
    "        x += 1"
   ]
  },
  {
   "cell_type": "code",
   "execution_count": 51,
   "metadata": {},
   "outputs": [
    {
     "data": {
      "text/plain": [
       "[1, 2, 3, 4, 6, 8, 11, 13, 16, 18, 26, 28, 36, 38, 47, 48, 53, 57, 62, 69, 72]"
      ]
     },
     "execution_count": 51,
     "metadata": {},
     "output_type": "execute_result"
    }
   ],
   "source": [
    "ulam_test = ulam()\n",
    "[next(ulam_test) for i in range(21)]"
   ]
  },
  {
   "cell_type": "markdown",
   "metadata": {},
   "source": [
    "### Problem 2: List Comprehensions and Generator Expressions (4 points)"
   ]
  },
  {
   "cell_type": "markdown",
   "metadata": {},
   "source": [
    "#### 2.1\n",
    "Write a list comprehension that enumerates the sequence 2n−1 for n = 1, 2, 3, . . . , 20."
   ]
  },
  {
   "cell_type": "code",
   "execution_count": 14,
   "metadata": {},
   "outputs": [
    {
     "data": {
      "text/plain": [
       "[1,\n",
       " 3,\n",
       " 7,\n",
       " 15,\n",
       " 31,\n",
       " 63,\n",
       " 127,\n",
       " 255,\n",
       " 511,\n",
       " 1023,\n",
       " 2047,\n",
       " 4095,\n",
       " 8191,\n",
       " 16383,\n",
       " 32767,\n",
       " 65535,\n",
       " 131071,\n",
       " 262143,\n",
       " 524287,\n",
       " 1048575]"
      ]
     },
     "execution_count": 14,
     "metadata": {},
     "output_type": "execute_result"
    }
   ],
   "source": [
    "pow2minus1 = [2**n-1 for n in range(1,21)]\n",
    "pow2minus1"
   ]
  },
  {
   "cell_type": "markdown",
   "metadata": {},
   "source": [
    "#### 2.2:\n",
    "Write\n",
    "a generator expression that enumerates the Lazy Caterer’s sequence."
   ]
  },
  {
   "cell_type": "code",
   "execution_count": 15,
   "metadata": {},
   "outputs": [],
   "source": [
    "####generator for non-negative number\n",
    "def gen_num():\n",
    "    x = 0\n",
    "    while True:\n",
    "        yield x\n",
    "        x += 1"
   ]
  },
  {
   "cell_type": "code",
   "execution_count": 16,
   "metadata": {},
   "outputs": [],
   "source": [
    "caterer = ((i**2+i+2)/2 for i in gen_num())"
   ]
  },
  {
   "cell_type": "code",
   "execution_count": 17,
   "metadata": {},
   "outputs": [
    {
     "data": {
      "text/plain": [
       "[1.0,\n",
       " 2.0,\n",
       " 4.0,\n",
       " 7.0,\n",
       " 11.0,\n",
       " 16.0,\n",
       " 22.0,\n",
       " 29.0,\n",
       " 37.0,\n",
       " 46.0,\n",
       " 56.0,\n",
       " 67.0,\n",
       " 79.0,\n",
       " 92.0,\n",
       " 106.0,\n",
       " 121.0,\n",
       " 137.0,\n",
       " 154.0,\n",
       " 172.0,\n",
       " 191.0]"
      ]
     },
     "execution_count": 17,
     "metadata": {},
     "output_type": "execute_result"
    }
   ],
   "source": [
    "test_caterer = caterer\n",
    "[next(test_caterer) for i in range(20)]"
   ]
  },
  {
   "cell_type": "markdown",
   "metadata": {},
   "source": [
    "#### 2.3:\n",
    "Write a generator expression that enumerates the tetrahedral numbers\n",
    "**Note:** $$\n",
    "T _ { n } = \\frac { n ( n + 1 ) ( n + 2 ) } { 6 } = \\frac { n ^ { 3 } } { 3 ! }\n",
    "= \\left( \\begin{array} { c } { n + 2 } \\\\ { 3 } \\end{array} \\right)\n",
    "$$"
   ]
  },
  {
   "cell_type": "code",
   "execution_count": 1,
   "metadata": {},
   "outputs": [],
   "source": [
    "####generator for postive number\n",
    "def gen_pos():\n",
    "    x = 1\n",
    "    while True:\n",
    "        yield x\n",
    "        x += 1"
   ]
  },
  {
   "cell_type": "code",
   "execution_count": 2,
   "metadata": {},
   "outputs": [
    {
     "data": {
      "text/plain": [
       "[1.0, 4.0, 10.0, 20.0, 35.0, 56.0, 84.0, 120.0, 165.0, 220.0, 286.0, 364.0]"
      ]
     },
     "execution_count": 2,
     "metadata": {},
     "output_type": "execute_result"
    }
   ],
   "source": [
    "tetra = ((x*(x+1)*(x+2)/6) for x in gen_pos())\n",
    "test_tetrahedral = tetra\n",
    "[next(test_tetrahedral) for i in range(12)]"
   ]
  },
  {
   "cell_type": "markdown",
   "metadata": {},
   "source": [
    "### Problem 3: Map, Filter and Reduce (3 points)"
   ]
  },
  {
   "cell_type": "markdown",
   "metadata": {},
   "source": [
    "#### 3.1: \n",
    "Write a one-line expression that computes the sum of the first 10 even square numbers (starting from 4)"
   ]
  },
  {
   "cell_type": "code",
   "execution_count": 11,
   "metadata": {},
   "outputs": [
    {
     "data": {
      "text/plain": [
       "1540"
      ]
     },
     "execution_count": 11,
     "metadata": {},
     "output_type": "execute_result"
    }
   ],
   "source": [
    "from functools import reduce\n",
    "sum_of_even_squares = reduce(lambda x,y: x+y,[x**2 for x in range(2,22,2)])\n",
    "sum_of_even_squares"
   ]
  },
  {
   "cell_type": "code",
   "execution_count": 21,
   "metadata": {},
   "outputs": [
    {
     "data": {
      "text/plain": [
       "1540"
      ]
     },
     "execution_count": 21,
     "metadata": {},
     "output_type": "execute_result"
    }
   ],
   "source": [
    "sum([x**2 for x in range(2,22,2)])"
   ]
  },
  {
   "cell_type": "code",
   "execution_count": 19,
   "metadata": {},
   "outputs": [
    {
     "data": {
      "text/plain": [
       "[16, 36, 64, 100, 144, 196, 256, 324, 400, 484]"
      ]
     },
     "execution_count": 19,
     "metadata": {},
     "output_type": "execute_result"
    }
   ],
   "source": [
    "[(x*2)**2 for x in range(2,12)]"
   ]
  },
  {
   "cell_type": "markdown",
   "metadata": {},
   "source": [
    "#### 3.2：\n",
    "Write a one-line expression that computes the product of the first 13 prime"
   ]
  },
  {
   "cell_type": "markdown",
   "metadata": {},
   "source": [
    "**USING generator from above**"
   ]
  },
  {
   "cell_type": "code",
   "execution_count": 21,
   "metadata": {},
   "outputs": [
    {
     "data": {
      "text/plain": [
       "304250263527210"
      ]
     },
     "execution_count": 21,
     "metadata": {},
     "output_type": "execute_result"
    }
   ],
   "source": [
    "####use generator above#########\n",
    "from functools import reduce\n",
    "reduce_p13 = primes()\n",
    "############calculate sum########\n",
    "product_of_primes = reduce(lambda x, y: x * y, [next(reduce_p13) for i in range(13)])\n",
    "product_of_primes"
   ]
  },
  {
   "cell_type": "markdown",
   "metadata": {},
   "source": [
    "#### alternative, but required to know the 13th prime is 41"
   ]
  },
  {
   "cell_type": "code",
   "execution_count": 22,
   "metadata": {},
   "outputs": [
    {
     "data": {
      "text/plain": [
       "304250263527210"
      ]
     },
     "execution_count": 22,
     "metadata": {},
     "output_type": "execute_result"
    }
   ],
   "source": [
    "product_of_primes1 = reduce(lambda x, y: x * y,[x for x in range(2, 42) if not 0 in map(lambda z : x % z, range(2,x))])\n",
    "product_of_primes1"
   ]
  },
  {
   "cell_type": "markdown",
   "metadata": {},
   "source": [
    "#### 3.3:\n",
    "Write a one-line expression that computes the sum of the squares of the first 31\n",
    "prime"
   ]
  },
  {
   "cell_type": "markdown",
   "metadata": {},
   "source": [
    "we can use map to map against a list from the generator"
   ]
  },
  {
   "cell_type": "code",
   "execution_count": 23,
   "metadata": {},
   "outputs": [
    {
     "data": {
      "text/plain": [
       "138834"
      ]
     },
     "execution_count": 23,
     "metadata": {},
     "output_type": "execute_result"
    }
   ],
   "source": [
    "reduce_p31_1 = primes()\n",
    "############calculate sum########\n",
    "squared_primes = reduce(lambda x,y: x+y,map(lambda x: x*x, [next(reduce_p31_1) for _ in range(31)]))\n",
    "squared_primes"
   ]
  },
  {
   "cell_type": "markdown",
   "metadata": {},
   "source": [
    "we can use list comprehension"
   ]
  },
  {
   "cell_type": "code",
   "execution_count": 24,
   "metadata": {},
   "outputs": [
    {
     "data": {
      "text/plain": [
       "138834"
      ]
     },
     "execution_count": 24,
     "metadata": {},
     "output_type": "execute_result"
    }
   ],
   "source": [
    "reduce_p31_2 = primes()\n",
    "reduce(lambda x,y: x+y,(x**2 for x in [next(reduce_p31_2) for _ in range(31)]))"
   ]
  },
  {
   "cell_type": "markdown",
   "metadata": {},
   "source": [
    "#### 3.4:\n",
    "Write a one-line expression that computes a list of the first twenty harmonic numbers.\n",
    "Recall that the n-th harmonic number is given by $$\n",
    "H _ { n } = \\sum _ { k = 1 } ^ { n } 1 / k\n",
    "$$"
   ]
  },
  {
   "cell_type": "markdown",
   "metadata": {},
   "source": [
    "using itertools"
   ]
  },
  {
   "cell_type": "code",
   "execution_count": 25,
   "metadata": {},
   "outputs": [
    {
     "data": {
      "text/plain": [
       "[1,\n",
       " 1.5,\n",
       " 1.8333333333333333,\n",
       " 2.083333333333333,\n",
       " 2.283333333333333,\n",
       " 2.4499999999999997,\n",
       " 2.5928571428571425,\n",
       " 2.7178571428571425,\n",
       " 2.8289682539682537,\n",
       " 2.9289682539682538,\n",
       " 3.0198773448773446,\n",
       " 3.103210678210678,\n",
       " 3.180133755133755,\n",
       " 3.251562326562327,\n",
       " 3.3182289932289937,\n",
       " 3.3807289932289937,\n",
       " 3.439552522640758,\n",
       " 3.4951080781963135,\n",
       " 3.547739657143682,\n",
       " 3.597739657143682]"
      ]
     },
     "execution_count": 25,
     "metadata": {},
     "output_type": "execute_result"
    }
   ],
   "source": [
    "import itertools\n",
    "harmonics = list(itertools.accumulate(range(1,21),lambda x,y:x+1/y))\n",
    "harmonics"
   ]
  },
  {
   "cell_type": "markdown",
   "metadata": {},
   "source": [
    "using list comprehension and map"
   ]
  },
  {
   "cell_type": "code",
   "execution_count": 26,
   "metadata": {},
   "outputs": [
    {
     "data": {
      "text/plain": [
       "[1.0,\n",
       " 1.5,\n",
       " 1.8333333333333333,\n",
       " 2.083333333333333,\n",
       " 2.283333333333333,\n",
       " 2.4499999999999997,\n",
       " 2.5928571428571425,\n",
       " 2.7178571428571425,\n",
       " 2.8289682539682537,\n",
       " 2.9289682539682538,\n",
       " 3.0198773448773446,\n",
       " 3.103210678210678,\n",
       " 3.180133755133755,\n",
       " 3.251562326562327,\n",
       " 3.3182289932289937,\n",
       " 3.3807289932289937,\n",
       " 3.439552522640758,\n",
       " 3.4951080781963135,\n",
       " 3.547739657143682,\n",
       " 3.597739657143682]"
      ]
     },
     "execution_count": 26,
     "metadata": {},
     "output_type": "execute_result"
    }
   ],
   "source": [
    "harmonics1 = [reduce(lambda x,y: x+y,list(map(lambda x: 1/x,[a for a in range(1,21)]))[0: i+1]) for i in range(20)]\n",
    "harmonics1"
   ]
  },
  {
   "cell_type": "markdown",
   "metadata": {},
   "source": [
    "#### 3.5: \n",
    "Write a one-line expression that computes the geometric mean of the first 12 tetrahedral number, where geometric mean --->$$\n",
    "\\left( \\prod _ { i = 1 } ^ { n } a _ { i } \\right) ^ { 1 / n }\n",
    "$$"
   ]
  },
  {
   "cell_type": "markdown",
   "metadata": {},
   "source": [
    "using reduce"
   ]
  },
  {
   "cell_type": "code",
   "execution_count": 33,
   "metadata": {},
   "outputs": [
    {
     "data": {
      "text/plain": [
       "44.4646678699531"
      ]
     },
     "execution_count": 33,
     "metadata": {},
     "output_type": "execute_result"
    }
   ],
   "source": [
    "from functools import reduce\n",
    "tetra_geom = reduce(lambda x,y: x*y, [(x*(x+1)*(x+2)/6) for x in range(1,13)])**(1.0/12)\n",
    "tetra_geom"
   ]
  },
  {
   "cell_type": "markdown",
   "metadata": {},
   "source": [
    "using generator above"
   ]
  },
  {
   "cell_type": "code",
   "execution_count": 34,
   "metadata": {},
   "outputs": [
    {
     "data": {
      "text/plain": [
       "44.4646678699531"
      ]
     },
     "execution_count": 34,
     "metadata": {},
     "output_type": "execute_result"
    }
   ],
   "source": [
    "tetrahedral = ((x*(x+1)*(x+2)/6) for x in gen_pos())\n",
    "tetra = tetrahedral\n",
    "reduce(lambda x,y: x*y, [next(tetra) for i in range(12)])**(1.0/12)"
   ]
  },
  {
   "cell_type": "markdown",
   "metadata": {},
   "source": [
    "### Problem 4: Fun with Polynomials (4 points)"
   ]
  },
  {
   "cell_type": "markdown",
   "metadata": {},
   "source": [
    "#### 4.1:\n",
    "Write a function **make_poly** that takes a list of numbers (ints and/or floats) coeffs\n",
    "as its only argument and returns a function p. The list coeffs encodes the coefficients of a polynomial$$\n",
    "p ( x ) = a _ { 0 } + a _ { 1 } x + a _ { 2 } x ^ { 2 } + \\cdots + a _ { n } x ^ { n }\n",
    "$$\n",
    ", with ai given by\n",
    "coeffs[i]. The function p should take a single number (int or float) x as its argument, and return the value of the polynomial p evaluated at x."
   ]
  },
  {
   "cell_type": "code",
   "execution_count": 6,
   "metadata": {},
   "outputs": [],
   "source": [
    "def make_poly(coeffs):\n",
    "    def p(x):\n",
    "        return sum([coeffs[i]*(x**i) for i in range(len(coeffs))])\n",
    "    return p"
   ]
  },
  {
   "cell_type": "code",
   "execution_count": 8,
   "metadata": {},
   "outputs": [
    {
     "data": {
      "text/plain": [
       "129"
      ]
     },
     "execution_count": 8,
     "metadata": {},
     "output_type": "execute_result"
    }
   ],
   "source": [
    "make_poly([1,2,3,4,5])(2)"
   ]
  },
  {
   "cell_type": "markdown",
   "metadata": {},
   "source": [
    "#### 4.2:\n",
    "\n",
    "Write a function **eval_poly** that takes two lists of numbers (ints and/or floats),\n",
    "coeffs and args. coeffs encodes the coefficients of polynomial p, and your function\n",
    "should return the list of numbers (ints and/or floats) representing the result of\n",
    "evaluating the polynomial p on each of the elements in args, in order. You should\n",
    "be able to express the solution to this problem in a single line (not including the\n",
    "function definition header, of course). Your function should make use of make_poly\n",
    "from the previous part to receive full credit."
   ]
  },
  {
   "cell_type": "code",
   "execution_count": 37,
   "metadata": {},
   "outputs": [],
   "source": [
    "def eval_poly(coeffs,args):\n",
    "    return [make_poly(coeffs)(i) for i in args]"
   ]
  },
  {
   "cell_type": "code",
   "execution_count": 38,
   "metadata": {},
   "outputs": [
    {
     "data": {
      "text/plain": [
       "[15, 129, 547]"
      ]
     },
     "execution_count": 38,
     "metadata": {},
     "output_type": "execute_result"
    }
   ],
   "source": [
    "eval_poly([1,2,3,4,5],[1,2,3])"
   ]
  },
  {
   "cell_type": "code",
   "execution_count": null,
   "metadata": {},
   "outputs": [],
   "source": []
  },
  {
   "cell_type": "code",
   "execution_count": null,
   "metadata": {},
   "outputs": [],
   "source": []
  },
  {
   "cell_type": "code",
   "execution_count": null,
   "metadata": {},
   "outputs": [],
   "source": []
  }
 ],
 "metadata": {
  "kernelspec": {
   "display_name": "Python 3",
   "language": "python",
   "name": "python3"
  },
  "language_info": {
   "codemirror_mode": {
    "name": "ipython",
    "version": 3
   },
   "file_extension": ".py",
   "mimetype": "text/x-python",
   "name": "python",
   "nbconvert_exporter": "python",
   "pygments_lexer": "ipython3",
   "version": "3.6.5"
  }
 },
 "nbformat": 4,
 "nbformat_minor": 2
}
